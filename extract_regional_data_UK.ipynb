{
 "cells": [
  {
   "cell_type": "markdown",
   "metadata": {},
   "source": [
    "# Exploring Air Quality Data\n",
    "\n",
    "Exploring some air quality data, and methods for cutting it to shapefiles of principal urban areas (PUAs).\n",
    "\n",
    "## Setup"
   ]
  },
  {
   "cell_type": "code",
   "execution_count": 2,
   "metadata": {},
   "outputs": [],
   "source": [
    "import cartopy.crs as ccrs\n",
    "import cartopy.io.shapereader as shpreader\n",
    "import iris\n",
    "import iris.plot as iplt\n",
    "import iris.quickplot as qplt\n",
    "import matplotlib.pyplot as plt\n",
    "import numpy as np\n",
    "import pandas as pd\n",
    "import dask.dataframe as dd\n",
    "\n",
    "import os\n",
    "import sys\n",
    "import glob\n",
    "\n",
    "import shape_utils as shape"
   ]
  },
  {
   "cell_type": "markdown",
   "metadata": {},
   "source": [
    "### Load Data"
   ]
  },
  {
   "cell_type": "code",
   "execution_count": 3,
   "metadata": {},
   "outputs": [
    {
     "name": "stdout",
     "output_type": "stream",
     "text": [
      "['sh_max', 'sh_mean', 'sh_min', 'sw_max', 'sw_mean', 't1o5m_max', 't1o5m_mean', 't1o5m_min']\n",
      "91\n"
     ]
    }
   ],
   "source": [
    "folder = '/data/covid19-response-blob/data_nc_daily/'\n",
    "filepaths = {path: glob.glob(os.path.join(folder, path, '*.nc')) for path in os.listdir(folder)}\n",
    "params = list(filepaths.keys())\n",
    "\n",
    "print(params)\n",
    "print(len(filepaths[params[0]]))"
   ]
  },
  {
   "cell_type": "code",
   "execution_count": 27,
   "metadata": {},
   "outputs": [
    {
     "name": "stdout",
     "output_type": "stream",
     "text": [
      "0: specific_humidity / (1)             (time: 91; latitude: 1920; longitude: 2560)\n",
      "1: specific_humidity / (1)             (time: 91; latitude: 1920; longitude: 2560)\n",
      "2: specific_humidity / (1)             (time: 91; latitude: 1920; longitude: 2560)\n",
      "3: m01s01i202 / (1)                    (time: 91; latitude: 1920; longitude: 2560)\n",
      "4: m01s01i202 / (1)                    (time: 91; latitude: 1920; longitude: 2560)\n",
      "5: air_temperature / (K)               (time: 91; latitude: 1920; longitude: 2560)\n",
      "6: air_temperature / (K)               (time: 91; latitude: 1920; longitude: 2560)\n",
      "7: air_temperature / (K)               (time: 91; latitude: 1920; longitude: 2560)\n",
      "CPU times: user 57.8 s, sys: 3.12 s, total: 1min\n",
      "Wall time: 5min 16s\n"
     ]
    }
   ],
   "source": [
    "%%time\n",
    "cubes = iris.cube.CubeList([])\n",
    "\n",
    "for param in params:\n",
    "    cubes.extend(iris.load(filepaths[param]))\n",
    "    \n",
    "print(cubes)"
   ]
  },
  {
   "cell_type": "code",
   "execution_count": 28,
   "metadata": {},
   "outputs": [
    {
     "name": "stdout",
     "output_type": "stream",
     "text": [
      "0: specific_humidity / (1)             (time: 91; latitude: 160; longitude: 143)\n",
      "1: specific_humidity / (1)             (time: 91; latitude: 160; longitude: 143)\n",
      "2: specific_humidity / (1)             (time: 91; latitude: 160; longitude: 143)\n",
      "3: m01s01i202 / (1)                    (time: 91; latitude: 160; longitude: 143)\n",
      "4: m01s01i202 / (1)                    (time: 91; latitude: 160; longitude: 143)\n",
      "5: air_temperature / (K)               (time: 91; latitude: 160; longitude: 143)\n",
      "6: air_temperature / (K)               (time: 91; latitude: 160; longitude: 143)\n",
      "7: air_temperature / (K)               (time: 91; latitude: 160; longitude: 143)\n"
     ]
    }
   ],
   "source": [
    "uk_cubes = iris.cube.CubeList([cube.intersection(latitude=(48, 63), longitude=(-15, 5)) for cube in cubes])\n",
    "print(uk_cubes)"
   ]
  },
  {
   "cell_type": "code",
   "execution_count": 29,
   "metadata": {},
   "outputs": [
    {
     "data": {
      "text/plain": [
       "GeogCS(6371229.0)"
      ]
     },
     "execution_count": 29,
     "metadata": {},
     "output_type": "execute_result"
    }
   ],
   "source": [
    "CRS = uk_cubes[0].coord_system()\n",
    "CRS"
   ]
  },
  {
   "cell_type": "code",
   "execution_count": 5,
   "metadata": {},
   "outputs": [
    {
     "data": {
      "text/html": [
       "\n",
       "<style>\n",
       "  a.iris {\n",
       "      text-decoration: none !important;\n",
       "  }\n",
       "  table.iris {\n",
       "      white-space: pre;\n",
       "      border: 1px solid;\n",
       "      border-color: #9c9c9c;\n",
       "      font-family: monaco, monospace;\n",
       "  }\n",
       "  th.iris {\n",
       "      background: #303f3f;\n",
       "      color: #e0e0e0;\n",
       "      border-left: 1px solid;\n",
       "      border-color: #9c9c9c;\n",
       "      font-size: 1.05em;\n",
       "      min-width: 50px;\n",
       "      max-width: 125px;\n",
       "  }\n",
       "  tr.iris :first-child {\n",
       "      border-right: 1px solid #9c9c9c !important;\n",
       "  }\n",
       "  td.iris-title {\n",
       "      background: #d5dcdf;\n",
       "      border-top: 1px solid #9c9c9c;\n",
       "      font-weight: bold;\n",
       "  }\n",
       "  .iris-word-cell {\n",
       "      text-align: left !important;\n",
       "      white-space: pre;\n",
       "  }\n",
       "  .iris-subheading-cell {\n",
       "      padding-left: 2em !important;\n",
       "  }\n",
       "  .iris-inclusion-cell {\n",
       "      padding-right: 1em !important;\n",
       "  }\n",
       "  .iris-panel-body {\n",
       "      padding-top: 0px;\n",
       "  }\n",
       "  .iris-panel-title {\n",
       "      padding-left: 3em;\n",
       "  }\n",
       "  .iris-panel-title {\n",
       "      margin-top: 7px;\n",
       "  }\n",
       "</style>\n",
       "<table class=\"iris\" id=\"139860008072272\">\n",
       "    <tr class=\"iris\">\n",
       "<th class=\"iris iris-word-cell\">Air Temperature (K)</th>\n",
       "<th class=\"iris iris-word-cell\">latitude</th>\n",
       "<th class=\"iris iris-word-cell\">longitude</th>\n",
       "</tr>\n",
       "    <tr class=\"iris\">\n",
       "<td class=\"iris-word-cell iris-subheading-cell\">Shape</td>\n",
       "<td class=\"iris iris-inclusion-cell\">1920</td>\n",
       "<td class=\"iris iris-inclusion-cell\">2560</td>\n",
       "</tr>\n",
       "    <tr class=\"iris\">\n",
       "    <td class=\"iris-title iris-word-cell\">Dimension coordinates</td>\n",
       "    <td class=\"iris-title\"></td>\n",
       "    <td class=\"iris-title\"></td>\n",
       "</tr>\n",
       "<tr class=\"iris\">\n",
       "    <td class=\"iris-word-cell iris-subheading-cell\">\tlatitude</td>\n",
       "    <td class=\"iris-inclusion-cell\">x</td>\n",
       "    <td class=\"iris-inclusion-cell\">-</td>\n",
       "</tr>\n",
       "<tr class=\"iris\">\n",
       "    <td class=\"iris-word-cell iris-subheading-cell\">\tlongitude</td>\n",
       "    <td class=\"iris-inclusion-cell\">-</td>\n",
       "    <td class=\"iris-inclusion-cell\">x</td>\n",
       "</tr>\n",
       "<tr class=\"iris\">\n",
       "    <td class=\"iris-title iris-word-cell\">Scalar coordinates</td>\n",
       "    <td class=\"iris-title\"></td>\n",
       "    <td class=\"iris-title\"></td>\n",
       "</tr>\n",
       "<tr class=\"iris\">\n",
       "    <td class=\"iris-word-cell iris-subheading-cell\">\tforecast_period</td>\n",
       "    <td class=\"iris-word-cell\" colspan=\"2\">2.5 hours, bound=(0.0, 5.0) hours</td>\n",
       "</tr>\n",
       "<tr class=\"iris\">\n",
       "    <td class=\"iris-word-cell iris-subheading-cell\">\tforecast_reference_time</td>\n",
       "    <td class=\"iris-word-cell\" colspan=\"2\">2020-01-03 09:00:00, bound=(2020-01-03 00:00:00, 2020-01-03 18:00:00)</td>\n",
       "</tr>\n",
       "<tr class=\"iris\">\n",
       "    <td class=\"iris-word-cell iris-subheading-cell\">\theight</td>\n",
       "    <td class=\"iris-word-cell\" colspan=\"2\">1.5 m</td>\n",
       "</tr>\n",
       "<tr class=\"iris\">\n",
       "    <td class=\"iris-word-cell iris-subheading-cell\">\ttime</td>\n",
       "    <td class=\"iris-word-cell\" colspan=\"2\">2020-01-03 11:30:00, bound=(2020-01-03 00:00:00, 2020-01-03 23:00:00)</td>\n",
       "</tr>\n",
       "<tr class=\"iris\">\n",
       "    <td class=\"iris-title iris-word-cell\">Attributes</td>\n",
       "    <td class=\"iris-title\"></td>\n",
       "    <td class=\"iris-title\"></td>\n",
       "</tr>\n",
       "<tr class=\"iris\">\n",
       "    <td class=\"iris-word-cell iris-subheading-cell\">\tConventions</td>\n",
       "    <td class=\"iris-word-cell\" colspan=\"2\">CF-1.5</td>\n",
       "</tr>\n",
       "<tr class=\"iris\">\n",
       "    <td class=\"iris-word-cell iris-subheading-cell\">\tSTASH</td>\n",
       "    <td class=\"iris-word-cell\" colspan=\"2\">m01s03i236</td>\n",
       "</tr>\n",
       "<tr class=\"iris\">\n",
       "    <td class=\"iris-word-cell iris-subheading-cell\">\tsource</td>\n",
       "    <td class=\"iris-word-cell\" colspan=\"2\">Data from Met Office Unified Model</td>\n",
       "</tr>\n",
       "<tr class=\"iris\">\n",
       "    <td class=\"iris-word-cell iris-subheading-cell\">\tum_version</td>\n",
       "    <td class=\"iris-word-cell\" colspan=\"2\">11.2</td>\n",
       "</tr>\n",
       "<tr class=\"iris\">\n",
       "    <td class=\"iris-title iris-word-cell\">Cell methods</td>\n",
       "    <td class=\"iris-title\"></td>\n",
       "    <td class=\"iris-title\"></td>\n",
       "</tr>\n",
       "<tr class=\"iris\">\n",
       "    <td class=\"iris-word-cell iris-subheading-cell\">\tmaximum</td>\n",
       "    <td class=\"iris-word-cell\" colspan=\"2\">time</td>\n",
       "</tr>\n",
       "</table>\n",
       "        "
      ],
      "text/plain": [
       "<iris 'Cube' of air_temperature / (K) (latitude: 1920; longitude: 2560)>"
      ]
     },
     "execution_count": 5,
     "metadata": {},
     "output_type": "execute_result"
    }
   ],
   "source": [
    "cube = iris.load_cube('/data/covid19-ancillary-data/data_nc_daily/t1o5m_max/t1o5m_max_20200103.nc')\n",
    "cube"
   ]
  },
  {
   "cell_type": "code",
   "execution_count": 6,
   "metadata": {},
   "outputs": [
    {
     "data": {
      "text/plain": [
       "Cell(point=cftime.DatetimeGregorian(2020-01-03 11:30:00), bound=(cftime.DatetimeGregorian(2020-01-03 00:00:00), cftime.DatetimeGregorian(2020-01-03 23:00:00)))"
      ]
     },
     "execution_count": 6,
     "metadata": {},
     "output_type": "execute_result"
    }
   ],
   "source": [
    "cells = [cell for cell in cube.coord('time').cells()]\n",
    "cells[0]"
   ]
  },
  {
   "cell_type": "markdown",
   "metadata": {},
   "source": [
    "### Load shapefile"
   ]
  },
  {
   "cell_type": "code",
   "execution_count": 3,
   "metadata": {},
   "outputs": [],
   "source": [
    "regions_shp = '/data/covid19-response-blob/shapefiles/UK/UK_covid_reporting_regions.shp'\n",
    "regions_reader = shpreader.Reader(regions_shp)"
   ]
  },
  {
   "cell_type": "code",
   "execution_count": 4,
   "metadata": {},
   "outputs": [
    {
     "name": "stdout",
     "output_type": "stream",
     "text": [
      "['Hartlepool', 'Middlesbrough', 'Redcar and Cleveland', 'Stockton-on-Tees', 'Darlington', 'Halton', 'Warrington', 'Blackburn with Darwen', 'Blackpool', 'Kingston upon Hull, City of', 'East Riding of Yorkshire', 'North East Lincolnshire', 'North Lincolnshire', 'York', 'Derby', 'Leicester', 'Rutland', 'Nottingham', 'Herefordshire, County of', 'Telford and Wrekin', 'Stoke-on-Trent', 'Bath and North East Somerset', 'Bristol, City of', 'North Somerset', 'South Gloucestershire', 'Plymouth', 'Torbay', 'Swindon', 'Peterborough', 'Luton', 'Southend-on-Sea', 'Thurrock', 'Medway', 'Bracknell Forest', 'West Berkshire', 'Reading', 'Slough', 'Windsor and Maidenhead', 'Wokingham', 'Milton Keynes', 'Brighton and Hove', 'Portsmouth', 'Southampton', 'Isle of Wight', 'County Durham', 'Cheshire East', 'Cheshire West and Chester', 'Shropshire', 'Cornwall', 'Isles of Scilly', 'Wiltshire', 'Bedford', 'Trafford', 'Central Bedfordshire', 'Northumberland', 'Bournemouth, Christchurch and Poole', 'Dorset', 'Bolton', 'Bury', 'Manchester', 'Oldham', 'Rochdale', 'Salford', 'Stockport', 'Tameside', 'Wigan', 'Knowsley', 'Liverpool', 'St. Helens', 'Sefton', 'Wirral', 'Barnsley', 'Doncaster', 'Rotherham', 'Sheffield', 'Newcastle upon Tyne', 'North Tyneside', 'South Tyneside', 'Sunderland', 'Birmingham', 'Coventry', 'Dudley', 'Sandwell', 'Solihull', 'Walsall', 'Wolverhampton', 'Bradford', 'Calderdale', 'Kirklees', 'Leeds', 'Wakefield', 'Gateshead', 'City of London', 'Barking and Dagenham', 'Barnet', 'Bexley', 'Brent', 'Bromley', 'Camden', 'Croydon', 'Ealing', 'Enfield', 'Greenwich', 'Hackney', 'Hammersmith and Fulham', 'Haringey', 'Harrow', 'Havering', 'Hillingdon', 'Hounslow', 'Islington', 'Kensington and Chelsea', 'Kingston upon Thames', 'Lambeth', 'Lewisham', 'Merton', 'Newham', 'Redbridge', 'Richmond upon Thames', 'Southwark', 'Sutton', 'Tower Hamlets', 'Waltham Forest', 'Wandsworth', 'Westminster', 'Buckinghamshire', 'Cambridgeshire', 'Cumbria', 'Derbyshire', 'Devon', 'East Sussex', 'Essex', 'Gloucestershire', 'Hampshire', 'Hertfordshire', 'Kent', 'Lancashire', 'Leicestershire', 'Lincolnshire', 'Norfolk', 'Northamptonshire', 'North Yorkshire', 'Nottinghamshire', 'Oxfordshire', 'Somerset', 'Staffordshire', 'Suffolk', 'Surrey', 'Warwickshire', 'West Sussex', 'Worcestershire', 'Betsi Cadwaladr University Health Board', 'Powys Teaching Health Board', 'Hywel Dda University Health Board', 'Aneurin Bevan University Health Board', 'Cardiff and Vale University Health Board', 'Cwm Taf Morgannwg University Health Board', 'Swansea Bay University Health Board', 'Antrim and Newtownabbey', 'Armagh City, Banbridge and Craigavon', 'Belfast', 'Causeway Coast and Glens', 'Derry City and Strabane', 'Fermanagh and Omagh', 'Lisburn and Castlereagh', 'Mid and East Antrim', 'Mid Ulster', 'Newry, Mourne and Down', 'Ards and North Down', 'Ayrshire and Arran', 'Borders', 'Dumfries and Galloway', 'Forth Valley', 'Grampian', 'Highland', 'Lothian', 'Orkney', 'Shetland', 'Western Isles', 'Fife', 'Tayside', 'Greater Glasgow and Clyde', 'Lanarkshire']\n"
     ]
    }
   ],
   "source": [
    "region_names = [record.attributes['name'] for record in regions_reader.records()]\n",
    "\n",
    "print(region_names)"
   ]
  },
  {
   "cell_type": "code",
   "execution_count": 5,
   "metadata": {},
   "outputs": [],
   "source": [
    "def get_region_record(shapefile, target, attribute='name'):\n",
    "    '''\n",
    "    Get the geometries for the specified location.\n",
    "    \n",
    "    '''\n",
    "    result = None\n",
    "    for record in shapefile.records():\n",
    "        location = record.attributes[attribute]\n",
    "        if location == target:\n",
    "            result = record\n",
    "            break\n",
    "    if result is None:\n",
    "        emsg = 'Could not find region with name \"{}\".'\n",
    "        raise ValueError(emsg.format(target))\n",
    "    return result"
   ]
  },
  {
   "cell_type": "code",
   "execution_count": 6,
   "metadata": {},
   "outputs": [
    {
     "data": {
      "text/plain": [
       "<Record: <shapely.geometry.multipolygon.MultiPolygon object at 0x7f6b4400bb00>, {'code': 'E08000003', 'name': 'Manchester', 'area': 111895372.049991}, <fields>>"
      ]
     },
     "execution_count": 6,
     "metadata": {},
     "output_type": "execute_result"
    }
   ],
   "source": [
    "region_record = get_region_record(regions_reader, 'Manchester')\n",
    "region_record"
   ]
  },
  {
   "cell_type": "markdown",
   "metadata": {},
   "source": [
    "## Work out which files have been written, and which still have to be"
   ]
  },
  {
   "cell_type": "code",
   "execution_count": 41,
   "metadata": {},
   "outputs": [],
   "source": [
    "csvs = glob.glob('/data/misc/covid-19/regional_data/*.csv')"
   ]
  },
  {
   "cell_type": "code",
   "execution_count": 42,
   "metadata": {},
   "outputs": [
    {
     "data": {
      "text/html": [
       "<div>\n",
       "<style scoped>\n",
       "    .dataframe tbody tr th:only-of-type {\n",
       "        vertical-align: middle;\n",
       "    }\n",
       "\n",
       "    .dataframe tbody tr th {\n",
       "        vertical-align: top;\n",
       "    }\n",
       "\n",
       "    .dataframe thead th {\n",
       "        text-align: right;\n",
       "    }\n",
       "</style>\n",
       "<table border=\"1\" class=\"dataframe\">\n",
       "  <thead>\n",
       "    <tr style=\"text-align: right;\">\n",
       "      <th></th>\n",
       "      <th>region</th>\n",
       "      <th>date</th>\n",
       "      <th>specific_humidity_max (1)</th>\n",
       "      <th>specific_humidity_mean (1)</th>\n",
       "      <th>specific_humidity_min (1)</th>\n",
       "      <th>short_wave_radiation_max (W/m2)</th>\n",
       "      <th>short_wave_radiation_mean (W/m2)</th>\n",
       "      <th>air_temperature_max (K)</th>\n",
       "      <th>air_temperature_mean (K)</th>\n",
       "      <th>air_temperature_min (K)</th>\n",
       "    </tr>\n",
       "  </thead>\n",
       "  <tbody>\n",
       "    <tr>\n",
       "      <th>0</th>\n",
       "      <td>Hampshire</td>\n",
       "      <td>2020-01-01</td>\n",
       "      <td>0.006390</td>\n",
       "      <td>0.005631</td>\n",
       "      <td>0.005040</td>\n",
       "      <td>147.596450</td>\n",
       "      <td>23.381704</td>\n",
       "      <td>281.01580</td>\n",
       "      <td>279.54037</td>\n",
       "      <td>277.95755</td>\n",
       "    </tr>\n",
       "    <tr>\n",
       "      <th>1</th>\n",
       "      <td>Hampshire</td>\n",
       "      <td>2020-01-02</td>\n",
       "      <td>0.007195</td>\n",
       "      <td>0.006580</td>\n",
       "      <td>0.006082</td>\n",
       "      <td>97.277590</td>\n",
       "      <td>15.140271</td>\n",
       "      <td>283.15085</td>\n",
       "      <td>281.94280</td>\n",
       "      <td>280.36322</td>\n",
       "    </tr>\n",
       "    <tr>\n",
       "      <th>2</th>\n",
       "      <td>Hampshire</td>\n",
       "      <td>2020-01-03</td>\n",
       "      <td>0.007592</td>\n",
       "      <td>0.005721</td>\n",
       "      <td>0.004235</td>\n",
       "      <td>194.037430</td>\n",
       "      <td>31.136189</td>\n",
       "      <td>283.74826</td>\n",
       "      <td>280.91147</td>\n",
       "      <td>277.04803</td>\n",
       "    </tr>\n",
       "    <tr>\n",
       "      <th>3</th>\n",
       "      <td>Hampshire</td>\n",
       "      <td>2020-01-04</td>\n",
       "      <td>0.005666</td>\n",
       "      <td>0.005046</td>\n",
       "      <td>0.004283</td>\n",
       "      <td>117.046104</td>\n",
       "      <td>18.044327</td>\n",
       "      <td>280.91030</td>\n",
       "      <td>278.72880</td>\n",
       "      <td>276.05670</td>\n",
       "    </tr>\n",
       "    <tr>\n",
       "      <th>4</th>\n",
       "      <td>Hampshire</td>\n",
       "      <td>2020-01-05</td>\n",
       "      <td>0.005917</td>\n",
       "      <td>0.005553</td>\n",
       "      <td>0.005100</td>\n",
       "      <td>139.915510</td>\n",
       "      <td>22.792992</td>\n",
       "      <td>281.66705</td>\n",
       "      <td>280.22424</td>\n",
       "      <td>279.15433</td>\n",
       "    </tr>\n",
       "    <tr>\n",
       "      <th>...</th>\n",
       "      <td>...</td>\n",
       "      <td>...</td>\n",
       "      <td>...</td>\n",
       "      <td>...</td>\n",
       "      <td>...</td>\n",
       "      <td>...</td>\n",
       "      <td>...</td>\n",
       "      <td>...</td>\n",
       "      <td>...</td>\n",
       "      <td>...</td>\n",
       "    </tr>\n",
       "    <tr>\n",
       "      <th>86</th>\n",
       "      <td>Warwickshire</td>\n",
       "      <td>2020-03-27</td>\n",
       "      <td>0.004211</td>\n",
       "      <td>0.003734</td>\n",
       "      <td>0.003337</td>\n",
       "      <td>565.088560</td>\n",
       "      <td>165.535190</td>\n",
       "      <td>284.58790</td>\n",
       "      <td>278.38306</td>\n",
       "      <td>273.25650</td>\n",
       "    </tr>\n",
       "    <tr>\n",
       "      <th>87</th>\n",
       "      <td>Warwickshire</td>\n",
       "      <td>2020-03-28</td>\n",
       "      <td>0.004639</td>\n",
       "      <td>0.003956</td>\n",
       "      <td>0.003408</td>\n",
       "      <td>511.124020</td>\n",
       "      <td>132.670270</td>\n",
       "      <td>283.10287</td>\n",
       "      <td>278.83084</td>\n",
       "      <td>275.48960</td>\n",
       "    </tr>\n",
       "    <tr>\n",
       "      <th>88</th>\n",
       "      <td>Warwickshire</td>\n",
       "      <td>2020-03-29</td>\n",
       "      <td>0.003657</td>\n",
       "      <td>0.002885</td>\n",
       "      <td>0.002218</td>\n",
       "      <td>472.583340</td>\n",
       "      <td>124.257965</td>\n",
       "      <td>280.05045</td>\n",
       "      <td>277.27072</td>\n",
       "      <td>275.08755</td>\n",
       "    </tr>\n",
       "    <tr>\n",
       "      <th>89</th>\n",
       "      <td>Warwickshire</td>\n",
       "      <td>2020-03-30</td>\n",
       "      <td>0.005152</td>\n",
       "      <td>0.004088</td>\n",
       "      <td>0.002960</td>\n",
       "      <td>352.203770</td>\n",
       "      <td>83.053750</td>\n",
       "      <td>280.93393</td>\n",
       "      <td>277.59485</td>\n",
       "      <td>273.22070</td>\n",
       "    </tr>\n",
       "    <tr>\n",
       "      <th>90</th>\n",
       "      <td>Warwickshire</td>\n",
       "      <td>2020-03-31</td>\n",
       "      <td>0.004537</td>\n",
       "      <td>0.004104</td>\n",
       "      <td>0.003718</td>\n",
       "      <td>410.873380</td>\n",
       "      <td>135.180440</td>\n",
       "      <td>281.78482</td>\n",
       "      <td>279.33260</td>\n",
       "      <td>276.17773</td>\n",
       "    </tr>\n",
       "  </tbody>\n",
       "</table>\n",
       "<p>16471 rows × 10 columns</p>\n",
       "</div>"
      ],
      "text/plain": [
       "          region        date  specific_humidity_max (1)  \\\n",
       "0      Hampshire  2020-01-01                   0.006390   \n",
       "1      Hampshire  2020-01-02                   0.007195   \n",
       "2      Hampshire  2020-01-03                   0.007592   \n",
       "3      Hampshire  2020-01-04                   0.005666   \n",
       "4      Hampshire  2020-01-05                   0.005917   \n",
       "..           ...         ...                        ...   \n",
       "86  Warwickshire  2020-03-27                   0.004211   \n",
       "87  Warwickshire  2020-03-28                   0.004639   \n",
       "88  Warwickshire  2020-03-29                   0.003657   \n",
       "89  Warwickshire  2020-03-30                   0.005152   \n",
       "90  Warwickshire  2020-03-31                   0.004537   \n",
       "\n",
       "    specific_humidity_mean (1)  specific_humidity_min (1)  \\\n",
       "0                     0.005631                   0.005040   \n",
       "1                     0.006580                   0.006082   \n",
       "2                     0.005721                   0.004235   \n",
       "3                     0.005046                   0.004283   \n",
       "4                     0.005553                   0.005100   \n",
       "..                         ...                        ...   \n",
       "86                    0.003734                   0.003337   \n",
       "87                    0.003956                   0.003408   \n",
       "88                    0.002885                   0.002218   \n",
       "89                    0.004088                   0.002960   \n",
       "90                    0.004104                   0.003718   \n",
       "\n",
       "    short_wave_radiation_max (W/m2)  short_wave_radiation_mean (W/m2)  \\\n",
       "0                        147.596450                         23.381704   \n",
       "1                         97.277590                         15.140271   \n",
       "2                        194.037430                         31.136189   \n",
       "3                        117.046104                         18.044327   \n",
       "4                        139.915510                         22.792992   \n",
       "..                              ...                               ...   \n",
       "86                       565.088560                        165.535190   \n",
       "87                       511.124020                        132.670270   \n",
       "88                       472.583340                        124.257965   \n",
       "89                       352.203770                         83.053750   \n",
       "90                       410.873380                        135.180440   \n",
       "\n",
       "    air_temperature_max (K)  air_temperature_mean (K)  air_temperature_min (K)  \n",
       "0                 281.01580                 279.54037                277.95755  \n",
       "1                 283.15085                 281.94280                280.36322  \n",
       "2                 283.74826                 280.91147                277.04803  \n",
       "3                 280.91030                 278.72880                276.05670  \n",
       "4                 281.66705                 280.22424                279.15433  \n",
       "..                      ...                       ...                      ...  \n",
       "86                284.58790                 278.38306                273.25650  \n",
       "87                283.10287                 278.83084                275.48960  \n",
       "88                280.05045                 277.27072                275.08755  \n",
       "89                280.93393                 277.59485                273.22070  \n",
       "90                281.78482                 279.33260                276.17773  \n",
       "\n",
       "[16471 rows x 10 columns]"
      ]
     },
     "execution_count": 42,
     "metadata": {},
     "output_type": "execute_result"
    }
   ],
   "source": [
    "df = dd.read_csv(csvs)\n",
    "df.compute()"
   ]
  },
  {
   "cell_type": "code",
   "execution_count": 43,
   "metadata": {
    "collapsed": true,
    "jupyter": {
     "outputs_hidden": true
    }
   },
   "outputs": [
    {
     "data": {
      "text/plain": [
       "['Hampshire',\n",
       " 'St. Helens',\n",
       " 'Thurrock',\n",
       " 'Swindon',\n",
       " 'Windsor and Maidenhead',\n",
       " 'Leicestershire',\n",
       " 'Bournemouth, Christchurch and Poole',\n",
       " 'Havering',\n",
       " 'Wolverhampton',\n",
       " 'Bedford',\n",
       " 'Southend-on-Sea',\n",
       " 'North Somerset',\n",
       " 'Doncaster',\n",
       " 'Wokingham',\n",
       " 'West Sussex',\n",
       " 'Nottinghamshire',\n",
       " 'Belfast',\n",
       " 'Shropshire',\n",
       " 'Luton',\n",
       " 'Orkney',\n",
       " 'Cheshire East',\n",
       " 'Leeds',\n",
       " 'York',\n",
       " 'Bury',\n",
       " 'Wirral',\n",
       " 'Portsmouth',\n",
       " 'North Tyneside',\n",
       " 'Waltham Forest',\n",
       " 'Dudley',\n",
       " 'Devon',\n",
       " 'Western Isles',\n",
       " 'Stockton-on-Tees',\n",
       " 'County Durham',\n",
       " 'Herefordshire, County of',\n",
       " 'Blackpool',\n",
       " 'Brighton and Hove',\n",
       " 'Liverpool',\n",
       " 'Solihull',\n",
       " 'Walsall',\n",
       " 'Wandsworth',\n",
       " 'Northumberland',\n",
       " 'Trafford',\n",
       " 'Hartlepool',\n",
       " 'Shetland',\n",
       " 'Oldham',\n",
       " 'Highland',\n",
       " 'Camden',\n",
       " 'Stoke-on-Trent',\n",
       " 'Bristol, City of',\n",
       " 'Betsi Cadwaladr University Health Board',\n",
       " 'North Lincolnshire',\n",
       " 'Gateshead',\n",
       " 'Middlesbrough',\n",
       " 'Bradford',\n",
       " 'Hounslow',\n",
       " 'Tameside',\n",
       " 'West Berkshire',\n",
       " 'Halton',\n",
       " 'Blackburn with Darwen',\n",
       " 'Southwark',\n",
       " 'Mid Ulster',\n",
       " 'Barking and Dagenham',\n",
       " 'Nottingham',\n",
       " 'Hackney',\n",
       " 'Isles of Scilly',\n",
       " 'Calderdale',\n",
       " 'Wiltshire',\n",
       " 'Borders',\n",
       " 'Ayrshire and Arran',\n",
       " 'Central Bedfordshire',\n",
       " 'Forth Valley',\n",
       " 'Cornwall',\n",
       " 'Sunderland',\n",
       " 'Tower Hamlets',\n",
       " 'Redbridge',\n",
       " 'North East Lincolnshire',\n",
       " 'Bracknell Forest',\n",
       " 'Slough',\n",
       " 'Birmingham',\n",
       " 'South Tyneside',\n",
       " 'Essex',\n",
       " 'Telford and Wrekin',\n",
       " 'Bromley',\n",
       " 'Salford',\n",
       " 'Redcar and Cleveland',\n",
       " 'Manchester',\n",
       " 'Ards and North Down',\n",
       " 'Rutland',\n",
       " 'Bath and North East Somerset',\n",
       " 'Plymouth',\n",
       " 'Lanarkshire',\n",
       " 'Warrington',\n",
       " 'Norfolk',\n",
       " 'Milton Keynes',\n",
       " 'Reading',\n",
       " 'Stockport',\n",
       " 'Kingston upon Hull, City of',\n",
       " 'Isle of Wight',\n",
       " 'Worcestershire',\n",
       " 'Rotherham',\n",
       " 'Coventry',\n",
       " 'Dorset',\n",
       " 'Newry, Mourne and Down',\n",
       " 'Knowsley',\n",
       " 'Mid and East Antrim',\n",
       " 'Peterborough',\n",
       " 'Westminster',\n",
       " 'Sheffield',\n",
       " 'Greater Glasgow and Clyde',\n",
       " 'East Riding of Yorkshire',\n",
       " 'Bolton',\n",
       " 'Powys Teaching Health Board',\n",
       " 'Armagh City, Banbridge and Craigavon',\n",
       " 'Rochdale',\n",
       " 'Cwm Taf Morgannwg University Health Board',\n",
       " 'Kirklees',\n",
       " 'Cheshire West and Chester',\n",
       " 'Greenwich',\n",
       " 'Wigan',\n",
       " 'Derby',\n",
       " 'North Yorkshire',\n",
       " 'Barnsley',\n",
       " 'South Gloucestershire',\n",
       " 'Newcastle upon Tyne',\n",
       " 'Sandwell',\n",
       " 'Leicester',\n",
       " 'Darlington',\n",
       " 'Fife',\n",
       " 'Medway',\n",
       " 'Wakefield',\n",
       " 'Dumfries and Galloway',\n",
       " 'Southampton',\n",
       " 'Torbay',\n",
       " 'Sefton',\n",
       " 'Northamptonshire',\n",
       " 'Aneurin Bevan University Health Board',\n",
       " 'Antrim and Newtownabbey',\n",
       " 'Barnet',\n",
       " 'Bexley',\n",
       " 'Brent',\n",
       " 'Buckinghamshire',\n",
       " 'Cambridgeshire',\n",
       " 'Cardiff and Vale University Health Board',\n",
       " 'Causeway Coast and Glens',\n",
       " 'Croydon',\n",
       " 'Cumbria',\n",
       " 'Derbyshire',\n",
       " 'Derry City and Strabane',\n",
       " 'Ealing',\n",
       " 'East Sussex',\n",
       " 'Enfield',\n",
       " 'Fermanagh and Omagh',\n",
       " 'Gloucestershire',\n",
       " 'Grampian',\n",
       " 'Hammersmith and Fulham',\n",
       " 'Haringey',\n",
       " 'Harrow',\n",
       " 'Hertfordshire',\n",
       " 'Hillingdon',\n",
       " 'Hywel Dda University Health Board',\n",
       " 'Islington',\n",
       " 'Kent',\n",
       " 'Kingston upon Thames',\n",
       " 'Lambeth',\n",
       " 'Lancashire',\n",
       " 'Lewisham',\n",
       " 'Lincolnshire',\n",
       " 'Lisburn and Castlereagh',\n",
       " 'Lothian',\n",
       " 'Merton',\n",
       " 'Newham',\n",
       " 'Oxfordshire',\n",
       " 'Richmond upon Thames',\n",
       " 'Somerset',\n",
       " 'Staffordshire',\n",
       " 'Suffolk',\n",
       " 'Surrey',\n",
       " 'Sutton',\n",
       " 'Swansea Bay University Health Board',\n",
       " 'Tayside',\n",
       " 'Warwickshire']"
      ]
     },
     "execution_count": 43,
     "metadata": {},
     "output_type": "execute_result"
    }
   ],
   "source": [
    "written = list(df['region'].unique().compute())\n",
    "written"
   ]
  },
  {
   "cell_type": "code",
   "execution_count": 44,
   "metadata": {},
   "outputs": [
    {
     "data": {
      "text/plain": [
       "181"
      ]
     },
     "execution_count": 44,
     "metadata": {},
     "output_type": "execute_result"
    }
   ],
   "source": [
    "len(written)"
   ]
  },
  {
   "cell_type": "code",
   "execution_count": 45,
   "metadata": {},
   "outputs": [
    {
     "data": {
      "text/plain": [
       "2"
      ]
     },
     "execution_count": 45,
     "metadata": {},
     "output_type": "execute_result"
    }
   ],
   "source": [
    "unwritten = list(set(region_names).difference(set(written)))\n",
    "len(unwritten)"
   ]
  },
  {
   "cell_type": "code",
   "execution_count": 47,
   "metadata": {},
   "outputs": [
    {
     "data": {
      "text/plain": [
       "['City of London', 'Kensington and Chelsea']"
      ]
     },
     "execution_count": 47,
     "metadata": {},
     "output_type": "execute_result"
    }
   ],
   "source": [
    "unwritten"
   ]
  },
  {
   "cell_type": "code",
   "execution_count": 46,
   "metadata": {},
   "outputs": [
    {
     "data": {
      "text/plain": [
       "183"
      ]
     },
     "execution_count": 46,
     "metadata": {},
     "output_type": "execute_result"
    }
   ],
   "source": [
    "len(unwritten)+len(written)"
   ]
  },
  {
   "cell_type": "markdown",
   "metadata": {},
   "source": [
    "## Create a pipeline"
   ]
  },
  {
   "cell_type": "code",
   "execution_count": 22,
   "metadata": {},
   "outputs": [],
   "source": [
    "def parse_data_name(cube):\n",
    "    name = cube.name()\n",
    "    method = cube.cell_methods[0].method.replace('imum', '')\n",
    "    units = cube.units\n",
    "    \n",
    "    if name == 'm01s01i202':\n",
    "        name = 'short_wave_radiation'\n",
    "        units = 'W/m2'\n",
    "    \n",
    "    return f'{name}_{method} ({units})'"
   ]
  },
  {
   "cell_type": "code",
   "execution_count": 23,
   "metadata": {},
   "outputs": [],
   "source": [
    "def extract(location):\n",
    "    region = get_region_record(regions_reader, location)\n",
    "    cutter = shape.Shape(region.geometry, region.attributes, coord_system=CRS)\n",
    "    cut_cubes = cutter.extract_subcubes(uk_cubes)\n",
    "#     cubes_col = [cube.collapsed(['latitude','longitude'], iris.analysis.MEAN) for cube in cut_cubes]\n",
    "    return cut_cubes"
   ]
  },
  {
   "cell_type": "code",
   "execution_count": 36,
   "metadata": {},
   "outputs": [],
   "source": [
    "def extract_save(location):\n",
    "    region = get_region_record(regions_reader, location)\n",
    "    cutter = shape.Shape(region.geometry, region.attributes, coord_system=CRS)\n",
    "    cut_cubes = cutter.extract_subcubes(uk_cubes)\n",
    "    cubes_col = {cube.collapsed(['latitude','longitude'], iris.analysis.MEAN) for cube in cut_cubes}\n",
    "    time = cubes_col[0].coord('time')\n",
    "    data = {'region_name': [location]*len(time.points),\n",
    "            'date': [cell.point.date() for cell in time.cells()]}\n",
    "    data.update({parse_data_name(cube): cube.data for cube in cubes_col})\n",
    "\n",
    "    df = pd.DataFrame(data)\n",
    "    print(f'  {location}: Success')\n",
    "    return df"
   ]
  },
  {
   "cell_type": "markdown",
   "metadata": {},
   "source": [
    "## Save dataframe to csv for each location"
   ]
  },
  {
   "cell_type": "code",
   "execution_count": 30,
   "metadata": {},
   "outputs": [
    {
     "name": "stdout",
     "output_type": "stream",
     "text": [
      "0: specific_humidity / (1)             (time: 91; latitude: 160; longitude: 143)\n",
      "1: specific_humidity / (1)             (time: 91; latitude: 160; longitude: 143)\n",
      "2: specific_humidity / (1)             (time: 91; latitude: 160; longitude: 143)\n",
      "3: m01s01i202 / (1)                    (time: 91; latitude: 160; longitude: 143)\n",
      "4: m01s01i202 / (1)                    (time: 91; latitude: 160; longitude: 143)\n",
      "5: air_temperature / (K)               (time: 91; latitude: 160; longitude: 143)\n",
      "6: air_temperature / (K)               (time: 91; latitude: 160; longitude: 143)\n",
      "7: air_temperature / (K)               (time: 91; latitude: 160; longitude: 143)\n"
     ]
    }
   ],
   "source": [
    "print(uk_cubes)"
   ]
  },
  {
   "cell_type": "code",
   "execution_count": 31,
   "metadata": {},
   "outputs": [],
   "source": [
    "import warnings\n",
    "warnings.filterwarnings('ignore')"
   ]
  },
  {
   "cell_type": "code",
   "execution_count": 37,
   "metadata": {
    "collapsed": true,
    "jupyter": {
     "outputs_hidden": true
    }
   },
   "outputs": [
    {
     "name": "stdout",
     "output_type": "stream",
     "text": [
      "x Kensington and Chelsea: Error \n",
      "  x  Cannot collapse a dimension which does not describe any data.\n",
      "  Lothian: Success\n",
      "  Lothian: Success\n",
      "  Cumbria: Success\n",
      "  Cumbria: Success\n",
      "  Derry City and Strabane: Success\n",
      "  Derry City and Strabane: Success\n",
      "  Cardiff and Vale University Health Board: Success\n",
      "  Cardiff and Vale University Health Board: Success\n",
      "  Lambeth: Success\n",
      "  Lambeth: Success\n",
      "  Brent: Success\n",
      "  Brent: Success\n",
      "  Tayside: Success\n",
      "  Tayside: Success\n",
      "  Somerset: Success\n",
      "  Somerset: Success\n",
      "  Fermanagh and Omagh: Success\n",
      "  Fermanagh and Omagh: Success\n",
      "  Gloucestershire: Success\n",
      "  Gloucestershire: Success\n",
      "  Haringey: Success\n",
      "  Haringey: Success\n",
      "  Lisburn and Castlereagh: Success\n",
      "  Lisburn and Castlereagh: Success\n",
      "  Enfield: Success\n",
      "  Enfield: Success\n",
      "  Staffordshire: Success\n",
      "  Staffordshire: Success\n",
      "  Causeway Coast and Glens: Success\n",
      "  Causeway Coast and Glens: Success\n",
      "  Ealing: Success\n",
      "  Ealing: Success\n",
      "  Lewisham: Success\n",
      "  Lewisham: Success\n",
      "  Islington: Success\n",
      "  Islington: Success\n",
      "  Merton: Success\n",
      "  Merton: Success\n",
      "  Antrim and Newtownabbey: Success\n",
      "  Antrim and Newtownabbey: Success\n",
      "  Derbyshire: Success\n",
      "  Derbyshire: Success\n",
      "  Harrow: Success\n",
      "  Harrow: Success\n",
      "  Cambridgeshire: Success\n",
      "  Cambridgeshire: Success\n",
      "  Newham: Success\n",
      "  Newham: Success\n",
      "  Hywel Dda University Health Board: Success\n",
      "  Hywel Dda University Health Board: Success\n",
      "  Hammersmith and Fulham: Success\n",
      "  Hammersmith and Fulham: Success\n",
      "  Warwickshire: Success\n",
      "  Warwickshire: Success\n",
      "  Grampian: Success\n",
      "  Grampian: Success\n",
      "  Barnet: Success\n",
      "  Barnet: Success\n",
      "  Highland: Success\n",
      "  Highland: Success\n",
      "  Worcestershire: Success\n",
      "  Worcestershire: Success\n",
      "  Mid and East Antrim: Success\n",
      "  Mid and East Antrim: Success\n",
      "  Bromley: Success\n",
      "  Bromley: Success\n",
      "  Hampshire: Success\n",
      "  Hampshire: Success\n",
      "  Devon: Success\n",
      "  Devon: Success\n",
      "  Borders: Success\n",
      "  Borders: Success\n",
      "  Wandsworth: Success\n",
      "  Wandsworth: Success\n",
      "  Powys Teaching Health Board: Success\n",
      "  Powys Teaching Health Board: Success\n",
      "  Lanarkshire: Success\n",
      "  Lanarkshire: Success\n",
      "  Ards and North Down: Success\n",
      "  Ards and North Down: Success\n",
      "  Greenwich: Success\n",
      "  Greenwich: Success\n",
      "  Tower Hamlets: Success\n",
      "  Tower Hamlets: Success\n",
      "  Dumfries and Galloway: Success\n",
      "  Dumfries and Galloway: Success\n",
      "  Essex: Success\n",
      "  Essex: Success\n",
      "  Mid Ulster: Success\n",
      "  Mid Ulster: Success\n",
      "  Nottinghamshire: Success\n",
      "  Nottinghamshire: Success\n",
      "  Fife: Success\n",
      "  Fife: Success\n",
      "  Leicestershire: Success\n",
      "  Leicestershire: Success\n",
      "  Redbridge: Success\n",
      "  Redbridge: Success\n",
      "  Shetland: Success\n",
      "  Shetland: Success\n",
      "  Orkney: Success\n",
      "  Orkney: Success\n",
      "  North Yorkshire: Success\n",
      "  North Yorkshire: Success\n",
      "  Ayrshire and Arran: Success\n",
      "  Ayrshire and Arran: Success\n",
      "  West Sussex: Success\n",
      "  West Sussex: Success\n",
      "  Waltham Forest: Success\n",
      "  Waltham Forest: Success\n",
      "  Belfast: Success\n",
      "  Belfast: Success\n",
      "  Armagh City, Banbridge and Craigavon: Success\n",
      "  Armagh City, Banbridge and Craigavon: Success\n",
      "x City of London: Error \n",
      "  x  Cannot collapse a dimension which does not describe any data.\n",
      "  Betsi Cadwaladr University Health Board: Success\n",
      "  Betsi Cadwaladr University Health Board: Success\n",
      "  Newry, Mourne and Down: Success\n",
      "  Newry, Mourne and Down: Success\n",
      "  Hounslow: Success\n",
      "  Hounslow: Success\n",
      "  Havering: Success\n",
      "  Havering: Success\n",
      "  Barking and Dagenham: Success\n",
      "  Barking and Dagenham: Success\n",
      "  Norfolk: Success\n",
      "  Norfolk: Success\n",
      "  Northamptonshire: Success\n",
      "  Northamptonshire: Success\n",
      "  Cwm Taf Morgannwg University Health Board: Success\n",
      "  Cwm Taf Morgannwg University Health Board: Success\n",
      "  Greater Glasgow and Clyde: Success\n",
      "  Greater Glasgow and Clyde: Success\n",
      "  Westminster: Success\n",
      "  Westminster: Success\n",
      "  Camden: Success\n",
      "  Camden: Success\n",
      "  Hackney: Success\n",
      "  Hackney: Success\n",
      "  Forth Valley: Success\n",
      "  Forth Valley: Success\n",
      "CPU times: user 12min 31s, sys: 13min 53s, total: 26min 25s\n",
      "Wall time: 18min 51s\n"
     ]
    }
   ],
   "source": [
    "%%time\n",
    "dfs = []\n",
    "for location in unwritten[17:]:\n",
    "    try:\n",
    "        df = extract_save(location)\n",
    "        dfs.append(df)\n",
    "        fname = location.replace(' ', '_').replace(',','').replace('.','')\n",
    "        df.to_csv(f'/data/misc/covid-19/regional_data/{fname}_daily_met_data_2020jan-mar.csv', index=False)\n",
    "        print(f'  {location}: Success')\n",
    "        display(df.iloc[[0]])\n",
    "    except Exception as e:\n",
    "        print(f'x {location}: Error \\n  x  {e}')"
   ]
  },
  {
   "cell_type": "code",
   "execution_count": 28,
   "metadata": {},
   "outputs": [
    {
     "data": {
      "text/html": [
       "<div>\n",
       "<style scoped>\n",
       "    .dataframe tbody tr th:only-of-type {\n",
       "        vertical-align: middle;\n",
       "    }\n",
       "\n",
       "    .dataframe tbody tr th {\n",
       "        vertical-align: top;\n",
       "    }\n",
       "\n",
       "    .dataframe thead th {\n",
       "        text-align: right;\n",
       "    }\n",
       "</style>\n",
       "<table border=\"1\" class=\"dataframe\">\n",
       "  <thead>\n",
       "    <tr style=\"text-align: right;\">\n",
       "      <th></th>\n",
       "      <th>region</th>\n",
       "      <th>date</th>\n",
       "      <th>specific_humidity_max (1)</th>\n",
       "      <th>specific_humidity_min (1)</th>\n",
       "      <th>air_temperature_mean (K)</th>\n",
       "      <th>air_temperature_min (K)</th>\n",
       "      <th>short_wave_radiation_mean (W/m2)</th>\n",
       "      <th>short_wave_radiation_max (W/m2)</th>\n",
       "      <th>air_temperature_max (K)</th>\n",
       "      <th>specific_humidity_mean (1)</th>\n",
       "    </tr>\n",
       "  </thead>\n",
       "  <tbody>\n",
       "    <tr>\n",
       "      <th>0</th>\n",
       "      <td>Stockton-on-Tees</td>\n",
       "      <td>2020-01-01</td>\n",
       "      <td>0.004910</td>\n",
       "      <td>0.004367</td>\n",
       "      <td>276.770996</td>\n",
       "      <td>275.552094</td>\n",
       "      <td>21.965782</td>\n",
       "      <td>148.239578</td>\n",
       "      <td>278.774292</td>\n",
       "      <td>0.004625</td>\n",
       "    </tr>\n",
       "    <tr>\n",
       "      <th>1</th>\n",
       "      <td>Stockton-on-Tees</td>\n",
       "      <td>2020-01-02</td>\n",
       "      <td>0.006592</td>\n",
       "      <td>0.004774</td>\n",
       "      <td>279.768219</td>\n",
       "      <td>277.203125</td>\n",
       "      <td>18.475187</td>\n",
       "      <td>115.786461</td>\n",
       "      <td>282.833344</td>\n",
       "      <td>0.005493</td>\n",
       "    </tr>\n",
       "    <tr>\n",
       "      <th>2</th>\n",
       "      <td>Stockton-on-Tees</td>\n",
       "      <td>2020-01-03</td>\n",
       "      <td>0.006727</td>\n",
       "      <td>0.004069</td>\n",
       "      <td>279.290009</td>\n",
       "      <td>277.343750</td>\n",
       "      <td>21.559532</td>\n",
       "      <td>149.520828</td>\n",
       "      <td>282.779510</td>\n",
       "      <td>0.004840</td>\n",
       "    </tr>\n",
       "    <tr>\n",
       "      <th>3</th>\n",
       "      <td>Stockton-on-Tees</td>\n",
       "      <td>2020-01-04</td>\n",
       "      <td>0.005371</td>\n",
       "      <td>0.004639</td>\n",
       "      <td>279.690247</td>\n",
       "      <td>278.453125</td>\n",
       "      <td>23.735315</td>\n",
       "      <td>152.190979</td>\n",
       "      <td>281.750000</td>\n",
       "      <td>0.005005</td>\n",
       "    </tr>\n",
       "    <tr>\n",
       "      <th>4</th>\n",
       "      <td>Stockton-on-Tees</td>\n",
       "      <td>2020-01-05</td>\n",
       "      <td>0.006348</td>\n",
       "      <td>0.005371</td>\n",
       "      <td>281.245270</td>\n",
       "      <td>279.979156</td>\n",
       "      <td>16.400391</td>\n",
       "      <td>119.282990</td>\n",
       "      <td>282.498260</td>\n",
       "      <td>0.005747</td>\n",
       "    </tr>\n",
       "    <tr>\n",
       "      <th>...</th>\n",
       "      <td>...</td>\n",
       "      <td>...</td>\n",
       "      <td>...</td>\n",
       "      <td>...</td>\n",
       "      <td>...</td>\n",
       "      <td>...</td>\n",
       "      <td>...</td>\n",
       "      <td>...</td>\n",
       "      <td>...</td>\n",
       "      <td>...</td>\n",
       "    </tr>\n",
       "    <tr>\n",
       "      <th>86</th>\n",
       "      <td>Gateshead</td>\n",
       "      <td>2020-03-27</td>\n",
       "      <td>0.005310</td>\n",
       "      <td>0.003876</td>\n",
       "      <td>277.830017</td>\n",
       "      <td>274.171875</td>\n",
       "      <td>146.058441</td>\n",
       "      <td>522.933594</td>\n",
       "      <td>281.824219</td>\n",
       "      <td>0.004410</td>\n",
       "    </tr>\n",
       "    <tr>\n",
       "      <th>87</th>\n",
       "      <td>Gateshead</td>\n",
       "      <td>2020-03-28</td>\n",
       "      <td>0.005127</td>\n",
       "      <td>0.002686</td>\n",
       "      <td>278.365784</td>\n",
       "      <td>276.500000</td>\n",
       "      <td>84.216965</td>\n",
       "      <td>376.367188</td>\n",
       "      <td>280.449219</td>\n",
       "      <td>0.004064</td>\n",
       "    </tr>\n",
       "    <tr>\n",
       "      <th>88</th>\n",
       "      <td>Gateshead</td>\n",
       "      <td>2020-03-29</td>\n",
       "      <td>0.003387</td>\n",
       "      <td>0.002625</td>\n",
       "      <td>276.900543</td>\n",
       "      <td>275.605469</td>\n",
       "      <td>87.635742</td>\n",
       "      <td>318.162109</td>\n",
       "      <td>278.281250</td>\n",
       "      <td>0.002954</td>\n",
       "    </tr>\n",
       "    <tr>\n",
       "      <th>89</th>\n",
       "      <td>Gateshead</td>\n",
       "      <td>2020-03-30</td>\n",
       "      <td>0.004944</td>\n",
       "      <td>0.003448</td>\n",
       "      <td>279.487732</td>\n",
       "      <td>277.408203</td>\n",
       "      <td>121.871346</td>\n",
       "      <td>500.935547</td>\n",
       "      <td>282.322266</td>\n",
       "      <td>0.004155</td>\n",
       "    </tr>\n",
       "    <tr>\n",
       "      <th>90</th>\n",
       "      <td>Gateshead</td>\n",
       "      <td>2020-03-31</td>\n",
       "      <td>0.005402</td>\n",
       "      <td>0.004028</td>\n",
       "      <td>280.063232</td>\n",
       "      <td>277.349609</td>\n",
       "      <td>105.363174</td>\n",
       "      <td>388.279297</td>\n",
       "      <td>282.201172</td>\n",
       "      <td>0.004652</td>\n",
       "    </tr>\n",
       "  </tbody>\n",
       "</table>\n",
       "<p>8099 rows × 10 columns</p>\n",
       "</div>"
      ],
      "text/plain": [
       "              region        date  specific_humidity_max (1)  \\\n",
       "0   Stockton-on-Tees  2020-01-01                   0.004910   \n",
       "1   Stockton-on-Tees  2020-01-02                   0.006592   \n",
       "2   Stockton-on-Tees  2020-01-03                   0.006727   \n",
       "3   Stockton-on-Tees  2020-01-04                   0.005371   \n",
       "4   Stockton-on-Tees  2020-01-05                   0.006348   \n",
       "..               ...         ...                        ...   \n",
       "86         Gateshead  2020-03-27                   0.005310   \n",
       "87         Gateshead  2020-03-28                   0.005127   \n",
       "88         Gateshead  2020-03-29                   0.003387   \n",
       "89         Gateshead  2020-03-30                   0.004944   \n",
       "90         Gateshead  2020-03-31                   0.005402   \n",
       "\n",
       "    specific_humidity_min (1)  air_temperature_mean (K)  \\\n",
       "0                    0.004367                276.770996   \n",
       "1                    0.004774                279.768219   \n",
       "2                    0.004069                279.290009   \n",
       "3                    0.004639                279.690247   \n",
       "4                    0.005371                281.245270   \n",
       "..                        ...                       ...   \n",
       "86                   0.003876                277.830017   \n",
       "87                   0.002686                278.365784   \n",
       "88                   0.002625                276.900543   \n",
       "89                   0.003448                279.487732   \n",
       "90                   0.004028                280.063232   \n",
       "\n",
       "    air_temperature_min (K)  short_wave_radiation_mean (W/m2)  \\\n",
       "0                275.552094                         21.965782   \n",
       "1                277.203125                         18.475187   \n",
       "2                277.343750                         21.559532   \n",
       "3                278.453125                         23.735315   \n",
       "4                279.979156                         16.400391   \n",
       "..                      ...                               ...   \n",
       "86               274.171875                        146.058441   \n",
       "87               276.500000                         84.216965   \n",
       "88               275.605469                         87.635742   \n",
       "89               277.408203                        121.871346   \n",
       "90               277.349609                        105.363174   \n",
       "\n",
       "    short_wave_radiation_max (W/m2)  air_temperature_max (K)  \\\n",
       "0                        148.239578               278.774292   \n",
       "1                        115.786461               282.833344   \n",
       "2                        149.520828               282.779510   \n",
       "3                        152.190979               281.750000   \n",
       "4                        119.282990               282.498260   \n",
       "..                              ...                      ...   \n",
       "86                       522.933594               281.824219   \n",
       "87                       376.367188               280.449219   \n",
       "88                       318.162109               278.281250   \n",
       "89                       500.935547               282.322266   \n",
       "90                       388.279297               282.201172   \n",
       "\n",
       "    specific_humidity_mean (1)  \n",
       "0                     0.004625  \n",
       "1                     0.005493  \n",
       "2                     0.004840  \n",
       "3                     0.005005  \n",
       "4                     0.005747  \n",
       "..                         ...  \n",
       "86                    0.004410  \n",
       "87                    0.004064  \n",
       "88                    0.002954  \n",
       "89                    0.004155  \n",
       "90                    0.004652  \n",
       "\n",
       "[8099 rows x 10 columns]"
      ]
     },
     "execution_count": 28,
     "metadata": {},
     "output_type": "execute_result"
    }
   ],
   "source": [
    "pd.concat(dfs)"
   ]
  },
  {
   "cell_type": "code",
   "execution_count": 29,
   "metadata": {},
   "outputs": [
    {
     "data": {
      "text/plain": [
       "89.0"
      ]
     },
     "execution_count": 29,
     "metadata": {},
     "output_type": "execute_result"
    }
   ],
   "source": [
    "8099/91"
   ]
  },
  {
   "cell_type": "code",
   "execution_count": 54,
   "metadata": {
    "collapsed": true,
    "jupyter": {
     "outputs_hidden": true
    }
   },
   "outputs": [
    {
     "data": {
      "text/plain": [
       "['Barnsley',\n",
       " 'Bath and North East Somerset',\n",
       " 'Bedford',\n",
       " 'Birmingham',\n",
       " 'Blackburn with Darwen',\n",
       " 'Blackpool',\n",
       " 'Bolton',\n",
       " 'Bournemouth Christchurch and Poole',\n",
       " 'Bracknell Forest',\n",
       " 'Bradford',\n",
       " 'Brighton and Hove',\n",
       " 'Bristol City of',\n",
       " 'Bury',\n",
       " 'Calderdale',\n",
       " 'Central Bedfordshire',\n",
       " 'Cheshire East',\n",
       " 'Cheshire West and Chester',\n",
       " 'Cornwall',\n",
       " 'County Durham',\n",
       " 'Coventry',\n",
       " 'Darlington',\n",
       " 'Derby',\n",
       " 'Doncaster',\n",
       " 'Dorset',\n",
       " 'Dudley',\n",
       " 'East Riding of Yorkshire',\n",
       " 'Gateshead',\n",
       " 'Halton',\n",
       " 'Hartlepool',\n",
       " 'Herefordshire County of',\n",
       " 'Isle of Wight',\n",
       " 'Isles of Scilly',\n",
       " 'Kingston upon Hull City of',\n",
       " 'Kirklees',\n",
       " 'Knowsley',\n",
       " 'Leeds',\n",
       " 'Leicester',\n",
       " 'Liverpool',\n",
       " 'Luton',\n",
       " 'Manchester',\n",
       " 'Medway',\n",
       " 'Middlesbrough',\n",
       " 'Milton Keynes',\n",
       " 'Newcastle upon Tyne',\n",
       " 'North East Lincolnshire',\n",
       " 'North Lincolnshire',\n",
       " 'North Somerset',\n",
       " 'North Tyneside',\n",
       " 'Northumberland',\n",
       " 'Nottingham',\n",
       " 'Oldham',\n",
       " 'Peterborough',\n",
       " 'Plymouth',\n",
       " 'Portsmouth',\n",
       " 'Reading',\n",
       " 'Redcar and Cleveland',\n",
       " 'Rochdale',\n",
       " 'Rotherham',\n",
       " 'Rutland',\n",
       " 'Salford',\n",
       " 'Sandwell',\n",
       " 'Sefton',\n",
       " 'Sheffield',\n",
       " 'Shropshire',\n",
       " 'Slough',\n",
       " 'Solihull',\n",
       " 'South Gloucestershire',\n",
       " 'South Tyneside',\n",
       " 'Southampton',\n",
       " 'Southend-on-Sea',\n",
       " 'St. Helens',\n",
       " 'Stockport',\n",
       " 'Stockton-on-Tees',\n",
       " 'Stoke-on-Trent',\n",
       " 'Sunderland',\n",
       " 'Swindon',\n",
       " 'Tameside',\n",
       " 'Telford and Wrekin',\n",
       " 'Thurrock',\n",
       " 'Torbay',\n",
       " 'Trafford',\n",
       " 'Wakefield',\n",
       " 'Walsall',\n",
       " 'Warrington',\n",
       " 'West Berkshire',\n",
       " 'Wigan',\n",
       " 'Wiltshire',\n",
       " 'Windsor and Maidenhead',\n",
       " 'Wirral',\n",
       " 'Wokingham',\n",
       " 'Wolverhampton',\n",
       " 'York']"
      ]
     },
     "execution_count": 54,
     "metadata": {},
     "output_type": "execute_result"
    }
   ],
   "source": [
    "csvs = glob.glob('/data/misc/covid-19/regional_data/*.csv')\n",
    "csvnames = [' '.join(file.split('/')[-1].split('_')[:-4]) for file in files]\n",
    "\n",
    "csvnames"
   ]
  },
  {
   "cell_type": "code",
   "execution_count": 57,
   "metadata": {
    "collapsed": true,
    "jupyter": {
     "outputs_hidden": true
    }
   },
   "outputs": [
    {
     "data": {
      "text/plain": [
       "{'Aneurin Bevan University Health Board',\n",
       " 'Antrim and Newtownabbey',\n",
       " 'Ards and North Down',\n",
       " 'Armagh City, Banbridge and Craigavon',\n",
       " 'Ayrshire and Arran',\n",
       " 'Barking and Dagenham',\n",
       " 'Barnet',\n",
       " 'Belfast',\n",
       " 'Betsi Cadwaladr University Health Board',\n",
       " 'Bexley',\n",
       " 'Borders',\n",
       " 'Bournemouth, Christchurch and Poole',\n",
       " 'Brent',\n",
       " 'Bristol, City of',\n",
       " 'Bromley',\n",
       " 'Buckinghamshire',\n",
       " 'Cambridgeshire',\n",
       " 'Camden',\n",
       " 'Cardiff and Vale University Health Board',\n",
       " 'Causeway Coast and Glens',\n",
       " 'City of London',\n",
       " 'Croydon',\n",
       " 'Cumbria',\n",
       " 'Cwm Taf Morgannwg University Health Board',\n",
       " 'Derbyshire',\n",
       " 'Derry City and Strabane',\n",
       " 'Devon',\n",
       " 'Dumfries and Galloway',\n",
       " 'Ealing',\n",
       " 'East Sussex',\n",
       " 'Enfield',\n",
       " 'Essex',\n",
       " 'Fermanagh and Omagh',\n",
       " 'Fife',\n",
       " 'Forth Valley',\n",
       " 'Gloucestershire',\n",
       " 'Grampian',\n",
       " 'Greater Glasgow and Clyde',\n",
       " 'Greenwich',\n",
       " 'Hackney',\n",
       " 'Hammersmith and Fulham',\n",
       " 'Hampshire',\n",
       " 'Haringey',\n",
       " 'Harrow',\n",
       " 'Havering',\n",
       " 'Herefordshire, County of',\n",
       " 'Hertfordshire',\n",
       " 'Highland',\n",
       " 'Hillingdon',\n",
       " 'Hounslow',\n",
       " 'Hywel Dda University Health Board',\n",
       " 'Islington',\n",
       " 'Kensington and Chelsea',\n",
       " 'Kent',\n",
       " 'Kingston upon Hull, City of',\n",
       " 'Kingston upon Thames',\n",
       " 'Lambeth',\n",
       " 'Lanarkshire',\n",
       " 'Lancashire',\n",
       " 'Leicestershire',\n",
       " 'Lewisham',\n",
       " 'Lincolnshire',\n",
       " 'Lisburn and Castlereagh',\n",
       " 'Lothian',\n",
       " 'Merton',\n",
       " 'Mid Ulster',\n",
       " 'Mid and East Antrim',\n",
       " 'Newham',\n",
       " 'Newry, Mourne and Down',\n",
       " 'Norfolk',\n",
       " 'North Yorkshire',\n",
       " 'Northamptonshire',\n",
       " 'Nottinghamshire',\n",
       " 'Orkney',\n",
       " 'Oxfordshire',\n",
       " 'Powys Teaching Health Board',\n",
       " 'Redbridge',\n",
       " 'Richmond upon Thames',\n",
       " 'Shetland',\n",
       " 'Somerset',\n",
       " 'Southwark',\n",
       " 'Staffordshire',\n",
       " 'Suffolk',\n",
       " 'Surrey',\n",
       " 'Sutton',\n",
       " 'Swansea Bay University Health Board',\n",
       " 'Tayside',\n",
       " 'Tower Hamlets',\n",
       " 'Waltham Forest',\n",
       " 'Wandsworth',\n",
       " 'Warwickshire',\n",
       " 'West Sussex',\n",
       " 'Western Isles',\n",
       " 'Westminster',\n",
       " 'Worcestershire'}"
      ]
     },
     "execution_count": 57,
     "metadata": {},
     "output_type": "execute_result"
    }
   ],
   "source": [
    "remaining = set(region_names).difference(set(csvnames))\n",
    "remaining"
   ]
  },
  {
   "cell_type": "code",
   "execution_count": 58,
   "metadata": {},
   "outputs": [
    {
     "name": "stdout",
     "output_type": "stream",
     "text": [
      "183\n",
      "92\n",
      "95\n"
     ]
    }
   ],
   "source": [
    "print(len(region_names))\n",
    "print(len(csvnames))\n",
    "print(len(remaining))"
   ]
  },
  {
   "cell_type": "code",
   "execution_count": 61,
   "metadata": {},
   "outputs": [
    {
     "data": {
      "text/plain": [
       "187"
      ]
     },
     "execution_count": 61,
     "metadata": {},
     "output_type": "execute_result"
    }
   ],
   "source": [
    "92+95"
   ]
  },
  {
   "cell_type": "code",
   "execution_count": null,
   "metadata": {},
   "outputs": [],
   "source": [
    "list(remainging)[0:2]"
   ]
  },
  {
   "cell_type": "markdown",
   "metadata": {},
   "source": [
    "## Combine dataframes into one large one"
   ]
  },
  {
   "cell_type": "code",
   "execution_count": 19,
   "metadata": {},
   "outputs": [
    {
     "data": {
      "text/plain": [
       "181"
      ]
     },
     "execution_count": 19,
     "metadata": {},
     "output_type": "execute_result"
    }
   ],
   "source": [
    "csvs = glob.glob('/data/covid19-ancillary-data/regional_data/*.csv')\n",
    "csvs.pop(csvs.index('/data/covid19-ancillary-data/regional_data/_UK_daily_met_data_2020jan-mar.csv'))\n",
    "len(csvs)"
   ]
  },
  {
   "cell_type": "code",
   "execution_count": 20,
   "metadata": {},
   "outputs": [
    {
     "name": "stdout",
     "output_type": "stream",
     "text": [
      "CPU times: user 2.02 s, sys: 302 ms, total: 2.33 s\n",
      "Wall time: 2.07 s\n"
     ]
    },
    {
     "data": {
      "text/html": [
       "<div>\n",
       "<style scoped>\n",
       "    .dataframe tbody tr th:only-of-type {\n",
       "        vertical-align: middle;\n",
       "    }\n",
       "\n",
       "    .dataframe tbody tr th {\n",
       "        vertical-align: top;\n",
       "    }\n",
       "\n",
       "    .dataframe thead th {\n",
       "        text-align: right;\n",
       "    }\n",
       "</style>\n",
       "<table border=\"1\" class=\"dataframe\">\n",
       "  <thead>\n",
       "    <tr style=\"text-align: right;\">\n",
       "      <th></th>\n",
       "      <th>region</th>\n",
       "      <th>date</th>\n",
       "      <th>specific_humidity_max (1)</th>\n",
       "      <th>specific_humidity_mean (1)</th>\n",
       "      <th>specific_humidity_min (1)</th>\n",
       "      <th>short_wave_radiation_max (W/m2)</th>\n",
       "      <th>short_wave_radiation_mean (W/m2)</th>\n",
       "      <th>air_temperature_max (K)</th>\n",
       "      <th>air_temperature_mean (K)</th>\n",
       "      <th>air_temperature_min (K)</th>\n",
       "    </tr>\n",
       "  </thead>\n",
       "  <tbody>\n",
       "    <tr>\n",
       "      <th>0</th>\n",
       "      <td>Aneurin Bevan University Health Board</td>\n",
       "      <td>2020-01-01</td>\n",
       "      <td>0.006246</td>\n",
       "      <td>0.005460</td>\n",
       "      <td>0.004842</td>\n",
       "      <td>107.931854</td>\n",
       "      <td>15.872722</td>\n",
       "      <td>280.32380</td>\n",
       "      <td>278.65225</td>\n",
       "      <td>277.146700</td>\n",
       "    </tr>\n",
       "    <tr>\n",
       "      <th>1</th>\n",
       "      <td>Aneurin Bevan University Health Board</td>\n",
       "      <td>2020-01-02</td>\n",
       "      <td>0.007256</td>\n",
       "      <td>0.006177</td>\n",
       "      <td>0.005154</td>\n",
       "      <td>80.705290</td>\n",
       "      <td>13.096335</td>\n",
       "      <td>282.86154</td>\n",
       "      <td>280.63858</td>\n",
       "      <td>278.073360</td>\n",
       "    </tr>\n",
       "    <tr>\n",
       "      <th>2</th>\n",
       "      <td>Aneurin Bevan University Health Board</td>\n",
       "      <td>2020-01-03</td>\n",
       "      <td>0.007141</td>\n",
       "      <td>0.005413</td>\n",
       "      <td>0.004333</td>\n",
       "      <td>161.631520</td>\n",
       "      <td>28.314524</td>\n",
       "      <td>282.58160</td>\n",
       "      <td>279.85855</td>\n",
       "      <td>276.901920</td>\n",
       "    </tr>\n",
       "    <tr>\n",
       "      <th>3</th>\n",
       "      <td>Aneurin Bevan University Health Board</td>\n",
       "      <td>2020-01-04</td>\n",
       "      <td>0.005690</td>\n",
       "      <td>0.005051</td>\n",
       "      <td>0.004306</td>\n",
       "      <td>98.807290</td>\n",
       "      <td>16.487267</td>\n",
       "      <td>280.16450</td>\n",
       "      <td>278.74075</td>\n",
       "      <td>276.348970</td>\n",
       "    </tr>\n",
       "    <tr>\n",
       "      <th>4</th>\n",
       "      <td>Aneurin Bevan University Health Board</td>\n",
       "      <td>2020-01-05</td>\n",
       "      <td>0.005961</td>\n",
       "      <td>0.005630</td>\n",
       "      <td>0.005310</td>\n",
       "      <td>95.183590</td>\n",
       "      <td>14.714047</td>\n",
       "      <td>280.77258</td>\n",
       "      <td>279.83930</td>\n",
       "      <td>279.097230</td>\n",
       "    </tr>\n",
       "    <tr>\n",
       "      <th>...</th>\n",
       "      <td>...</td>\n",
       "      <td>...</td>\n",
       "      <td>...</td>\n",
       "      <td>...</td>\n",
       "      <td>...</td>\n",
       "      <td>...</td>\n",
       "      <td>...</td>\n",
       "      <td>...</td>\n",
       "      <td>...</td>\n",
       "      <td>...</td>\n",
       "    </tr>\n",
       "    <tr>\n",
       "      <th>16466</th>\n",
       "      <td>York</td>\n",
       "      <td>2020-03-27</td>\n",
       "      <td>0.004395</td>\n",
       "      <td>0.003282</td>\n",
       "      <td>277.964000</td>\n",
       "      <td>272.956600</td>\n",
       "      <td>169.295930</td>\n",
       "      <td>544.65106</td>\n",
       "      <td>283.71700</td>\n",
       "      <td>0.003835</td>\n",
       "    </tr>\n",
       "    <tr>\n",
       "      <th>16467</th>\n",
       "      <td>York</td>\n",
       "      <td>2020-03-28</td>\n",
       "      <td>0.004883</td>\n",
       "      <td>0.003092</td>\n",
       "      <td>278.985050</td>\n",
       "      <td>276.449650</td>\n",
       "      <td>108.072990</td>\n",
       "      <td>464.07465</td>\n",
       "      <td>282.71180</td>\n",
       "      <td>0.004111</td>\n",
       "    </tr>\n",
       "    <tr>\n",
       "      <th>16468</th>\n",
       "      <td>York</td>\n",
       "      <td>2020-03-29</td>\n",
       "      <td>0.003418</td>\n",
       "      <td>0.002713</td>\n",
       "      <td>276.996100</td>\n",
       "      <td>274.286470</td>\n",
       "      <td>89.059105</td>\n",
       "      <td>357.05554</td>\n",
       "      <td>279.44965</td>\n",
       "      <td>0.003034</td>\n",
       "    </tr>\n",
       "    <tr>\n",
       "      <th>16469</th>\n",
       "      <td>York</td>\n",
       "      <td>2020-03-30</td>\n",
       "      <td>0.005046</td>\n",
       "      <td>0.003201</td>\n",
       "      <td>278.983000</td>\n",
       "      <td>275.425350</td>\n",
       "      <td>78.952770</td>\n",
       "      <td>335.86285</td>\n",
       "      <td>281.85416</td>\n",
       "      <td>0.004357</td>\n",
       "    </tr>\n",
       "    <tr>\n",
       "      <th>16470</th>\n",
       "      <td>York</td>\n",
       "      <td>2020-03-31</td>\n",
       "      <td>0.005127</td>\n",
       "      <td>0.004367</td>\n",
       "      <td>280.159420</td>\n",
       "      <td>277.310760</td>\n",
       "      <td>116.147180</td>\n",
       "      <td>349.47050</td>\n",
       "      <td>281.81250</td>\n",
       "      <td>0.004703</td>\n",
       "    </tr>\n",
       "  </tbody>\n",
       "</table>\n",
       "<p>16471 rows × 10 columns</p>\n",
       "</div>"
      ],
      "text/plain": [
       "                                      region        date  \\\n",
       "0      Aneurin Bevan University Health Board  2020-01-01   \n",
       "1      Aneurin Bevan University Health Board  2020-01-02   \n",
       "2      Aneurin Bevan University Health Board  2020-01-03   \n",
       "3      Aneurin Bevan University Health Board  2020-01-04   \n",
       "4      Aneurin Bevan University Health Board  2020-01-05   \n",
       "...                                      ...         ...   \n",
       "16466                                   York  2020-03-27   \n",
       "16467                                   York  2020-03-28   \n",
       "16468                                   York  2020-03-29   \n",
       "16469                                   York  2020-03-30   \n",
       "16470                                   York  2020-03-31   \n",
       "\n",
       "       specific_humidity_max (1)  specific_humidity_mean (1)  \\\n",
       "0                       0.006246                    0.005460   \n",
       "1                       0.007256                    0.006177   \n",
       "2                       0.007141                    0.005413   \n",
       "3                       0.005690                    0.005051   \n",
       "4                       0.005961                    0.005630   \n",
       "...                          ...                         ...   \n",
       "16466                   0.004395                    0.003282   \n",
       "16467                   0.004883                    0.003092   \n",
       "16468                   0.003418                    0.002713   \n",
       "16469                   0.005046                    0.003201   \n",
       "16470                   0.005127                    0.004367   \n",
       "\n",
       "       specific_humidity_min (1)  short_wave_radiation_max (W/m2)  \\\n",
       "0                       0.004842                       107.931854   \n",
       "1                       0.005154                        80.705290   \n",
       "2                       0.004333                       161.631520   \n",
       "3                       0.004306                        98.807290   \n",
       "4                       0.005310                        95.183590   \n",
       "...                          ...                              ...   \n",
       "16466                 277.964000                       272.956600   \n",
       "16467                 278.985050                       276.449650   \n",
       "16468                 276.996100                       274.286470   \n",
       "16469                 278.983000                       275.425350   \n",
       "16470                 280.159420                       277.310760   \n",
       "\n",
       "       short_wave_radiation_mean (W/m2)  air_temperature_max (K)  \\\n",
       "0                             15.872722                280.32380   \n",
       "1                             13.096335                282.86154   \n",
       "2                             28.314524                282.58160   \n",
       "3                             16.487267                280.16450   \n",
       "4                             14.714047                280.77258   \n",
       "...                                 ...                      ...   \n",
       "16466                        169.295930                544.65106   \n",
       "16467                        108.072990                464.07465   \n",
       "16468                         89.059105                357.05554   \n",
       "16469                         78.952770                335.86285   \n",
       "16470                        116.147180                349.47050   \n",
       "\n",
       "       air_temperature_mean (K)  air_temperature_min (K)  \n",
       "0                     278.65225               277.146700  \n",
       "1                     280.63858               278.073360  \n",
       "2                     279.85855               276.901920  \n",
       "3                     278.74075               276.348970  \n",
       "4                     279.83930               279.097230  \n",
       "...                         ...                      ...  \n",
       "16466                 283.71700                 0.003835  \n",
       "16467                 282.71180                 0.004111  \n",
       "16468                 279.44965                 0.003034  \n",
       "16469                 281.85416                 0.004357  \n",
       "16470                 281.81250                 0.004703  \n",
       "\n",
       "[16471 rows x 10 columns]"
      ]
     },
     "execution_count": 20,
     "metadata": {},
     "output_type": "execute_result"
    }
   ],
   "source": [
    "%%time\n",
    "dfd = dd.read_csv(csvs).compute().reset_index(drop=True)\n",
    "dfd"
   ]
  },
  {
   "cell_type": "code",
   "execution_count": 21,
   "metadata": {},
   "outputs": [
    {
     "name": "stdout",
     "output_type": "stream",
     "text": [
      "CPU times: user 548 ms, sys: 30.4 ms, total: 578 ms\n",
      "Wall time: 606 ms\n"
     ]
    },
    {
     "data": {
      "text/html": [
       "<div>\n",
       "<style scoped>\n",
       "    .dataframe tbody tr th:only-of-type {\n",
       "        vertical-align: middle;\n",
       "    }\n",
       "\n",
       "    .dataframe tbody tr th {\n",
       "        vertical-align: top;\n",
       "    }\n",
       "\n",
       "    .dataframe thead th {\n",
       "        text-align: right;\n",
       "    }\n",
       "</style>\n",
       "<table border=\"1\" class=\"dataframe\">\n",
       "  <thead>\n",
       "    <tr style=\"text-align: right;\">\n",
       "      <th></th>\n",
       "      <th>region</th>\n",
       "      <th>date</th>\n",
       "      <th>specific_humidity_max (1)</th>\n",
       "      <th>specific_humidity_mean (1)</th>\n",
       "      <th>specific_humidity_min (1)</th>\n",
       "      <th>short_wave_radiation_max (W/m2)</th>\n",
       "      <th>short_wave_radiation_mean (W/m2)</th>\n",
       "      <th>air_temperature_max (K)</th>\n",
       "      <th>air_temperature_mean (K)</th>\n",
       "      <th>air_temperature_min (K)</th>\n",
       "    </tr>\n",
       "  </thead>\n",
       "  <tbody>\n",
       "    <tr>\n",
       "      <th>0</th>\n",
       "      <td>Aneurin Bevan University Health Board</td>\n",
       "      <td>2020-01-01</td>\n",
       "      <td>0.006246</td>\n",
       "      <td>0.005460</td>\n",
       "      <td>0.004842</td>\n",
       "      <td>107.931854</td>\n",
       "      <td>15.872722</td>\n",
       "      <td>280.32380</td>\n",
       "      <td>278.65225</td>\n",
       "      <td>277.14670</td>\n",
       "    </tr>\n",
       "    <tr>\n",
       "      <th>1</th>\n",
       "      <td>Aneurin Bevan University Health Board</td>\n",
       "      <td>2020-01-02</td>\n",
       "      <td>0.007256</td>\n",
       "      <td>0.006177</td>\n",
       "      <td>0.005154</td>\n",
       "      <td>80.705290</td>\n",
       "      <td>13.096335</td>\n",
       "      <td>282.86154</td>\n",
       "      <td>280.63858</td>\n",
       "      <td>278.07336</td>\n",
       "    </tr>\n",
       "    <tr>\n",
       "      <th>2</th>\n",
       "      <td>Aneurin Bevan University Health Board</td>\n",
       "      <td>2020-01-03</td>\n",
       "      <td>0.007141</td>\n",
       "      <td>0.005413</td>\n",
       "      <td>0.004333</td>\n",
       "      <td>161.631520</td>\n",
       "      <td>28.314524</td>\n",
       "      <td>282.58160</td>\n",
       "      <td>279.85855</td>\n",
       "      <td>276.90192</td>\n",
       "    </tr>\n",
       "    <tr>\n",
       "      <th>3</th>\n",
       "      <td>Aneurin Bevan University Health Board</td>\n",
       "      <td>2020-01-04</td>\n",
       "      <td>0.005690</td>\n",
       "      <td>0.005051</td>\n",
       "      <td>0.004306</td>\n",
       "      <td>98.807290</td>\n",
       "      <td>16.487267</td>\n",
       "      <td>280.16450</td>\n",
       "      <td>278.74075</td>\n",
       "      <td>276.34897</td>\n",
       "    </tr>\n",
       "    <tr>\n",
       "      <th>4</th>\n",
       "      <td>Aneurin Bevan University Health Board</td>\n",
       "      <td>2020-01-05</td>\n",
       "      <td>0.005961</td>\n",
       "      <td>0.005630</td>\n",
       "      <td>0.005310</td>\n",
       "      <td>95.183590</td>\n",
       "      <td>14.714047</td>\n",
       "      <td>280.77258</td>\n",
       "      <td>279.83930</td>\n",
       "      <td>279.09723</td>\n",
       "    </tr>\n",
       "    <tr>\n",
       "      <th>...</th>\n",
       "      <td>...</td>\n",
       "      <td>...</td>\n",
       "      <td>...</td>\n",
       "      <td>...</td>\n",
       "      <td>...</td>\n",
       "      <td>...</td>\n",
       "      <td>...</td>\n",
       "      <td>...</td>\n",
       "      <td>...</td>\n",
       "      <td>...</td>\n",
       "    </tr>\n",
       "    <tr>\n",
       "      <th>16466</th>\n",
       "      <td>York</td>\n",
       "      <td>2020-03-27</td>\n",
       "      <td>0.004395</td>\n",
       "      <td>0.003835</td>\n",
       "      <td>0.003282</td>\n",
       "      <td>544.651060</td>\n",
       "      <td>169.295930</td>\n",
       "      <td>283.71700</td>\n",
       "      <td>277.96400</td>\n",
       "      <td>272.95660</td>\n",
       "    </tr>\n",
       "    <tr>\n",
       "      <th>16467</th>\n",
       "      <td>York</td>\n",
       "      <td>2020-03-28</td>\n",
       "      <td>0.004883</td>\n",
       "      <td>0.004111</td>\n",
       "      <td>0.003092</td>\n",
       "      <td>464.074650</td>\n",
       "      <td>108.072990</td>\n",
       "      <td>282.71180</td>\n",
       "      <td>278.98505</td>\n",
       "      <td>276.44965</td>\n",
       "    </tr>\n",
       "    <tr>\n",
       "      <th>16468</th>\n",
       "      <td>York</td>\n",
       "      <td>2020-03-29</td>\n",
       "      <td>0.003418</td>\n",
       "      <td>0.003034</td>\n",
       "      <td>0.002713</td>\n",
       "      <td>357.055540</td>\n",
       "      <td>89.059105</td>\n",
       "      <td>279.44965</td>\n",
       "      <td>276.99610</td>\n",
       "      <td>274.28647</td>\n",
       "    </tr>\n",
       "    <tr>\n",
       "      <th>16469</th>\n",
       "      <td>York</td>\n",
       "      <td>2020-03-30</td>\n",
       "      <td>0.005046</td>\n",
       "      <td>0.004357</td>\n",
       "      <td>0.003201</td>\n",
       "      <td>335.862850</td>\n",
       "      <td>78.952770</td>\n",
       "      <td>281.85416</td>\n",
       "      <td>278.98300</td>\n",
       "      <td>275.42535</td>\n",
       "    </tr>\n",
       "    <tr>\n",
       "      <th>16470</th>\n",
       "      <td>York</td>\n",
       "      <td>2020-03-31</td>\n",
       "      <td>0.005127</td>\n",
       "      <td>0.004703</td>\n",
       "      <td>0.004367</td>\n",
       "      <td>349.470500</td>\n",
       "      <td>116.147180</td>\n",
       "      <td>281.81250</td>\n",
       "      <td>280.15942</td>\n",
       "      <td>277.31076</td>\n",
       "    </tr>\n",
       "  </tbody>\n",
       "</table>\n",
       "<p>16471 rows × 10 columns</p>\n",
       "</div>"
      ],
      "text/plain": [
       "                                      region        date  \\\n",
       "0      Aneurin Bevan University Health Board  2020-01-01   \n",
       "1      Aneurin Bevan University Health Board  2020-01-02   \n",
       "2      Aneurin Bevan University Health Board  2020-01-03   \n",
       "3      Aneurin Bevan University Health Board  2020-01-04   \n",
       "4      Aneurin Bevan University Health Board  2020-01-05   \n",
       "...                                      ...         ...   \n",
       "16466                                   York  2020-03-27   \n",
       "16467                                   York  2020-03-28   \n",
       "16468                                   York  2020-03-29   \n",
       "16469                                   York  2020-03-30   \n",
       "16470                                   York  2020-03-31   \n",
       "\n",
       "       specific_humidity_max (1)  specific_humidity_mean (1)  \\\n",
       "0                       0.006246                    0.005460   \n",
       "1                       0.007256                    0.006177   \n",
       "2                       0.007141                    0.005413   \n",
       "3                       0.005690                    0.005051   \n",
       "4                       0.005961                    0.005630   \n",
       "...                          ...                         ...   \n",
       "16466                   0.004395                    0.003835   \n",
       "16467                   0.004883                    0.004111   \n",
       "16468                   0.003418                    0.003034   \n",
       "16469                   0.005046                    0.004357   \n",
       "16470                   0.005127                    0.004703   \n",
       "\n",
       "       specific_humidity_min (1)  short_wave_radiation_max (W/m2)  \\\n",
       "0                       0.004842                       107.931854   \n",
       "1                       0.005154                        80.705290   \n",
       "2                       0.004333                       161.631520   \n",
       "3                       0.004306                        98.807290   \n",
       "4                       0.005310                        95.183590   \n",
       "...                          ...                              ...   \n",
       "16466                   0.003282                       544.651060   \n",
       "16467                   0.003092                       464.074650   \n",
       "16468                   0.002713                       357.055540   \n",
       "16469                   0.003201                       335.862850   \n",
       "16470                   0.004367                       349.470500   \n",
       "\n",
       "       short_wave_radiation_mean (W/m2)  air_temperature_max (K)  \\\n",
       "0                             15.872722                280.32380   \n",
       "1                             13.096335                282.86154   \n",
       "2                             28.314524                282.58160   \n",
       "3                             16.487267                280.16450   \n",
       "4                             14.714047                280.77258   \n",
       "...                                 ...                      ...   \n",
       "16466                        169.295930                283.71700   \n",
       "16467                        108.072990                282.71180   \n",
       "16468                         89.059105                279.44965   \n",
       "16469                         78.952770                281.85416   \n",
       "16470                        116.147180                281.81250   \n",
       "\n",
       "       air_temperature_mean (K)  air_temperature_min (K)  \n",
       "0                     278.65225                277.14670  \n",
       "1                     280.63858                278.07336  \n",
       "2                     279.85855                276.90192  \n",
       "3                     278.74075                276.34897  \n",
       "4                     279.83930                279.09723  \n",
       "...                         ...                      ...  \n",
       "16466                 277.96400                272.95660  \n",
       "16467                 278.98505                276.44965  \n",
       "16468                 276.99610                274.28647  \n",
       "16469                 278.98300                275.42535  \n",
       "16470                 280.15942                277.31076  \n",
       "\n",
       "[16471 rows x 10 columns]"
      ]
     },
     "execution_count": 21,
     "metadata": {},
     "output_type": "execute_result"
    }
   ],
   "source": [
    "%%time\n",
    "dfp = pd.concat([pd.read_csv(csv) for csv in csvs], ignore_index=True)\n",
    "dfp"
   ]
  },
  {
   "cell_type": "code",
   "execution_count": 26,
   "metadata": {},
   "outputs": [
    {
     "data": {
      "image/png": "[encoded data removed]",
      "text/plain": [
       "<Figure size 432x288 with 1 Axes>"
      ]
     },
     "metadata": {
      "needs_background": "light"
     },
     "output_type": "display_data"
    },
    {
     "data": {
      "image/png": "[encoded data removed]",
      "text/plain": [
       "<Figure size 432x288 with 1 Axes>"
      ]
     },
     "metadata": {
      "needs_background": "light"
     },
     "output_type": "display_data"
    },
    {
     "data": {
      "image/png": "[encoded data removed]",
      "text/plain": [
       "<Figure size 432x288 with 1 Axes>"
      ]
     },
     "metadata": {
      "needs_background": "light"
     },
     "output_type": "display_data"
    },
    {
     "data": {
      "image/png": "[encoded data removed]",
      "text/plain": [
       "<Figure size 432x288 with 1 Axes>"
      ]
     },
     "metadata": {
      "needs_background": "light"
     },
     "output_type": "display_data"
    },
    {
     "data": {
      "image/png": "[encoded data removed]",
      "text/plain": [
       "<Figure size 432x288 with 1 Axes>"
      ]
     },
     "metadata": {
      "needs_background": "light"
     },
     "output_type": "display_data"
    },
    {
     "data": {
      "image/png": "[encoded data removed]",
      "text/plain": [
       "<Figure size 432x288 with 1 Axes>"
      ]
     },
     "metadata": {
      "needs_background": "light"
     },
     "output_type": "display_data"
    },
    {
     "data": {
      "image/png": "[encoded data removed]",
      "text/plain": [
       "<Figure size 432x288 with 1 Axes>"
      ]
     },
     "metadata": {
      "needs_background": "light"
     },
     "output_type": "display_data"
    },
    {
     "data": {
      "image/png": "[encoded data removed]",
      "text/plain": [
       "<Figure size 432x288 with 1 Axes>"
      ]
     },
     "metadata": {
      "needs_background": "light"
     },
     "output_type": "display_data"
    },
    {
     "data": {
      "image/png": "[encoded data removed]",
      "text/plain": [
       "<Figure size 432x288 with 1 Axes>"
      ]
     },
     "metadata": {
      "needs_background": "light"
     },
     "output_type": "display_data"
    },
    {
     "data": {
      "image/png": "[encoded data removed]",
      "text/plain": [
       "<Figure size 432x288 with 1 Axes>"
      ]
     },
     "metadata": {
      "needs_background": "light"
     },
     "output_type": "display_data"
    },
    {
     "name": "stdout",
     "output_type": "stream",
     "text": [
      "CPU times: user 4.51 s, sys: 362 ms, total: 4.88 s\n",
      "Wall time: 4.79 s\n"
     ]
    }
   ],
   "source": [
    "%%time\n",
    "for col in dfp:\n",
    "    plt.hist(dfp[col])\n",
    "    plt.title(f'{col}')\n",
    "    plt.show()"
   ]
  },
  {
   "cell_type": "code",
   "execution_count": 27,
   "metadata": {},
   "outputs": [
    {
     "name": "stdout",
     "output_type": "stream",
     "text": [
      "CPU times: user 205 ms, sys: 15.9 ms, total: 220 ms\n",
      "Wall time: 225 ms\n"
     ]
    }
   ],
   "source": [
    "%%time\n",
    "fpath = './UKregions_daily_meteodata_2020jan-mar.csv'\n",
    "dfp.to_csv(fpath, index=False)"
   ]
  },
  {
   "cell_type": "code",
   "execution_count": 25,
   "metadata": {},
   "outputs": [
    {
     "data": {
      "image/png": "[encoded data removed]",
      "text/plain": [
       "<Figure size 432x288 with 1 Axes>"
      ]
     },
     "metadata": {
      "needs_background": "light"
     },
     "output_type": "display_data"
    },
    {
     "data": {
      "image/png": "[encoded data removed]",
      "text/plain": [
       "<Figure size 432x288 with 1 Axes>"
      ]
     },
     "metadata": {
      "needs_background": "light"
     },
     "output_type": "display_data"
    },
    {
     "data": {
      "image/png": "[encoded data removed]",
      "text/plain": [
       "<Figure size 432x288 with 1 Axes>"
      ]
     },
     "metadata": {
      "needs_background": "light"
     },
     "output_type": "display_data"
    },
    {
     "data": {
      "image/png": "[encoded data removed]",
      "text/plain": [
       "<Figure size 432x288 with 1 Axes>"
      ]
     },
     "metadata": {
      "needs_background": "light"
     },
     "output_type": "display_data"
    },
    {
     "data": {
      "image/png": "[encoded data removed]",
      "text/plain": [
       "<Figure size 432x288 with 1 Axes>"
      ]
     },
     "metadata": {
      "needs_background": "light"
     },
     "output_type": "display_data"
    },
    {
     "data": {
      "image/png": "[encoded data removed]",
      "text/plain": [
       "<Figure size 432x288 with 1 Axes>"
      ]
     },
     "metadata": {
      "needs_background": "light"
     },
     "output_type": "display_data"
    },
    {
     "data": {
      "image/png": "[encoded data removed]",
      "text/plain": [
       "<Figure size 432x288 with 1 Axes>"
      ]
     },
     "metadata": {
      "needs_background": "light"
     },
     "output_type": "display_data"
    },
    {
     "data": {
      "image/png": "[encoded data removed]",
      "text/plain": [
       "<Figure size 432x288 with 1 Axes>"
      ]
     },
     "metadata": {
      "needs_background": "light"
     },
     "output_type": "display_data"
    },
    {
     "data": {
      "image/png": "[encoded data removed]",
      "text/plain": [
       "<Figure size 432x288 with 1 Axes>"
      ]
     },
     "metadata": {
      "needs_background": "light"
     },
     "output_type": "display_data"
    },
    {
     "data": {
      "image/png": "[encoded data removed]",
      "text/plain": [
       "<Figure size 432x288 with 1 Axes>"
      ]
     },
     "metadata": {
      "needs_background": "light"
     },
     "output_type": "display_data"
    },
    {
     "name": "stdout",
     "output_type": "stream",
     "text": [
      "CPU times: user 4.37 s, sys: 423 ms, total: 4.8 s\n",
      "Wall time: 4.72 s\n"
     ]
    }
   ],
   "source": [
    "%%time\n",
    "for col in dfd:\n",
    "    plt.hist(dfd[col])\n",
    "    plt.title(f'{col}')\n",
    "    plt.show()"
   ]
  },
  {
   "cell_type": "markdown",
   "metadata": {},
   "source": [
    "## Save large daataframe out to CSV"
   ]
  },
  {
   "cell_type": "code",
   "execution_count": 59,
   "metadata": {},
   "outputs": [
    {
     "name": "stdout",
     "output_type": "stream",
     "text": [
      "CPU times: user 224 ms, sys: 0 ns, total: 224 ms\n",
      "Wall time: 1.04 s\n"
     ]
    }
   ],
   "source": [
    "%%time\n",
    "df.to_csv('/data/misc/covid-19/regional_data/_UK_daily_met_data_2020jan-mar.csv', index=False)"
   ]
  },
  {
   "cell_type": "code",
   "execution_count": 69,
   "metadata": {},
   "outputs": [
    {
     "name": "stdout",
     "output_type": "stream",
     "text": [
      "-rwxrwxrwx 1 root root 2.0M Apr  5 17:49 /data/misc/covid-19/regional_data/_UK_daily_met_data_2020jan-mar.csv\n"
     ]
    }
   ],
   "source": [
    "!ls -alh /data/misc/covid-19/regional_data/_UK_daily_met_data_2020jan-mar.csv"
   ]
  },
  {
   "cell_type": "code",
   "execution_count": 70,
   "metadata": {},
   "outputs": [
    {
     "data": {
      "text/html": [
       "<div>\n",
       "<style scoped>\n",
       "    .dataframe tbody tr th:only-of-type {\n",
       "        vertical-align: middle;\n",
       "    }\n",
       "\n",
       "    .dataframe tbody tr th {\n",
       "        vertical-align: top;\n",
       "    }\n",
       "\n",
       "    .dataframe thead th {\n",
       "        text-align: right;\n",
       "    }\n",
       "</style>\n",
       "<table border=\"1\" class=\"dataframe\">\n",
       "  <thead>\n",
       "    <tr style=\"text-align: right;\">\n",
       "      <th></th>\n",
       "      <th>region</th>\n",
       "      <th>date</th>\n",
       "      <th>specific_humidity_max (1)</th>\n",
       "      <th>specific_humidity_mean (1)</th>\n",
       "      <th>specific_humidity_min (1)</th>\n",
       "      <th>short_wave_radiation_max (W/m2)</th>\n",
       "      <th>short_wave_radiation_mean (W/m2)</th>\n",
       "      <th>air_temperature_max (K)</th>\n",
       "      <th>air_temperature_mean (K)</th>\n",
       "      <th>air_temperature_min (K)</th>\n",
       "    </tr>\n",
       "  </thead>\n",
       "  <tbody>\n",
       "    <tr>\n",
       "      <th>0</th>\n",
       "      <td>Hampshire</td>\n",
       "      <td>2020-01-01</td>\n",
       "      <td>0.006390</td>\n",
       "      <td>0.005631</td>\n",
       "      <td>0.005040</td>\n",
       "      <td>147.596450</td>\n",
       "      <td>23.381704</td>\n",
       "      <td>281.01580</td>\n",
       "      <td>279.54037</td>\n",
       "      <td>277.95755</td>\n",
       "    </tr>\n",
       "    <tr>\n",
       "      <th>1</th>\n",
       "      <td>Hampshire</td>\n",
       "      <td>2020-01-02</td>\n",
       "      <td>0.007195</td>\n",
       "      <td>0.006580</td>\n",
       "      <td>0.006082</td>\n",
       "      <td>97.277590</td>\n",
       "      <td>15.140271</td>\n",
       "      <td>283.15085</td>\n",
       "      <td>281.94280</td>\n",
       "      <td>280.36322</td>\n",
       "    </tr>\n",
       "    <tr>\n",
       "      <th>2</th>\n",
       "      <td>Hampshire</td>\n",
       "      <td>2020-01-03</td>\n",
       "      <td>0.007592</td>\n",
       "      <td>0.005721</td>\n",
       "      <td>0.004235</td>\n",
       "      <td>194.037430</td>\n",
       "      <td>31.136189</td>\n",
       "      <td>283.74826</td>\n",
       "      <td>280.91147</td>\n",
       "      <td>277.04803</td>\n",
       "    </tr>\n",
       "    <tr>\n",
       "      <th>3</th>\n",
       "      <td>Hampshire</td>\n",
       "      <td>2020-01-04</td>\n",
       "      <td>0.005666</td>\n",
       "      <td>0.005046</td>\n",
       "      <td>0.004283</td>\n",
       "      <td>117.046104</td>\n",
       "      <td>18.044327</td>\n",
       "      <td>280.91030</td>\n",
       "      <td>278.72880</td>\n",
       "      <td>276.05670</td>\n",
       "    </tr>\n",
       "    <tr>\n",
       "      <th>4</th>\n",
       "      <td>Hampshire</td>\n",
       "      <td>2020-01-05</td>\n",
       "      <td>0.005917</td>\n",
       "      <td>0.005553</td>\n",
       "      <td>0.005100</td>\n",
       "      <td>139.915510</td>\n",
       "      <td>22.792992</td>\n",
       "      <td>281.66705</td>\n",
       "      <td>280.22424</td>\n",
       "      <td>279.15433</td>\n",
       "    </tr>\n",
       "    <tr>\n",
       "      <th>...</th>\n",
       "      <td>...</td>\n",
       "      <td>...</td>\n",
       "      <td>...</td>\n",
       "      <td>...</td>\n",
       "      <td>...</td>\n",
       "      <td>...</td>\n",
       "      <td>...</td>\n",
       "      <td>...</td>\n",
       "      <td>...</td>\n",
       "      <td>...</td>\n",
       "    </tr>\n",
       "    <tr>\n",
       "      <th>16466</th>\n",
       "      <td>Warwickshire</td>\n",
       "      <td>2020-03-27</td>\n",
       "      <td>0.004211</td>\n",
       "      <td>0.003734</td>\n",
       "      <td>0.003337</td>\n",
       "      <td>565.088560</td>\n",
       "      <td>165.535190</td>\n",
       "      <td>284.58790</td>\n",
       "      <td>278.38306</td>\n",
       "      <td>273.25650</td>\n",
       "    </tr>\n",
       "    <tr>\n",
       "      <th>16467</th>\n",
       "      <td>Warwickshire</td>\n",
       "      <td>2020-03-28</td>\n",
       "      <td>0.004639</td>\n",
       "      <td>0.003956</td>\n",
       "      <td>0.003408</td>\n",
       "      <td>511.124020</td>\n",
       "      <td>132.670270</td>\n",
       "      <td>283.10287</td>\n",
       "      <td>278.83084</td>\n",
       "      <td>275.48960</td>\n",
       "    </tr>\n",
       "    <tr>\n",
       "      <th>16468</th>\n",
       "      <td>Warwickshire</td>\n",
       "      <td>2020-03-29</td>\n",
       "      <td>0.003657</td>\n",
       "      <td>0.002885</td>\n",
       "      <td>0.002218</td>\n",
       "      <td>472.583340</td>\n",
       "      <td>124.257965</td>\n",
       "      <td>280.05045</td>\n",
       "      <td>277.27072</td>\n",
       "      <td>275.08755</td>\n",
       "    </tr>\n",
       "    <tr>\n",
       "      <th>16469</th>\n",
       "      <td>Warwickshire</td>\n",
       "      <td>2020-03-30</td>\n",
       "      <td>0.005152</td>\n",
       "      <td>0.004088</td>\n",
       "      <td>0.002960</td>\n",
       "      <td>352.203770</td>\n",
       "      <td>83.053750</td>\n",
       "      <td>280.93393</td>\n",
       "      <td>277.59485</td>\n",
       "      <td>273.22070</td>\n",
       "    </tr>\n",
       "    <tr>\n",
       "      <th>16470</th>\n",
       "      <td>Warwickshire</td>\n",
       "      <td>2020-03-31</td>\n",
       "      <td>0.004537</td>\n",
       "      <td>0.004104</td>\n",
       "      <td>0.003718</td>\n",
       "      <td>410.873380</td>\n",
       "      <td>135.180440</td>\n",
       "      <td>281.78482</td>\n",
       "      <td>279.33260</td>\n",
       "      <td>276.17773</td>\n",
       "    </tr>\n",
       "  </tbody>\n",
       "</table>\n",
       "<p>16471 rows × 10 columns</p>\n",
       "</div>"
      ],
      "text/plain": [
       "             region        date  specific_humidity_max (1)  \\\n",
       "0         Hampshire  2020-01-01                   0.006390   \n",
       "1         Hampshire  2020-01-02                   0.007195   \n",
       "2         Hampshire  2020-01-03                   0.007592   \n",
       "3         Hampshire  2020-01-04                   0.005666   \n",
       "4         Hampshire  2020-01-05                   0.005917   \n",
       "...             ...         ...                        ...   \n",
       "16466  Warwickshire  2020-03-27                   0.004211   \n",
       "16467  Warwickshire  2020-03-28                   0.004639   \n",
       "16468  Warwickshire  2020-03-29                   0.003657   \n",
       "16469  Warwickshire  2020-03-30                   0.005152   \n",
       "16470  Warwickshire  2020-03-31                   0.004537   \n",
       "\n",
       "       specific_humidity_mean (1)  specific_humidity_min (1)  \\\n",
       "0                        0.005631                   0.005040   \n",
       "1                        0.006580                   0.006082   \n",
       "2                        0.005721                   0.004235   \n",
       "3                        0.005046                   0.004283   \n",
       "4                        0.005553                   0.005100   \n",
       "...                           ...                        ...   \n",
       "16466                    0.003734                   0.003337   \n",
       "16467                    0.003956                   0.003408   \n",
       "16468                    0.002885                   0.002218   \n",
       "16469                    0.004088                   0.002960   \n",
       "16470                    0.004104                   0.003718   \n",
       "\n",
       "       short_wave_radiation_max (W/m2)  short_wave_radiation_mean (W/m2)  \\\n",
       "0                           147.596450                         23.381704   \n",
       "1                            97.277590                         15.140271   \n",
       "2                           194.037430                         31.136189   \n",
       "3                           117.046104                         18.044327   \n",
       "4                           139.915510                         22.792992   \n",
       "...                                ...                               ...   \n",
       "16466                       565.088560                        165.535190   \n",
       "16467                       511.124020                        132.670270   \n",
       "16468                       472.583340                        124.257965   \n",
       "16469                       352.203770                         83.053750   \n",
       "16470                       410.873380                        135.180440   \n",
       "\n",
       "       air_temperature_max (K)  air_temperature_mean (K)  \\\n",
       "0                    281.01580                 279.54037   \n",
       "1                    283.15085                 281.94280   \n",
       "2                    283.74826                 280.91147   \n",
       "3                    280.91030                 278.72880   \n",
       "4                    281.66705                 280.22424   \n",
       "...                        ...                       ...   \n",
       "16466                284.58790                 278.38306   \n",
       "16467                283.10287                 278.83084   \n",
       "16468                280.05045                 277.27072   \n",
       "16469                280.93393                 277.59485   \n",
       "16470                281.78482                 279.33260   \n",
       "\n",
       "       air_temperature_min (K)  \n",
       "0                    277.95755  \n",
       "1                    280.36322  \n",
       "2                    277.04803  \n",
       "3                    276.05670  \n",
       "4                    279.15433  \n",
       "...                        ...  \n",
       "16466                273.25650  \n",
       "16467                275.48960  \n",
       "16468                275.08755  \n",
       "16469                273.22070  \n",
       "16470                276.17773  \n",
       "\n",
       "[16471 rows x 10 columns]"
      ]
     },
     "execution_count": 70,
     "metadata": {},
     "output_type": "execute_result"
    }
   ],
   "source": [
    "pd.read_csv('/data/misc/covid-19/regional_data/_UK_daily_met_data_2020jan-mar.csv')"
   ]
  },
  {
   "cell_type": "code",
   "execution_count": 5,
   "metadata": {},
   "outputs": [
    {
     "data": {
      "text/html": [
       "<div>\n",
       "<style scoped>\n",
       "    .dataframe tbody tr th:only-of-type {\n",
       "        vertical-align: middle;\n",
       "    }\n",
       "\n",
       "    .dataframe tbody tr th {\n",
       "        vertical-align: top;\n",
       "    }\n",
       "\n",
       "    .dataframe thead th {\n",
       "        text-align: right;\n",
       "    }\n",
       "</style>\n",
       "<table border=\"1\" class=\"dataframe\">\n",
       "  <thead>\n",
       "    <tr style=\"text-align: right;\">\n",
       "      <th></th>\n",
       "      <th>Name</th>\n",
       "      <th>num</th>\n",
       "    </tr>\n",
       "  </thead>\n",
       "  <tbody>\n",
       "    <tr>\n",
       "      <th>0</th>\n",
       "      <td>a</td>\n",
       "      <td>1</td>\n",
       "    </tr>\n",
       "    <tr>\n",
       "      <th>1</th>\n",
       "      <td>b</td>\n",
       "      <td>2</td>\n",
       "    </tr>\n",
       "    <tr>\n",
       "      <th>2</th>\n",
       "      <td>c</td>\n",
       "      <td>3</td>\n",
       "    </tr>\n",
       "  </tbody>\n",
       "</table>\n",
       "</div>"
      ],
      "text/plain": [
       "  Name  num\n",
       "0    a    1\n",
       "1    b    2\n",
       "2    c    3"
      ]
     },
     "metadata": {},
     "output_type": "display_data"
    },
    {
     "data": {
      "text/html": [
       "<div>\n",
       "<style scoped>\n",
       "    .dataframe tbody tr th:only-of-type {\n",
       "        vertical-align: middle;\n",
       "    }\n",
       "\n",
       "    .dataframe tbody tr th {\n",
       "        vertical-align: top;\n",
       "    }\n",
       "\n",
       "    .dataframe thead th {\n",
       "        text-align: right;\n",
       "    }\n",
       "</style>\n",
       "<table border=\"1\" class=\"dataframe\">\n",
       "  <thead>\n",
       "    <tr style=\"text-align: right;\">\n",
       "      <th></th>\n",
       "      <th>num</th>\n",
       "      <th>Name</th>\n",
       "    </tr>\n",
       "  </thead>\n",
       "  <tbody>\n",
       "    <tr>\n",
       "      <th>0</th>\n",
       "      <td>1</td>\n",
       "      <td>a</td>\n",
       "    </tr>\n",
       "    <tr>\n",
       "      <th>1</th>\n",
       "      <td>2</td>\n",
       "      <td>b</td>\n",
       "    </tr>\n",
       "    <tr>\n",
       "      <th>2</th>\n",
       "      <td>3</td>\n",
       "      <td>c</td>\n",
       "    </tr>\n",
       "  </tbody>\n",
       "</table>\n",
       "</div>"
      ],
      "text/plain": [
       "   num Name\n",
       "0    1    a\n",
       "1    2    b\n",
       "2    3    c"
      ]
     },
     "metadata": {},
     "output_type": "display_data"
    }
   ],
   "source": [
    "df1 = pd.DataFrame({'Name': ['a', 'b', 'c'],\n",
    "                    'num': [1,2,3]})\n",
    "df2 = pd.DataFrame({'num': [1,2,3], 'Name': ['a', 'b', 'c']})\n",
    "\n",
    "display(df1)\n",
    "display(df2)"
   ]
  },
  {
   "cell_type": "code",
   "execution_count": 7,
   "metadata": {},
   "outputs": [
    {
     "data": {
      "text/html": [
       "<div>\n",
       "<style scoped>\n",
       "    .dataframe tbody tr th:only-of-type {\n",
       "        vertical-align: middle;\n",
       "    }\n",
       "\n",
       "    .dataframe tbody tr th {\n",
       "        vertical-align: top;\n",
       "    }\n",
       "\n",
       "    .dataframe thead th {\n",
       "        text-align: right;\n",
       "    }\n",
       "</style>\n",
       "<table border=\"1\" class=\"dataframe\">\n",
       "  <thead>\n",
       "    <tr style=\"text-align: right;\">\n",
       "      <th></th>\n",
       "      <th>Name</th>\n",
       "      <th>num</th>\n",
       "    </tr>\n",
       "  </thead>\n",
       "  <tbody>\n",
       "    <tr>\n",
       "      <th>0</th>\n",
       "      <td>a</td>\n",
       "      <td>1</td>\n",
       "    </tr>\n",
       "    <tr>\n",
       "      <th>1</th>\n",
       "      <td>b</td>\n",
       "      <td>2</td>\n",
       "    </tr>\n",
       "    <tr>\n",
       "      <th>2</th>\n",
       "      <td>c</td>\n",
       "      <td>3</td>\n",
       "    </tr>\n",
       "    <tr>\n",
       "      <th>3</th>\n",
       "      <td>a</td>\n",
       "      <td>1</td>\n",
       "    </tr>\n",
       "    <tr>\n",
       "      <th>4</th>\n",
       "      <td>b</td>\n",
       "      <td>2</td>\n",
       "    </tr>\n",
       "    <tr>\n",
       "      <th>5</th>\n",
       "      <td>c</td>\n",
       "      <td>3</td>\n",
       "    </tr>\n",
       "  </tbody>\n",
       "</table>\n",
       "</div>"
      ],
      "text/plain": [
       "  Name  num\n",
       "0    a    1\n",
       "1    b    2\n",
       "2    c    3\n",
       "3    a    1\n",
       "4    b    2\n",
       "5    c    3"
      ]
     },
     "execution_count": 7,
     "metadata": {},
     "output_type": "execute_result"
    }
   ],
   "source": [
    "pd.concat([df1, df2], ignore_index=True)"
   ]
  },
  {
   "cell_type": "code",
   "execution_count": null,
   "metadata": {},
   "outputs": [],
   "source": []
  }
 ],
 "metadata": {
  "kernelspec": {
   "display_name": "Python 3",
   "language": "python",
   "name": "python3"
  },
  "language_info": {
   "codemirror_mode": {
    "name": "ipython",
    "version": 3
   },
   "file_extension": ".py",
   "mimetype": "text/x-python",
   "name": "python",
   "nbconvert_exporter": "python",
   "pygments_lexer": "ipython3",
   "version": "3.7.6"
  }
 },
 "nbformat": 4,
 "nbformat_minor": 4
}
