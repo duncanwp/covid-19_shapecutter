{
 "cells": [
  {
   "cell_type": "markdown",
   "metadata": {},
   "source": [
    "# Exploring Air Quality Data\n",
    "\n",
    "Exploring some air quality data, and methods for cutting it to shapefiles of principal urban areas (PUAs).\n",
    "\n",
    "## Setup"
   ]
  },
  {
   "cell_type": "code",
   "execution_count": 50,
   "metadata": {},
   "outputs": [],
   "source": [
    "import cartopy.crs as ccrs\n",
    "import cartopy.io.shapereader as shpreader\n",
    "import iris\n",
    "import iris.plot as iplt\n",
    "import iris.quickplot as qplt\n",
    "import matplotlib.pyplot as plt\n",
    "import numpy as np\n",
    "import pandas as pd\n",
    "import dask.dataframe as dd\n",
    "\n",
    "import os\n",
    "import sys\n",
    "import glob\n",
    "\n",
    "import shape_utils as shape\n",
    "\n",
    "import warnings\n",
    "warnings.filterwarnings('ignore')\n",
    "\n",
    "%matplotlib inline"
   ]
  },
  {
   "cell_type": "markdown",
   "metadata": {},
   "source": [
    "### Load Data"
   ]
  },
  {
   "cell_type": "code",
   "execution_count": 2,
   "metadata": {},
   "outputs": [
    {
     "name": "stdout",
     "output_type": "stream",
     "text": [
      "182\n"
     ]
    }
   ],
   "source": [
    "folders = glob.glob('/data/misc/covid-19/data_nc_daily/precip*')\n",
    "filepaths = []\n",
    "for folder in folders:\n",
    "    filepaths.extend(glob.glob(os.path.join(folder, '*.nc')))\n",
    "print(len(filepaths))"
   ]
  },
  {
   "cell_type": "code",
   "execution_count": 3,
   "metadata": {},
   "outputs": [
    {
     "name": "stdout",
     "output_type": "stream",
     "text": [
      "0: precipitation_flux / (kg m-2 s-1)   (time: 91; latitude: 1920; longitude: 2560)\n",
      "1: precipitation_flux / (kg m-2 s-1)   (time: 91; latitude: 1920; longitude: 2560)\n",
      "CPU times: user 11.9 s, sys: 591 ms, total: 12.5 s\n",
      "Wall time: 2min 5s\n"
     ]
    }
   ],
   "source": [
    "%%time\n",
    "cubes = iris.load(filepaths)\n",
    "    \n",
    "print(cubes)"
   ]
  },
  {
   "cell_type": "code",
   "execution_count": 4,
   "metadata": {},
   "outputs": [
    {
     "name": "stdout",
     "output_type": "stream",
     "text": [
      "0: precipitation_flux / (kg m-2 s-1)   (time: 91; latitude: 160; longitude: 143)\n",
      "1: precipitation_flux / (kg m-2 s-1)   (time: 91; latitude: 160; longitude: 143)\n"
     ]
    }
   ],
   "source": [
    "uk_cubes = iris.cube.CubeList([cube.intersection(latitude=(48, 63), longitude=(-15, 5)) for cube in cubes])\n",
    "print(uk_cubes)"
   ]
  },
  {
   "cell_type": "code",
   "execution_count": 5,
   "metadata": {},
   "outputs": [
    {
     "data": {
      "text/plain": [
       "GeogCS(6371229.0)"
      ]
     },
     "execution_count": 5,
     "metadata": {},
     "output_type": "execute_result"
    }
   ],
   "source": [
    "CRS = uk_cubes[0].coord_system()\n",
    "CRS"
   ]
  },
  {
   "cell_type": "code",
   "execution_count": 7,
   "metadata": {},
   "outputs": [
    {
     "data": {
      "text/plain": [
       "Cell(point=real_datetime(2020, 1, 1, 11, 0), bound=(real_datetime(2019, 12, 31, 23, 0), real_datetime(2020, 1, 1, 23, 0)))"
      ]
     },
     "execution_count": 7,
     "metadata": {},
     "output_type": "execute_result"
    }
   ],
   "source": [
    "cells = [cell for cell in cubes[0].coord('time').cells()]\n",
    "cells[0]"
   ]
  },
  {
   "cell_type": "markdown",
   "metadata": {},
   "source": [
    "### Load shapefile"
   ]
  },
  {
   "cell_type": "code",
   "execution_count": 30,
   "metadata": {},
   "outputs": [],
   "source": [
    "regions_shp = '/data/misc/covid-19/shapefiles/UK/UK_covid_reporting_regions.shx'\n",
    "regions_reader = shpreader.Reader(regions_shp)"
   ]
  },
  {
   "cell_type": "code",
   "execution_count": 31,
   "metadata": {},
   "outputs": [
    {
     "data": {
      "text/plain": [
       "<Record: <shapely.geometry.multipolygon.MultiPolygon object at 0x7f6613052cf8>, {'code': 'E06000001', 'name': 'Hartlepool', 'area': 96512310.8872846}, <fields>>"
      ]
     },
     "execution_count": 31,
     "metadata": {},
     "output_type": "execute_result"
    }
   ],
   "source": [
    "next(regions_reader.records())"
   ]
  },
  {
   "cell_type": "code",
   "execution_count": 33,
   "metadata": {},
   "outputs": [
    {
     "name": "stdout",
     "output_type": "stream",
     "text": [
      "['E06000001', 'E06000002', 'E06000003', 'E06000004', 'E06000005', 'E06000006', 'E06000007', 'E06000008', 'E06000009', 'E06000010', 'E06000011', 'E06000012', 'E06000013', 'E06000014', 'E06000015', 'E06000016', 'E06000017', 'E06000018', 'E06000019', 'E06000020', 'E06000021', 'E06000022', 'E06000023', 'E06000024', 'E06000025', 'E06000026', 'E06000027', 'E06000030', 'E06000031', 'E06000032', 'E06000033', 'E06000034', 'E06000035', 'E06000036', 'E06000037', 'E06000038', 'E06000039', 'E06000040', 'E06000041', 'E06000042', 'E06000043', 'E06000044', 'E06000045', 'E06000046', 'E06000047', 'E06000049', 'E06000050', 'E06000051', 'E06000052', 'E06000053', 'E06000054', 'E06000055', 'E08000009', 'E06000056', 'E06000057', 'E06000058', 'E06000059', 'E08000001', 'E08000002', 'E08000003', 'E08000004', 'E08000005', 'E08000006', 'E08000007', 'E08000008', 'E08000010', 'E08000011', 'E08000012', 'E08000013', 'E08000014', 'E08000015', 'E08000016', 'E08000017', 'E08000018', 'E08000019', 'E08000021', 'E08000022', 'E08000023', 'E08000024', 'E08000025', 'E08000026', 'E08000027', 'E08000028', 'E08000029', 'E08000030', 'E08000031', 'E08000032', 'E08000033', 'E08000034', 'E08000035', 'E08000036', 'E08000037', 'E09000001', 'E09000002', 'E09000003', 'E09000004', 'E09000005', 'E09000006', 'E09000007', 'E09000008', 'E09000009', 'E09000010', 'E09000011', 'E09000012', 'E09000013', 'E09000014', 'E09000015', 'E09000016', 'E09000017', 'E09000018', 'E09000019', 'E09000020', 'E09000021', 'E09000022', 'E09000023', 'E09000024', 'E09000025', 'E09000026', 'E09000027', 'E09000028', 'E09000029', 'E09000030', 'E09000031', 'E09000032', 'E09000033', 'E10000002', 'E10000003', 'E10000006', 'E10000007', 'E10000008', 'E10000011', 'E10000012', 'E10000013', 'E10000014', 'E10000015', 'E10000016', 'E10000017', 'E10000018', 'E10000019', 'E10000020', 'E10000021', 'E10000023', 'E10000024', 'E10000025', 'E10000027', 'E10000028', 'E10000029', 'E10000030', 'E10000031', 'E10000032', 'E10000034', 'W11000023', 'W11000024', 'W11000025', 'W11000028', 'W11000029', 'W11000030', 'W11000031', 'N09000001', 'N09000002', 'N09000003', 'N09000004', 'N09000005', 'N09000006', 'N09000007', 'N09000008', 'N09000009', 'N09000010', 'N09000011', 'S08000015', 'S08000016', 'S08000017', 'S08000019', 'S08000020', 'S08000022', 'S08000024', 'S08000025', 'S08000026', 'S08000028', 'S08000029', 'S08000030', 'S08000031', 'S08000032']\n"
     ]
    }
   ],
   "source": [
    "region_codes = [record.attributes['code'] for record in regions_reader.records()]\n",
    "\n",
    "print(region_codes)"
   ]
  },
  {
   "cell_type": "code",
   "execution_count": 34,
   "metadata": {},
   "outputs": [],
   "source": [
    "def get_region_record(target, shapefile=regions_reader, attribute='code'):\n",
    "    '''\n",
    "    Get the geometries for the specified location.\n",
    "    \n",
    "    '''\n",
    "    result = None\n",
    "    for record in shapefile.records():\n",
    "        location = record.attributes[attribute]\n",
    "        if location == target:\n",
    "            result = record\n",
    "            break\n",
    "    if result is None:\n",
    "        emsg = 'Could not find region with name \"{}\".'\n",
    "        raise ValueError(emsg.format(target))\n",
    "    return result"
   ]
  },
  {
   "cell_type": "code",
   "execution_count": 43,
   "metadata": {},
   "outputs": [],
   "source": [
    "from random import randint\n",
    "def rand_code(codes=region_codes): \n",
    "    i = randint(0, len(codes))\n",
    "    return codes[i]"
   ]
  },
  {
   "cell_type": "code",
   "execution_count": 47,
   "metadata": {},
   "outputs": [
    {
     "data": {
      "image/svg+xml": [
       "<svg xmlns=\"http://www.w3.org/2000/svg\" xmlns:xlink=\"http://www.w3.org/1999/xlink\" width=\"100.0\" height=\"100.0\" viewBox=\"-2.1990883773201366 52.41912034238278 0.19299277524734304 0.14505485681653596\" preserveAspectRatio=\"xMinYMin meet\"><g transform=\"matrix(1,0,0,-1,0,104.9832955415821)\"><g><path fill-rule=\"evenodd\" fill=\"#66cc99\" stroke=\"#555555\" stroke-width=\"0.003859855504946861\" opacity=\"0.6\" d=\"M -2.13348672789088,52.5540666639507 L -2.12145369207196,52.5569349883017 L -2.10824437895226,52.5439448806599 L -2.07977875403891,52.5570273186346 L -2.07394205771191,52.5498796749801 L -2.07959040786026,52.5240847825462 L -2.0572576082469,52.5122714753012 L -2.0643228987227,52.4871689853206 L -2.09709041517253,52.4683948200989 L -2.05901666622542,52.4619753507455 L -2.02274923685235,52.480551405526 L -2.01324348263751,52.4621907903812 L -2.01699028095924,52.4326829309962 L -2.03698776266666,52.4275457075305 L -2.03788100010757,52.4415575551052 L -2.05578306154507,52.4413058490695 L -2.06246734325287,52.4274306533899 L -2.06805186468972,52.4351950959813 L -2.08482057426392,52.4321975526348 L -2.09856509199697,52.4452835394779 L -2.13602683609072,52.4262682229475 L -2.16485128257998,52.4302041413132 L -2.17648315747155,52.4548218475081 L -2.16741962532073,52.4715410983952 L -2.19194049675542,52.5034552744859 L -2.1442106820995,52.5170740585455 L -2.15221000603085,52.525696073702 L -2.13558727620906,52.5344609374318 L -2.13348672789088,52.5540666639507 z\" /></g></g></svg>"
      ],
      "text/plain": [
       "<shapely.geometry.multipolygon.MultiPolygon at 0x7f65d8c52f98>"
      ]
     },
     "execution_count": 47,
     "metadata": {},
     "output_type": "execute_result"
    }
   ],
   "source": [
    "get_region_record(rand_code()).geometry"
   ]
  },
  {
   "cell_type": "markdown",
   "metadata": {},
   "source": [
    "## Work out which files have been written, and which still have to be"
   ]
  },
  {
   "cell_type": "code",
   "execution_count": null,
   "metadata": {},
   "outputs": [],
   "source": [
    "csvs = glob.glob('/data/misc/covid-19/uk_data_precip/*.csv')"
   ]
  },
  {
   "cell_type": "code",
   "execution_count": null,
   "metadata": {},
   "outputs": [],
   "source": [
    "df = dd.read_csv(csvs)\n",
    "df.compute()"
   ]
  },
  {
   "cell_type": "code",
   "execution_count": null,
   "metadata": {},
   "outputs": [],
   "source": [
    "written = list(df['region'].unique().compute())\n",
    "written"
   ]
  },
  {
   "cell_type": "code",
   "execution_count": null,
   "metadata": {},
   "outputs": [],
   "source": [
    "len(written)"
   ]
  },
  {
   "cell_type": "code",
   "execution_count": null,
   "metadata": {},
   "outputs": [],
   "source": [
    "unwritten = list(set(region_names).difference(set(written)))\n",
    "len(unwritten)"
   ]
  },
  {
   "cell_type": "code",
   "execution_count": null,
   "metadata": {},
   "outputs": [],
   "source": [
    "unwritten"
   ]
  },
  {
   "cell_type": "code",
   "execution_count": null,
   "metadata": {},
   "outputs": [],
   "source": [
    "len(unwritten)+len(written)"
   ]
  },
  {
   "cell_type": "markdown",
   "metadata": {},
   "source": [
    "## Create a pipeline"
   ]
  },
  {
   "cell_type": "code",
   "execution_count": 27,
   "metadata": {},
   "outputs": [],
   "source": [
    "def parse_data_name(cube):\n",
    "    name = cube.name()\n",
    "    method = cube.cell_methods[1].method.replace('imum', '')\n",
    "    units = cube.units\n",
    "    \n",
    "    if name == 'm01s01i202':\n",
    "        name = 'short_wave_radiation'\n",
    "        units = 'W/m2'\n",
    "    \n",
    "    return f'{name}_{method} ({units})'"
   ]
  },
  {
   "cell_type": "code",
   "execution_count": 55,
   "metadata": {},
   "outputs": [],
   "source": [
    "col0 = ['region_code', 'region_name', 'date']\n",
    "col1 = [parse_data_name(cube) for cube in uk_cubes]"
   ]
  },
  {
   "cell_type": "code",
   "execution_count": 56,
   "metadata": {},
   "outputs": [
    {
     "data": {
      "text/plain": [
       "('region_code',\n",
       " 'region_name',\n",
       " 'date',\n",
       " 'precipitation_flux_max (kg m-2 s-1)',\n",
       " 'precipitation_flux_mean (kg m-2 s-1)')"
      ]
     },
     "execution_count": 56,
     "metadata": {},
     "output_type": "execute_result"
    }
   ],
   "source": [
    "COL_ORDER = tuple(col0 + sorted([c for c in col1 if c not in col0]))\n",
    "COL_ORDER"
   ]
  },
  {
   "cell_type": "code",
   "execution_count": 39,
   "metadata": {},
   "outputs": [],
   "source": [
    "def extract(location, cubes=uk_cubes, **kwargs):\n",
    "    region = get_region_record(location, **kwargs)\n",
    "    cutter = shape.Shape(region.geometry, region.attributes, coord_system=CRS)\n",
    "    cut_cubes = cutter.extract_subcubes(cubes)\n",
    "#     cubes_col = [cube.collapsed(['latitude','longitude'], iris.analysis.MEAN) for cube in cut_cubes]\n",
    "    return cut_cubes"
   ]
  },
  {
   "cell_type": "code",
   "execution_count": 57,
   "metadata": {},
   "outputs": [],
   "source": [
    "def extract_collapse_df(location, cubes=uk_cubes, **kwargs):\n",
    "    region = get_region_record(location, **kwargs)\n",
    "    cutter = shape.Shape(region.geometry, region.attributes, coord_system=CRS)\n",
    "    cut_cubes = cutter.extract_subcubes(cubes)\n",
    "    cubes_col = [cube.collapsed(['latitude','longitude'], iris.analysis.MEAN) for cube in cut_cubes]\n",
    "    time = cubes_col[0].coord('time')\n",
    "    length = len(time.points)\n",
    "    data = {'region_code': [location]*length,\n",
    "            'region_name': [region.attributes['name']]*length,\n",
    "            'date': [cell.point.date() for cell in time.cells()]}\n",
    "    data.update({parse_data_name(cube): cube.data for cube in cubes_col})\n",
    "    \n",
    "    df = pd.DataFrame(data, columns=COL_ORDER)\n",
    "\n",
    "    return df"
   ]
  },
  {
   "cell_type": "code",
   "execution_count": 58,
   "metadata": {},
   "outputs": [
    {
     "name": "stdout",
     "output_type": "stream",
     "text": [
      "CPU times: user 2.73 s, sys: 2.85 s, total: 5.58 s\n",
      "Wall time: 3.06 s\n"
     ]
    },
    {
     "data": {
      "text/html": [
       "<div>\n",
       "<style scoped>\n",
       "    .dataframe tbody tr th:only-of-type {\n",
       "        vertical-align: middle;\n",
       "    }\n",
       "\n",
       "    .dataframe tbody tr th {\n",
       "        vertical-align: top;\n",
       "    }\n",
       "\n",
       "    .dataframe thead th {\n",
       "        text-align: right;\n",
       "    }\n",
       "</style>\n",
       "<table border=\"1\" class=\"dataframe\">\n",
       "  <thead>\n",
       "    <tr style=\"text-align: right;\">\n",
       "      <th></th>\n",
       "      <th>region_code</th>\n",
       "      <th>region_name</th>\n",
       "      <th>date</th>\n",
       "      <th>precipitation_flux_max (kg m-2 s-1)</th>\n",
       "      <th>precipitation_flux_mean (kg m-2 s-1)</th>\n",
       "    </tr>\n",
       "  </thead>\n",
       "  <tbody>\n",
       "    <tr>\n",
       "      <th>0</th>\n",
       "      <td>E09000006</td>\n",
       "      <td>Bromley</td>\n",
       "      <td>2020-01-01</td>\n",
       "      <td>0.000006</td>\n",
       "      <td>1.139111e-06</td>\n",
       "    </tr>\n",
       "    <tr>\n",
       "      <th>1</th>\n",
       "      <td>E09000006</td>\n",
       "      <td>Bromley</td>\n",
       "      <td>2020-01-02</td>\n",
       "      <td>0.000053</td>\n",
       "      <td>1.155006e-05</td>\n",
       "    </tr>\n",
       "    <tr>\n",
       "      <th>2</th>\n",
       "      <td>E09000006</td>\n",
       "      <td>Bromley</td>\n",
       "      <td>2020-01-03</td>\n",
       "      <td>0.000170</td>\n",
       "      <td>3.025267e-05</td>\n",
       "    </tr>\n",
       "    <tr>\n",
       "      <th>3</th>\n",
       "      <td>E09000006</td>\n",
       "      <td>Bromley</td>\n",
       "      <td>2020-01-04</td>\n",
       "      <td>0.000007</td>\n",
       "      <td>3.973643e-07</td>\n",
       "    </tr>\n",
       "    <tr>\n",
       "      <th>4</th>\n",
       "      <td>E09000006</td>\n",
       "      <td>Bromley</td>\n",
       "      <td>2020-01-05</td>\n",
       "      <td>0.000025</td>\n",
       "      <td>2.119276e-06</td>\n",
       "    </tr>\n",
       "    <tr>\n",
       "      <th>...</th>\n",
       "      <td>...</td>\n",
       "      <td>...</td>\n",
       "      <td>...</td>\n",
       "      <td>...</td>\n",
       "      <td>...</td>\n",
       "    </tr>\n",
       "    <tr>\n",
       "      <th>86</th>\n",
       "      <td>E09000006</td>\n",
       "      <td>Bromley</td>\n",
       "      <td>2020-03-27</td>\n",
       "      <td>0.000000</td>\n",
       "      <td>0.000000e+00</td>\n",
       "    </tr>\n",
       "    <tr>\n",
       "      <th>87</th>\n",
       "      <td>E09000006</td>\n",
       "      <td>Bromley</td>\n",
       "      <td>2020-03-28</td>\n",
       "      <td>0.000025</td>\n",
       "      <td>1.854367e-06</td>\n",
       "    </tr>\n",
       "    <tr>\n",
       "      <th>88</th>\n",
       "      <td>E09000006</td>\n",
       "      <td>Bromley</td>\n",
       "      <td>2020-03-29</td>\n",
       "      <td>0.000050</td>\n",
       "      <td>5.271700e-06</td>\n",
       "    </tr>\n",
       "    <tr>\n",
       "      <th>89</th>\n",
       "      <td>E09000006</td>\n",
       "      <td>Bromley</td>\n",
       "      <td>2020-03-30</td>\n",
       "      <td>0.000030</td>\n",
       "      <td>4.503462e-06</td>\n",
       "    </tr>\n",
       "    <tr>\n",
       "      <th>90</th>\n",
       "      <td>E09000006</td>\n",
       "      <td>Bromley</td>\n",
       "      <td>2020-03-31</td>\n",
       "      <td>0.000003</td>\n",
       "      <td>1.324548e-07</td>\n",
       "    </tr>\n",
       "  </tbody>\n",
       "</table>\n",
       "<p>91 rows × 5 columns</p>\n",
       "</div>"
      ],
      "text/plain": [
       "   region_code region_name        date  precipitation_flux_max (kg m-2 s-1)  \\\n",
       "0    E09000006     Bromley  2020-01-01                             0.000006   \n",
       "1    E09000006     Bromley  2020-01-02                             0.000053   \n",
       "2    E09000006     Bromley  2020-01-03                             0.000170   \n",
       "3    E09000006     Bromley  2020-01-04                             0.000007   \n",
       "4    E09000006     Bromley  2020-01-05                             0.000025   \n",
       "..         ...         ...         ...                                  ...   \n",
       "86   E09000006     Bromley  2020-03-27                             0.000000   \n",
       "87   E09000006     Bromley  2020-03-28                             0.000025   \n",
       "88   E09000006     Bromley  2020-03-29                             0.000050   \n",
       "89   E09000006     Bromley  2020-03-30                             0.000030   \n",
       "90   E09000006     Bromley  2020-03-31                             0.000003   \n",
       "\n",
       "    precipitation_flux_mean (kg m-2 s-1)  \n",
       "0                           1.139111e-06  \n",
       "1                           1.155006e-05  \n",
       "2                           3.025267e-05  \n",
       "3                           3.973643e-07  \n",
       "4                           2.119276e-06  \n",
       "..                                   ...  \n",
       "86                          0.000000e+00  \n",
       "87                          1.854367e-06  \n",
       "88                          5.271700e-06  \n",
       "89                          4.503462e-06  \n",
       "90                          1.324548e-07  \n",
       "\n",
       "[91 rows x 5 columns]"
      ]
     },
     "execution_count": 58,
     "metadata": {},
     "output_type": "execute_result"
    }
   ],
   "source": [
    "%%time\n",
    "df_ex = extract_collapse_df(rand_code())\n",
    "df_ex"
   ]
  },
  {
   "cell_type": "markdown",
   "metadata": {},
   "source": [
    "## Save dataframe to csv for each location"
   ]
  },
  {
   "cell_type": "code",
   "execution_count": 59,
   "metadata": {},
   "outputs": [
    {
     "name": "stdout",
     "output_type": "stream",
     "text": [
      "0: precipitation_flux / (kg m-2 s-1)   (time: 91; latitude: 160; longitude: 143)\n",
      "1: precipitation_flux / (kg m-2 s-1)   (time: 91; latitude: 160; longitude: 143)\n"
     ]
    }
   ],
   "source": [
    "print(uk_cubes)"
   ]
  },
  {
   "cell_type": "code",
   "execution_count": 62,
   "metadata": {},
   "outputs": [
    {
     "data": {
      "text/plain": [
       "183"
      ]
     },
     "execution_count": 62,
     "metadata": {},
     "output_type": "execute_result"
    }
   ],
   "source": [
    "unwritten = region_codes\n",
    "len(unwritten)"
   ]
  },
  {
   "cell_type": "code",
   "execution_count": 65,
   "metadata": {},
   "outputs": [
    {
     "name": "stdout",
     "output_type": "stream",
     "text": [
      "  [E06000004] Stockton-on-Tees: Success\n",
      "  [E06000005] Darlington: Success\n",
      "  [E06000006] Halton: Success\n",
      "  [E06000007] Warrington: Success\n",
      "  [E06000008] Blackburn_with_Darwen: Success\n",
      "  [E06000009] Blackpool: Success\n",
      "  [E06000010] Kingston_upon_Hull_City_of: Success\n",
      "  [E06000011] East_Riding_of_Yorkshire: Success\n",
      "  [E06000012] North_East_Lincolnshire: Success\n",
      "  [E06000013] North_Lincolnshire: Success\n",
      "  [E06000014] York: Success\n",
      "  [E06000015] Derby: Success\n",
      "  [E06000016] Leicester: Success\n",
      "  [E06000017] Rutland: Success\n",
      "  [E06000018] Nottingham: Success\n",
      "  [E06000019] Herefordshire_County_of: Success\n",
      "  [E06000020] Telford_and_Wrekin: Success\n",
      "  [E06000021] Stoke-on-Trent: Success\n",
      "  [E06000022] Bath_and_North_East_Somerset: Success\n",
      "  [E06000023] Bristol_City_of: Success\n",
      "  [E06000024] North_Somerset: Success\n",
      "  [E06000025] South_Gloucestershire: Success\n",
      "  [E06000026] Plymouth: Success\n",
      "  [E06000027] Torbay: Success\n",
      "  [E06000030] Swindon: Success\n",
      "  [E06000031] Peterborough: Success\n",
      "  [E06000032] Luton: Success\n",
      "  [E06000033] Southend-on-Sea: Success\n",
      "  [E06000034] Thurrock: Success\n",
      "  [E06000035] Medway: Success\n",
      "  [E06000036] Bracknell_Forest: Success\n",
      "  [E06000037] West_Berkshire: Success\n",
      "  [E06000038] Reading: Success\n",
      "  [E06000039] Slough: Success\n",
      "  [E06000040] Windsor_and_Maidenhead: Success\n",
      "  [E06000041] Wokingham: Success\n",
      "  [E06000042] Milton_Keynes: Success\n",
      "  [E06000043] Brighton_and_Hove: Success\n",
      "  [E06000044] Portsmouth: Success\n",
      "  [E06000045] Southampton: Success\n",
      "  [E06000046] Isle_of_Wight: Success\n",
      "  [E06000047] County_Durham: Success\n",
      "  [E06000049] Cheshire_East: Success\n",
      "  [E06000050] Cheshire_West_and_Chester: Success\n",
      "  [E06000051] Shropshire: Success\n",
      "  [E06000052] Cornwall: Success\n",
      "  [E06000053] Isles_of_Scilly: Success\n",
      "  [E06000054] Wiltshire: Success\n",
      "  [E06000055] Bedford: Success\n",
      "  [E08000009] Trafford: Success\n",
      "  [E06000056] Central_Bedfordshire: Success\n",
      "  [E06000057] Northumberland: Success\n",
      "  [E06000058] Bournemouth_Christchurch_and_Poole: Success\n",
      "  [E06000059] Dorset: Success\n",
      "  [E08000001] Bolton: Success\n",
      "  [E08000002] Bury: Success\n",
      "  [E08000003] Manchester: Success\n",
      "  [E08000004] Oldham: Success\n",
      "  [E08000005] Rochdale: Success\n",
      "  [E08000006] Salford: Success\n",
      "  [E08000007] Stockport: Success\n",
      "  [E08000008] Tameside: Success\n",
      "  [E08000010] Wigan: Success\n",
      "  [E08000011] Knowsley: Success\n",
      "  [E08000012] Liverpool: Success\n",
      "  [E08000013] St_Helens: Success\n",
      "  [E08000014] Sefton: Success\n",
      "  [E08000015] Wirral: Success\n",
      "  [E08000016] Barnsley: Success\n",
      "  [E08000017] Doncaster: Success\n",
      "  [E08000018] Rotherham: Success\n",
      "  [E08000019] Sheffield: Success\n",
      "  [E08000021] Newcastle_upon_Tyne: Success\n",
      "  [E08000022] North_Tyneside: Success\n",
      "  [E08000023] South_Tyneside: Success\n",
      "  [E08000024] Sunderland: Success\n",
      "  [E08000025] Birmingham: Success\n",
      "  [E08000026] Coventry: Success\n",
      "  [E08000027] Dudley: Success\n",
      "  [E08000028] Sandwell: Success\n",
      "  [E08000029] Solihull: Success\n",
      "  [E08000030] Walsall: Success\n",
      "  [E08000031] Wolverhampton: Success\n",
      "  [E08000032] Bradford: Success\n",
      "  [E08000033] Calderdale: Success\n",
      "  [E08000034] Kirklees: Success\n",
      "  [E08000035] Leeds: Success\n",
      "  [E08000036] Wakefield: Success\n",
      "  [E08000037] Gateshead: Success\n",
      "x [E09000001] Gateshead: Error \n",
      "  x  Cannot collapse a dimension which does not describe any data.\n",
      "  [E09000002] Barking_and_Dagenham: Success\n",
      "  [E09000003] Barnet: Success\n",
      "  [E09000004] Bexley: Success\n",
      "  [E09000005] Brent: Success\n",
      "  [E09000006] Bromley: Success\n",
      "  [E09000007] Camden: Success\n",
      "  [E09000008] Croydon: Success\n",
      "  [E09000009] Ealing: Success\n",
      "  [E09000010] Enfield: Success\n",
      "  [E09000011] Greenwich: Success\n",
      "  [E09000012] Hackney: Success\n",
      "  [E09000013] Hammersmith_and_Fulham: Success\n",
      "  [E09000014] Haringey: Success\n",
      "  [E09000015] Harrow: Success\n",
      "  [E09000016] Havering: Success\n",
      "  [E09000017] Hillingdon: Success\n",
      "  [E09000018] Hounslow: Success\n",
      "  [E09000019] Islington: Success\n",
      "x [E09000020] Islington: Error \n",
      "  x  Cannot collapse a dimension which does not describe any data.\n",
      "  [E09000021] Kingston_upon_Thames: Success\n",
      "  [E09000022] Lambeth: Success\n",
      "  [E09000023] Lewisham: Success\n",
      "  [E09000024] Merton: Success\n",
      "  [E09000025] Newham: Success\n",
      "  [E09000026] Redbridge: Success\n",
      "  [E09000027] Richmond_upon_Thames: Success\n",
      "  [E09000028] Southwark: Success\n",
      "  [E09000029] Sutton: Success\n",
      "  [E09000030] Tower_Hamlets: Success\n",
      "  [E09000031] Waltham_Forest: Success\n",
      "  [E09000032] Wandsworth: Success\n",
      "  [E09000033] Westminster: Success\n",
      "  [E10000002] Buckinghamshire: Success\n",
      "  [E10000003] Cambridgeshire: Success\n",
      "  [E10000006] Cumbria: Success\n",
      "  [E10000007] Derbyshire: Success\n",
      "  [E10000008] Devon: Success\n",
      "  [E10000011] East_Sussex: Success\n",
      "  [E10000012] Essex: Success\n",
      "  [E10000013] Gloucestershire: Success\n",
      "  [E10000014] Hampshire: Success\n",
      "  [E10000015] Hertfordshire: Success\n",
      "  [E10000016] Kent: Success\n",
      "  [E10000017] Lancashire: Success\n",
      "  [E10000018] Leicestershire: Success\n",
      "  [E10000019] Lincolnshire: Success\n",
      "  [E10000020] Norfolk: Success\n",
      "  [E10000021] Northamptonshire: Success\n",
      "  [E10000023] North_Yorkshire: Success\n",
      "  [E10000024] Nottinghamshire: Success\n",
      "  [E10000025] Oxfordshire: Success\n",
      "  [E10000027] Somerset: Success\n",
      "  [E10000028] Staffordshire: Success\n",
      "  [E10000029] Suffolk: Success\n",
      "  [E10000030] Surrey: Success\n",
      "  [E10000031] Warwickshire: Success\n",
      "  [E10000032] West_Sussex: Success\n",
      "  [E10000034] Worcestershire: Success\n",
      "  [W11000023] Betsi_Cadwaladr_University_Health_Board: Success\n",
      "  [W11000024] Powys_Teaching_Health_Board: Success\n",
      "  [W11000025] Hywel_Dda_University_Health_Board: Success\n",
      "  [W11000028] Aneurin_Bevan_University_Health_Board: Success\n",
      "  [W11000029] Cardiff_and_Vale_University_Health_Board: Success\n",
      "  [W11000030] Cwm_Taf_Morgannwg_University_Health_Board: Success\n",
      "  [W11000031] Swansea_Bay_University_Health_Board: Success\n",
      "  [N09000001] Antrim_and_Newtownabbey: Success\n",
      "  [N09000002] Armagh_City_Banbridge_and_Craigavon: Success\n",
      "  [N09000003] Belfast: Success\n",
      "  [N09000004] Causeway_Coast_and_Glens: Success\n",
      "  [N09000005] Derry_City_and_Strabane: Success\n",
      "  [N09000006] Fermanagh_and_Omagh: Success\n",
      "  [N09000007] Lisburn_and_Castlereagh: Success\n",
      "  [N09000008] Mid_and_East_Antrim: Success\n",
      "  [N09000009] Mid_Ulster: Success\n",
      "  [N09000010] Newry_Mourne_and_Down: Success\n",
      "  [N09000011] Ards_and_North_Down: Success\n",
      "  [S08000015] Ayrshire_and_Arran: Success\n",
      "  [S08000016] Borders: Success\n",
      "  [S08000017] Dumfries_and_Galloway: Success\n",
      "  [S08000019] Forth_Valley: Success\n",
      "  [S08000020] Grampian: Success\n",
      "  [S08000022] Highland: Success\n",
      "  [S08000024] Lothian: Success\n",
      "  [S08000025] Orkney: Success\n",
      "  [S08000026] Shetland: Success\n",
      "  [S08000028] Western_Isles: Success\n",
      "  [S08000029] Fife: Success\n",
      "  [S08000030] Tayside: Success\n",
      "  [S08000031] Greater_Glasgow_and_Clyde: Success\n",
      "  [S08000032] Lanarkshire: Success\n",
      "CPU times: user 7min 43s, sys: 9min 41s, total: 17min 24s\n",
      "Wall time: 9min 48s\n"
     ]
    }
   ],
   "source": [
    "%%time\n",
    "dfs = []\n",
    "start = 3\n",
    "stop = len(region_codes)\n",
    "for location in unwritten[start:]:\n",
    "    try:\n",
    "        df = extract_collapse_df(location)\n",
    "        name = df['region_name'][0].replace(' ', '_').replace(',','').replace('.','')\n",
    "        df.to_csv(f'/data/misc/covid-19/uk_data_precip/uk_{location}_{name}_daily_precipdata_2020jan-mar.csv', index=False)\n",
    "        print(f'  [{location}] {name}: Success')\n",
    "    except Exception as e:\n",
    "        print(f'x [{location}] {name}: Error \\n  x  {e}')"
   ]
  },
  {
   "cell_type": "markdown",
   "metadata": {},
   "source": [
    "**NB: **"
   ]
  },
  {
   "cell_type": "markdown",
   "metadata": {},
   "source": [
    "## Open all the written CSVs and concatenate them into a mega DataFrame"
   ]
  },
  {
   "cell_type": "code",
   "execution_count": 66,
   "metadata": {},
   "outputs": [
    {
     "data": {
      "text/plain": [
       "181"
      ]
     },
     "execution_count": 66,
     "metadata": {},
     "output_type": "execute_result"
    }
   ],
   "source": [
    "csvs = glob.glob('/data/misc/covid-19/uk_data_precip/*.csv')\n",
    "len(csvs)"
   ]
  },
  {
   "cell_type": "code",
   "execution_count": 67,
   "metadata": {},
   "outputs": [
    {
     "name": "stdout",
     "output_type": "stream",
     "text": [
      "CPU times: user 483 ms, sys: 0 ns, total: 483 ms\n",
      "Wall time: 638 ms\n"
     ]
    },
    {
     "data": {
      "text/html": [
       "<div>\n",
       "<style scoped>\n",
       "    .dataframe tbody tr th:only-of-type {\n",
       "        vertical-align: middle;\n",
       "    }\n",
       "\n",
       "    .dataframe tbody tr th {\n",
       "        vertical-align: top;\n",
       "    }\n",
       "\n",
       "    .dataframe thead th {\n",
       "        text-align: right;\n",
       "    }\n",
       "</style>\n",
       "<table border=\"1\" class=\"dataframe\">\n",
       "  <thead>\n",
       "    <tr style=\"text-align: right;\">\n",
       "      <th></th>\n",
       "      <th>region_code</th>\n",
       "      <th>region_name</th>\n",
       "      <th>date</th>\n",
       "      <th>precipitation_flux_max (kg m-2 s-1)</th>\n",
       "      <th>precipitation_flux_mean (kg m-2 s-1)</th>\n",
       "    </tr>\n",
       "  </thead>\n",
       "  <tbody>\n",
       "    <tr>\n",
       "      <th>0</th>\n",
       "      <td>E06000033</td>\n",
       "      <td>Southend-on-Sea</td>\n",
       "      <td>2020-01-01</td>\n",
       "      <td>0.000010</td>\n",
       "      <td>1.629194e-06</td>\n",
       "    </tr>\n",
       "    <tr>\n",
       "      <th>1</th>\n",
       "      <td>E06000033</td>\n",
       "      <td>Southend-on-Sea</td>\n",
       "      <td>2020-01-02</td>\n",
       "      <td>0.000017</td>\n",
       "      <td>2.900759e-06</td>\n",
       "    </tr>\n",
       "    <tr>\n",
       "      <th>2</th>\n",
       "      <td>E06000033</td>\n",
       "      <td>Southend-on-Sea</td>\n",
       "      <td>2020-01-03</td>\n",
       "      <td>0.000149</td>\n",
       "      <td>2.388159e-05</td>\n",
       "    </tr>\n",
       "    <tr>\n",
       "      <th>3</th>\n",
       "      <td>E06000033</td>\n",
       "      <td>Southend-on-Sea</td>\n",
       "      <td>2020-01-04</td>\n",
       "      <td>0.000004</td>\n",
       "      <td>1.986822e-07</td>\n",
       "    </tr>\n",
       "    <tr>\n",
       "      <th>4</th>\n",
       "      <td>E06000033</td>\n",
       "      <td>Southend-on-Sea</td>\n",
       "      <td>2020-01-05</td>\n",
       "      <td>0.000019</td>\n",
       "      <td>1.708667e-06</td>\n",
       "    </tr>\n",
       "    <tr>\n",
       "      <th>...</th>\n",
       "      <td>...</td>\n",
       "      <td>...</td>\n",
       "      <td>...</td>\n",
       "      <td>...</td>\n",
       "      <td>...</td>\n",
       "    </tr>\n",
       "    <tr>\n",
       "      <th>16466</th>\n",
       "      <td>E06000003</td>\n",
       "      <td>Redcar and Cleveland</td>\n",
       "      <td>2020-03-27</td>\n",
       "      <td>0.000002</td>\n",
       "      <td>1.192093e-07</td>\n",
       "    </tr>\n",
       "    <tr>\n",
       "      <th>16467</th>\n",
       "      <td>E06000003</td>\n",
       "      <td>Redcar and Cleveland</td>\n",
       "      <td>2020-03-28</td>\n",
       "      <td>0.000063</td>\n",
       "      <td>8.761883e-06</td>\n",
       "    </tr>\n",
       "    <tr>\n",
       "      <th>16468</th>\n",
       "      <td>E06000003</td>\n",
       "      <td>Redcar and Cleveland</td>\n",
       "      <td>2020-03-29</td>\n",
       "      <td>0.000030</td>\n",
       "      <td>8.126100e-06</td>\n",
       "    </tr>\n",
       "    <tr>\n",
       "      <th>16469</th>\n",
       "      <td>E06000003</td>\n",
       "      <td>Redcar and Cleveland</td>\n",
       "      <td>2020-03-30</td>\n",
       "      <td>0.000037</td>\n",
       "      <td>4.529953e-06</td>\n",
       "    </tr>\n",
       "    <tr>\n",
       "      <th>16470</th>\n",
       "      <td>E06000003</td>\n",
       "      <td>Redcar and Cleveland</td>\n",
       "      <td>2020-03-31</td>\n",
       "      <td>0.000014</td>\n",
       "      <td>8.344651e-07</td>\n",
       "    </tr>\n",
       "  </tbody>\n",
       "</table>\n",
       "<p>16471 rows × 5 columns</p>\n",
       "</div>"
      ],
      "text/plain": [
       "      region_code           region_name        date  \\\n",
       "0       E06000033       Southend-on-Sea  2020-01-01   \n",
       "1       E06000033       Southend-on-Sea  2020-01-02   \n",
       "2       E06000033       Southend-on-Sea  2020-01-03   \n",
       "3       E06000033       Southend-on-Sea  2020-01-04   \n",
       "4       E06000033       Southend-on-Sea  2020-01-05   \n",
       "...           ...                   ...         ...   \n",
       "16466   E06000003  Redcar and Cleveland  2020-03-27   \n",
       "16467   E06000003  Redcar and Cleveland  2020-03-28   \n",
       "16468   E06000003  Redcar and Cleveland  2020-03-29   \n",
       "16469   E06000003  Redcar and Cleveland  2020-03-30   \n",
       "16470   E06000003  Redcar and Cleveland  2020-03-31   \n",
       "\n",
       "       precipitation_flux_max (kg m-2 s-1)  \\\n",
       "0                                 0.000010   \n",
       "1                                 0.000017   \n",
       "2                                 0.000149   \n",
       "3                                 0.000004   \n",
       "4                                 0.000019   \n",
       "...                                    ...   \n",
       "16466                             0.000002   \n",
       "16467                             0.000063   \n",
       "16468                             0.000030   \n",
       "16469                             0.000037   \n",
       "16470                             0.000014   \n",
       "\n",
       "       precipitation_flux_mean (kg m-2 s-1)  \n",
       "0                              1.629194e-06  \n",
       "1                              2.900759e-06  \n",
       "2                              2.388159e-05  \n",
       "3                              1.986822e-07  \n",
       "4                              1.708667e-06  \n",
       "...                                     ...  \n",
       "16466                          1.192093e-07  \n",
       "16467                          8.761883e-06  \n",
       "16468                          8.126100e-06  \n",
       "16469                          4.529953e-06  \n",
       "16470                          8.344651e-07  \n",
       "\n",
       "[16471 rows x 5 columns]"
      ]
     },
     "execution_count": 67,
     "metadata": {},
     "output_type": "execute_result"
    }
   ],
   "source": [
    "%%time\n",
    "Mdf = pd.concat([pd.read_csv(csv) for csv in csvs], ignore_index=True)\n",
    "Mdf"
   ]
  },
  {
   "cell_type": "code",
   "execution_count": 68,
   "metadata": {},
   "outputs": [],
   "source": [
    "def df_hists(df):\n",
    "    for col in df:\n",
    "        plt.hist(df[col])\n",
    "        plt.title(f'{col}')\n",
    "        plt.show()"
   ]
  },
  {
   "cell_type": "code",
   "execution_count": 69,
   "metadata": {},
   "outputs": [
    {
     "data": {
      "text/html": [
       "<div>\n",
       "<style scoped>\n",
       "    .dataframe tbody tr th:only-of-type {\n",
       "        vertical-align: middle;\n",
       "    }\n",
       "\n",
       "    .dataframe tbody tr th {\n",
       "        vertical-align: top;\n",
       "    }\n",
       "\n",
       "    .dataframe thead th {\n",
       "        text-align: right;\n",
       "    }\n",
       "</style>\n",
       "<table border=\"1\" class=\"dataframe\">\n",
       "  <thead>\n",
       "    <tr style=\"text-align: right;\">\n",
       "      <th></th>\n",
       "      <th>precipitation_flux_max (kg m-2 s-1)</th>\n",
       "      <th>precipitation_flux_mean (kg m-2 s-1)</th>\n",
       "    </tr>\n",
       "  </thead>\n",
       "  <tbody>\n",
       "    <tr>\n",
       "      <th>0</th>\n",
       "      <td>0.000010</td>\n",
       "      <td>1.629194e-06</td>\n",
       "    </tr>\n",
       "    <tr>\n",
       "      <th>1</th>\n",
       "      <td>0.000017</td>\n",
       "      <td>2.900759e-06</td>\n",
       "    </tr>\n",
       "    <tr>\n",
       "      <th>2</th>\n",
       "      <td>0.000149</td>\n",
       "      <td>2.388159e-05</td>\n",
       "    </tr>\n",
       "    <tr>\n",
       "      <th>3</th>\n",
       "      <td>0.000004</td>\n",
       "      <td>1.986822e-07</td>\n",
       "    </tr>\n",
       "    <tr>\n",
       "      <th>4</th>\n",
       "      <td>0.000019</td>\n",
       "      <td>1.708667e-06</td>\n",
       "    </tr>\n",
       "    <tr>\n",
       "      <th>...</th>\n",
       "      <td>...</td>\n",
       "      <td>...</td>\n",
       "    </tr>\n",
       "    <tr>\n",
       "      <th>16466</th>\n",
       "      <td>0.000002</td>\n",
       "      <td>1.192093e-07</td>\n",
       "    </tr>\n",
       "    <tr>\n",
       "      <th>16467</th>\n",
       "      <td>0.000063</td>\n",
       "      <td>8.761883e-06</td>\n",
       "    </tr>\n",
       "    <tr>\n",
       "      <th>16468</th>\n",
       "      <td>0.000030</td>\n",
       "      <td>8.126100e-06</td>\n",
       "    </tr>\n",
       "    <tr>\n",
       "      <th>16469</th>\n",
       "      <td>0.000037</td>\n",
       "      <td>4.529953e-06</td>\n",
       "    </tr>\n",
       "    <tr>\n",
       "      <th>16470</th>\n",
       "      <td>0.000014</td>\n",
       "      <td>8.344651e-07</td>\n",
       "    </tr>\n",
       "  </tbody>\n",
       "</table>\n",
       "<p>16471 rows × 2 columns</p>\n",
       "</div>"
      ],
      "text/plain": [
       "       precipitation_flux_max (kg m-2 s-1)  \\\n",
       "0                                 0.000010   \n",
       "1                                 0.000017   \n",
       "2                                 0.000149   \n",
       "3                                 0.000004   \n",
       "4                                 0.000019   \n",
       "...                                    ...   \n",
       "16466                             0.000002   \n",
       "16467                             0.000063   \n",
       "16468                             0.000030   \n",
       "16469                             0.000037   \n",
       "16470                             0.000014   \n",
       "\n",
       "       precipitation_flux_mean (kg m-2 s-1)  \n",
       "0                              1.629194e-06  \n",
       "1                              2.900759e-06  \n",
       "2                              2.388159e-05  \n",
       "3                              1.986822e-07  \n",
       "4                              1.708667e-06  \n",
       "...                                     ...  \n",
       "16466                          1.192093e-07  \n",
       "16467                          8.761883e-06  \n",
       "16468                          8.126100e-06  \n",
       "16469                          4.529953e-06  \n",
       "16470                          8.344651e-07  \n",
       "\n",
       "[16471 rows x 2 columns]"
      ]
     },
     "execution_count": 69,
     "metadata": {},
     "output_type": "execute_result"
    }
   ],
   "source": [
    "Mdf[Mdf.columns[3:]]"
   ]
  },
  {
   "cell_type": "code",
   "execution_count": 70,
   "metadata": {},
   "outputs": [
    {
     "data": {
      "image/png": "[encoded data removed]",
      "text/plain": [
       "<Figure size 432x288 with 1 Axes>"
      ]
     },
     "metadata": {
      "needs_background": "light"
     },
     "output_type": "display_data"
    },
    {
     "data": {
      "image/png": "[encoded data removed]",
      "text/plain": [
       "<Figure size 432x288 with 1 Axes>"
      ]
     },
     "metadata": {
      "needs_background": "light"
     },
     "output_type": "display_data"
    },
    {
     "name": "stdout",
     "output_type": "stream",
     "text": [
      "CPU times: user 4.07 s, sys: 0 ns, total: 4.07 s\n",
      "Wall time: 322 ms\n"
     ]
    }
   ],
   "source": [
    "%%time\n",
    "df_hists(Mdf[Mdf.columns[3:]])"
   ]
  },
  {
   "cell_type": "markdown",
   "metadata": {},
   "source": [
    "**Data looks sensible, I think we have successfully made a mega dataframe!**"
   ]
  },
  {
   "cell_type": "markdown",
   "metadata": {},
   "source": [
    "## Let's now write that out to a file"
   ]
  },
  {
   "cell_type": "code",
   "execution_count": 71,
   "metadata": {},
   "outputs": [
    {
     "name": "stdout",
     "output_type": "stream",
     "text": [
      "CPU times: user 87.8 ms, sys: 0 ns, total: 87.8 ms\n",
      "Wall time: 184 ms\n"
     ]
    }
   ],
   "source": [
    "%%time\n",
    "Mdf.to_csv(f'/data/misc/covid-19/uk_data_precip/uk_daily_precipdata_2020jan-mar_v01.csv', index=False)"
   ]
  },
  {
   "cell_type": "markdown",
   "metadata": {},
   "source": [
    "## Now we need to load the other mega dataframe and merge it with the precip dataframe we just made"
   ]
  },
  {
   "cell_type": "code",
   "execution_count": 73,
   "metadata": {},
   "outputs": [
    {
     "data": {
      "text/html": [
       "<div>\n",
       "<style scoped>\n",
       "    .dataframe tbody tr th:only-of-type {\n",
       "        vertical-align: middle;\n",
       "    }\n",
       "\n",
       "    .dataframe tbody tr th {\n",
       "        vertical-align: top;\n",
       "    }\n",
       "\n",
       "    .dataframe thead th {\n",
       "        text-align: right;\n",
       "    }\n",
       "</style>\n",
       "<table border=\"1\" class=\"dataframe\">\n",
       "  <thead>\n",
       "    <tr style=\"text-align: right;\">\n",
       "      <th></th>\n",
       "      <th>region_code</th>\n",
       "      <th>region_name</th>\n",
       "      <th>date</th>\n",
       "      <th>air_temperature_max (K)</th>\n",
       "      <th>air_temperature_mean (K)</th>\n",
       "      <th>air_temperature_min (K)</th>\n",
       "      <th>short_wave_radiation_max (W/m2)</th>\n",
       "      <th>short_wave_radiation_mean (W/m2)</th>\n",
       "      <th>specific_humidity_max (1)</th>\n",
       "      <th>specific_humidity_mean (1)</th>\n",
       "      <th>specific_humidity_min (1)</th>\n",
       "    </tr>\n",
       "  </thead>\n",
       "  <tbody>\n",
       "    <tr>\n",
       "      <th>0</th>\n",
       "      <td>W11000028</td>\n",
       "      <td>Aneurin Bevan University Health Board</td>\n",
       "      <td>2020-01-01</td>\n",
       "      <td>280.32380</td>\n",
       "      <td>278.65225</td>\n",
       "      <td>277.14670</td>\n",
       "      <td>107.931854</td>\n",
       "      <td>15.872722</td>\n",
       "      <td>0.006246</td>\n",
       "      <td>0.005460</td>\n",
       "      <td>0.004842</td>\n",
       "    </tr>\n",
       "    <tr>\n",
       "      <th>1</th>\n",
       "      <td>W11000028</td>\n",
       "      <td>Aneurin Bevan University Health Board</td>\n",
       "      <td>2020-01-02</td>\n",
       "      <td>282.86154</td>\n",
       "      <td>280.63858</td>\n",
       "      <td>278.07336</td>\n",
       "      <td>80.705290</td>\n",
       "      <td>13.096335</td>\n",
       "      <td>0.007256</td>\n",
       "      <td>0.006177</td>\n",
       "      <td>0.005154</td>\n",
       "    </tr>\n",
       "    <tr>\n",
       "      <th>2</th>\n",
       "      <td>W11000028</td>\n",
       "      <td>Aneurin Bevan University Health Board</td>\n",
       "      <td>2020-01-03</td>\n",
       "      <td>282.58160</td>\n",
       "      <td>279.85855</td>\n",
       "      <td>276.90192</td>\n",
       "      <td>161.631520</td>\n",
       "      <td>28.314524</td>\n",
       "      <td>0.007141</td>\n",
       "      <td>0.005413</td>\n",
       "      <td>0.004333</td>\n",
       "    </tr>\n",
       "    <tr>\n",
       "      <th>3</th>\n",
       "      <td>W11000028</td>\n",
       "      <td>Aneurin Bevan University Health Board</td>\n",
       "      <td>2020-01-04</td>\n",
       "      <td>280.16450</td>\n",
       "      <td>278.74075</td>\n",
       "      <td>276.34897</td>\n",
       "      <td>98.807290</td>\n",
       "      <td>16.487267</td>\n",
       "      <td>0.005690</td>\n",
       "      <td>0.005051</td>\n",
       "      <td>0.004306</td>\n",
       "    </tr>\n",
       "    <tr>\n",
       "      <th>4</th>\n",
       "      <td>W11000028</td>\n",
       "      <td>Aneurin Bevan University Health Board</td>\n",
       "      <td>2020-01-05</td>\n",
       "      <td>280.77258</td>\n",
       "      <td>279.83930</td>\n",
       "      <td>279.09723</td>\n",
       "      <td>95.183590</td>\n",
       "      <td>14.714047</td>\n",
       "      <td>0.005961</td>\n",
       "      <td>0.005630</td>\n",
       "      <td>0.005310</td>\n",
       "    </tr>\n",
       "    <tr>\n",
       "      <th>...</th>\n",
       "      <td>...</td>\n",
       "      <td>...</td>\n",
       "      <td>...</td>\n",
       "      <td>...</td>\n",
       "      <td>...</td>\n",
       "      <td>...</td>\n",
       "      <td>...</td>\n",
       "      <td>...</td>\n",
       "      <td>...</td>\n",
       "      <td>...</td>\n",
       "      <td>...</td>\n",
       "    </tr>\n",
       "    <tr>\n",
       "      <th>16466</th>\n",
       "      <td>E06000014</td>\n",
       "      <td>York</td>\n",
       "      <td>2020-03-27</td>\n",
       "      <td>283.71700</td>\n",
       "      <td>277.96400</td>\n",
       "      <td>272.95660</td>\n",
       "      <td>544.651060</td>\n",
       "      <td>169.295930</td>\n",
       "      <td>0.004395</td>\n",
       "      <td>0.003835</td>\n",
       "      <td>0.003282</td>\n",
       "    </tr>\n",
       "    <tr>\n",
       "      <th>16467</th>\n",
       "      <td>E06000014</td>\n",
       "      <td>York</td>\n",
       "      <td>2020-03-28</td>\n",
       "      <td>282.71180</td>\n",
       "      <td>278.98505</td>\n",
       "      <td>276.44965</td>\n",
       "      <td>464.074650</td>\n",
       "      <td>108.072990</td>\n",
       "      <td>0.004883</td>\n",
       "      <td>0.004111</td>\n",
       "      <td>0.003092</td>\n",
       "    </tr>\n",
       "    <tr>\n",
       "      <th>16468</th>\n",
       "      <td>E06000014</td>\n",
       "      <td>York</td>\n",
       "      <td>2020-03-29</td>\n",
       "      <td>279.44965</td>\n",
       "      <td>276.99610</td>\n",
       "      <td>274.28647</td>\n",
       "      <td>357.055540</td>\n",
       "      <td>89.059105</td>\n",
       "      <td>0.003418</td>\n",
       "      <td>0.003034</td>\n",
       "      <td>0.002713</td>\n",
       "    </tr>\n",
       "    <tr>\n",
       "      <th>16469</th>\n",
       "      <td>E06000014</td>\n",
       "      <td>York</td>\n",
       "      <td>2020-03-30</td>\n",
       "      <td>281.85416</td>\n",
       "      <td>278.98300</td>\n",
       "      <td>275.42535</td>\n",
       "      <td>335.862850</td>\n",
       "      <td>78.952770</td>\n",
       "      <td>0.005046</td>\n",
       "      <td>0.004357</td>\n",
       "      <td>0.003201</td>\n",
       "    </tr>\n",
       "    <tr>\n",
       "      <th>16470</th>\n",
       "      <td>E06000014</td>\n",
       "      <td>York</td>\n",
       "      <td>2020-03-31</td>\n",
       "      <td>281.81250</td>\n",
       "      <td>280.15942</td>\n",
       "      <td>277.31076</td>\n",
       "      <td>349.470500</td>\n",
       "      <td>116.147180</td>\n",
       "      <td>0.005127</td>\n",
       "      <td>0.004703</td>\n",
       "      <td>0.004367</td>\n",
       "    </tr>\n",
       "  </tbody>\n",
       "</table>\n",
       "<p>16471 rows × 11 columns</p>\n",
       "</div>"
      ],
      "text/plain": [
       "      region_code                            region_name        date  \\\n",
       "0       W11000028  Aneurin Bevan University Health Board  2020-01-01   \n",
       "1       W11000028  Aneurin Bevan University Health Board  2020-01-02   \n",
       "2       W11000028  Aneurin Bevan University Health Board  2020-01-03   \n",
       "3       W11000028  Aneurin Bevan University Health Board  2020-01-04   \n",
       "4       W11000028  Aneurin Bevan University Health Board  2020-01-05   \n",
       "...           ...                                    ...         ...   \n",
       "16466   E06000014                                   York  2020-03-27   \n",
       "16467   E06000014                                   York  2020-03-28   \n",
       "16468   E06000014                                   York  2020-03-29   \n",
       "16469   E06000014                                   York  2020-03-30   \n",
       "16470   E06000014                                   York  2020-03-31   \n",
       "\n",
       "       air_temperature_max (K)  air_temperature_mean (K)  \\\n",
       "0                    280.32380                 278.65225   \n",
       "1                    282.86154                 280.63858   \n",
       "2                    282.58160                 279.85855   \n",
       "3                    280.16450                 278.74075   \n",
       "4                    280.77258                 279.83930   \n",
       "...                        ...                       ...   \n",
       "16466                283.71700                 277.96400   \n",
       "16467                282.71180                 278.98505   \n",
       "16468                279.44965                 276.99610   \n",
       "16469                281.85416                 278.98300   \n",
       "16470                281.81250                 280.15942   \n",
       "\n",
       "       air_temperature_min (K)  short_wave_radiation_max (W/m2)  \\\n",
       "0                    277.14670                       107.931854   \n",
       "1                    278.07336                        80.705290   \n",
       "2                    276.90192                       161.631520   \n",
       "3                    276.34897                        98.807290   \n",
       "4                    279.09723                        95.183590   \n",
       "...                        ...                              ...   \n",
       "16466                272.95660                       544.651060   \n",
       "16467                276.44965                       464.074650   \n",
       "16468                274.28647                       357.055540   \n",
       "16469                275.42535                       335.862850   \n",
       "16470                277.31076                       349.470500   \n",
       "\n",
       "       short_wave_radiation_mean (W/m2)  specific_humidity_max (1)  \\\n",
       "0                             15.872722                   0.006246   \n",
       "1                             13.096335                   0.007256   \n",
       "2                             28.314524                   0.007141   \n",
       "3                             16.487267                   0.005690   \n",
       "4                             14.714047                   0.005961   \n",
       "...                                 ...                        ...   \n",
       "16466                        169.295930                   0.004395   \n",
       "16467                        108.072990                   0.004883   \n",
       "16468                         89.059105                   0.003418   \n",
       "16469                         78.952770                   0.005046   \n",
       "16470                        116.147180                   0.005127   \n",
       "\n",
       "       specific_humidity_mean (1)  specific_humidity_min (1)  \n",
       "0                        0.005460                   0.004842  \n",
       "1                        0.006177                   0.005154  \n",
       "2                        0.005413                   0.004333  \n",
       "3                        0.005051                   0.004306  \n",
       "4                        0.005630                   0.005310  \n",
       "...                           ...                        ...  \n",
       "16466                    0.003835                   0.003282  \n",
       "16467                    0.004111                   0.003092  \n",
       "16468                    0.003034                   0.002713  \n",
       "16469                    0.004357                   0.003201  \n",
       "16470                    0.004703                   0.004367  \n",
       "\n",
       "[16471 rows x 11 columns]"
      ]
     },
     "execution_count": 73,
     "metadata": {},
     "output_type": "execute_result"
    }
   ],
   "source": [
    "fulldf = pd.read_csv('/data/misc/covid-19/uk_data/UKregions_daily_meteodata_2020jan-mar_v02.csv')\n",
    "fulldf"
   ]
  },
  {
   "cell_type": "markdown",
   "metadata": {},
   "source": [
    "### To ensure the dataframes merge exactly on their common rows, let's pass all their common columns to `merge()`, which we defined in `col0` earlier"
   ]
  },
  {
   "cell_type": "code",
   "execution_count": 74,
   "metadata": {},
   "outputs": [
    {
     "data": {
      "text/plain": [
       "['region_code', 'region_name', 'date']"
      ]
     },
     "execution_count": 74,
     "metadata": {},
     "output_type": "execute_result"
    }
   ],
   "source": [
    "col0"
   ]
  },
  {
   "cell_type": "code",
   "execution_count": 75,
   "metadata": {},
   "outputs": [
    {
     "name": "stdout",
     "output_type": "stream",
     "text": [
      "CPU times: user 16.3 ms, sys: 0 ns, total: 16.3 ms\n",
      "Wall time: 15.1 ms\n"
     ]
    },
    {
     "data": {
      "text/html": [
       "<div>\n",
       "<style scoped>\n",
       "    .dataframe tbody tr th:only-of-type {\n",
       "        vertical-align: middle;\n",
       "    }\n",
       "\n",
       "    .dataframe tbody tr th {\n",
       "        vertical-align: top;\n",
       "    }\n",
       "\n",
       "    .dataframe thead th {\n",
       "        text-align: right;\n",
       "    }\n",
       "</style>\n",
       "<table border=\"1\" class=\"dataframe\">\n",
       "  <thead>\n",
       "    <tr style=\"text-align: right;\">\n",
       "      <th></th>\n",
       "      <th>region_code</th>\n",
       "      <th>region_name</th>\n",
       "      <th>date</th>\n",
       "      <th>air_temperature_max (K)</th>\n",
       "      <th>air_temperature_mean (K)</th>\n",
       "      <th>air_temperature_min (K)</th>\n",
       "      <th>short_wave_radiation_max (W/m2)</th>\n",
       "      <th>short_wave_radiation_mean (W/m2)</th>\n",
       "      <th>specific_humidity_max (1)</th>\n",
       "      <th>specific_humidity_mean (1)</th>\n",
       "      <th>specific_humidity_min (1)</th>\n",
       "      <th>precipitation_flux_max (kg m-2 s-1)</th>\n",
       "      <th>precipitation_flux_mean (kg m-2 s-1)</th>\n",
       "    </tr>\n",
       "  </thead>\n",
       "  <tbody>\n",
       "    <tr>\n",
       "      <th>0</th>\n",
       "      <td>W11000028</td>\n",
       "      <td>Aneurin Bevan University Health Board</td>\n",
       "      <td>2020-01-01</td>\n",
       "      <td>280.32380</td>\n",
       "      <td>278.65225</td>\n",
       "      <td>277.14670</td>\n",
       "      <td>107.931854</td>\n",
       "      <td>15.872722</td>\n",
       "      <td>0.006246</td>\n",
       "      <td>0.005460</td>\n",
       "      <td>0.004842</td>\n",
       "      <td>0.000045</td>\n",
       "      <td>1.013279e-05</td>\n",
       "    </tr>\n",
       "    <tr>\n",
       "      <th>1</th>\n",
       "      <td>W11000028</td>\n",
       "      <td>Aneurin Bevan University Health Board</td>\n",
       "      <td>2020-01-02</td>\n",
       "      <td>282.86154</td>\n",
       "      <td>280.63858</td>\n",
       "      <td>278.07336</td>\n",
       "      <td>80.705290</td>\n",
       "      <td>13.096335</td>\n",
       "      <td>0.007256</td>\n",
       "      <td>0.006177</td>\n",
       "      <td>0.005154</td>\n",
       "      <td>0.000182</td>\n",
       "      <td>3.007606e-05</td>\n",
       "    </tr>\n",
       "    <tr>\n",
       "      <th>2</th>\n",
       "      <td>W11000028</td>\n",
       "      <td>Aneurin Bevan University Health Board</td>\n",
       "      <td>2020-01-03</td>\n",
       "      <td>282.58160</td>\n",
       "      <td>279.85855</td>\n",
       "      <td>276.90192</td>\n",
       "      <td>161.631520</td>\n",
       "      <td>28.314524</td>\n",
       "      <td>0.007141</td>\n",
       "      <td>0.005413</td>\n",
       "      <td>0.004333</td>\n",
       "      <td>0.000333</td>\n",
       "      <td>4.182922e-05</td>\n",
       "    </tr>\n",
       "    <tr>\n",
       "      <th>3</th>\n",
       "      <td>W11000028</td>\n",
       "      <td>Aneurin Bevan University Health Board</td>\n",
       "      <td>2020-01-04</td>\n",
       "      <td>280.16450</td>\n",
       "      <td>278.74075</td>\n",
       "      <td>276.34897</td>\n",
       "      <td>98.807290</td>\n",
       "      <td>16.487267</td>\n",
       "      <td>0.005690</td>\n",
       "      <td>0.005051</td>\n",
       "      <td>0.004306</td>\n",
       "      <td>0.000040</td>\n",
       "      <td>6.777269e-06</td>\n",
       "    </tr>\n",
       "    <tr>\n",
       "      <th>4</th>\n",
       "      <td>W11000028</td>\n",
       "      <td>Aneurin Bevan University Health Board</td>\n",
       "      <td>2020-01-05</td>\n",
       "      <td>280.77258</td>\n",
       "      <td>279.83930</td>\n",
       "      <td>279.09723</td>\n",
       "      <td>95.183590</td>\n",
       "      <td>14.714047</td>\n",
       "      <td>0.005961</td>\n",
       "      <td>0.005630</td>\n",
       "      <td>0.005310</td>\n",
       "      <td>0.000054</td>\n",
       "      <td>1.660541e-05</td>\n",
       "    </tr>\n",
       "    <tr>\n",
       "      <th>...</th>\n",
       "      <td>...</td>\n",
       "      <td>...</td>\n",
       "      <td>...</td>\n",
       "      <td>...</td>\n",
       "      <td>...</td>\n",
       "      <td>...</td>\n",
       "      <td>...</td>\n",
       "      <td>...</td>\n",
       "      <td>...</td>\n",
       "      <td>...</td>\n",
       "      <td>...</td>\n",
       "      <td>...</td>\n",
       "      <td>...</td>\n",
       "    </tr>\n",
       "    <tr>\n",
       "      <th>16466</th>\n",
       "      <td>E06000014</td>\n",
       "      <td>York</td>\n",
       "      <td>2020-03-27</td>\n",
       "      <td>283.71700</td>\n",
       "      <td>277.96400</td>\n",
       "      <td>272.95660</td>\n",
       "      <td>544.651060</td>\n",
       "      <td>169.295930</td>\n",
       "      <td>0.004395</td>\n",
       "      <td>0.003835</td>\n",
       "      <td>0.003282</td>\n",
       "      <td>0.000000</td>\n",
       "      <td>0.000000e+00</td>\n",
       "    </tr>\n",
       "    <tr>\n",
       "      <th>16467</th>\n",
       "      <td>E06000014</td>\n",
       "      <td>York</td>\n",
       "      <td>2020-03-28</td>\n",
       "      <td>282.71180</td>\n",
       "      <td>278.98505</td>\n",
       "      <td>276.44965</td>\n",
       "      <td>464.074650</td>\n",
       "      <td>108.072990</td>\n",
       "      <td>0.004883</td>\n",
       "      <td>0.004111</td>\n",
       "      <td>0.003092</td>\n",
       "      <td>0.000003</td>\n",
       "      <td>1.942670e-07</td>\n",
       "    </tr>\n",
       "    <tr>\n",
       "      <th>16468</th>\n",
       "      <td>E06000014</td>\n",
       "      <td>York</td>\n",
       "      <td>2020-03-29</td>\n",
       "      <td>279.44965</td>\n",
       "      <td>276.99610</td>\n",
       "      <td>274.28647</td>\n",
       "      <td>357.055540</td>\n",
       "      <td>89.059105</td>\n",
       "      <td>0.003418</td>\n",
       "      <td>0.003034</td>\n",
       "      <td>0.002713</td>\n",
       "      <td>0.000002</td>\n",
       "      <td>8.830318e-08</td>\n",
       "    </tr>\n",
       "    <tr>\n",
       "      <th>16469</th>\n",
       "      <td>E06000014</td>\n",
       "      <td>York</td>\n",
       "      <td>2020-03-30</td>\n",
       "      <td>281.85416</td>\n",
       "      <td>278.98300</td>\n",
       "      <td>275.42535</td>\n",
       "      <td>335.862850</td>\n",
       "      <td>78.952770</td>\n",
       "      <td>0.005046</td>\n",
       "      <td>0.004357</td>\n",
       "      <td>0.003201</td>\n",
       "      <td>0.000011</td>\n",
       "      <td>1.236244e-06</td>\n",
       "    </tr>\n",
       "    <tr>\n",
       "      <th>16470</th>\n",
       "      <td>E06000014</td>\n",
       "      <td>York</td>\n",
       "      <td>2020-03-31</td>\n",
       "      <td>281.81250</td>\n",
       "      <td>280.15942</td>\n",
       "      <td>277.31076</td>\n",
       "      <td>349.470500</td>\n",
       "      <td>116.147180</td>\n",
       "      <td>0.005127</td>\n",
       "      <td>0.004703</td>\n",
       "      <td>0.004367</td>\n",
       "      <td>0.000004</td>\n",
       "      <td>4.768372e-07</td>\n",
       "    </tr>\n",
       "  </tbody>\n",
       "</table>\n",
       "<p>16471 rows × 13 columns</p>\n",
       "</div>"
      ],
      "text/plain": [
       "      region_code                            region_name        date  \\\n",
       "0       W11000028  Aneurin Bevan University Health Board  2020-01-01   \n",
       "1       W11000028  Aneurin Bevan University Health Board  2020-01-02   \n",
       "2       W11000028  Aneurin Bevan University Health Board  2020-01-03   \n",
       "3       W11000028  Aneurin Bevan University Health Board  2020-01-04   \n",
       "4       W11000028  Aneurin Bevan University Health Board  2020-01-05   \n",
       "...           ...                                    ...         ...   \n",
       "16466   E06000014                                   York  2020-03-27   \n",
       "16467   E06000014                                   York  2020-03-28   \n",
       "16468   E06000014                                   York  2020-03-29   \n",
       "16469   E06000014                                   York  2020-03-30   \n",
       "16470   E06000014                                   York  2020-03-31   \n",
       "\n",
       "       air_temperature_max (K)  air_temperature_mean (K)  \\\n",
       "0                    280.32380                 278.65225   \n",
       "1                    282.86154                 280.63858   \n",
       "2                    282.58160                 279.85855   \n",
       "3                    280.16450                 278.74075   \n",
       "4                    280.77258                 279.83930   \n",
       "...                        ...                       ...   \n",
       "16466                283.71700                 277.96400   \n",
       "16467                282.71180                 278.98505   \n",
       "16468                279.44965                 276.99610   \n",
       "16469                281.85416                 278.98300   \n",
       "16470                281.81250                 280.15942   \n",
       "\n",
       "       air_temperature_min (K)  short_wave_radiation_max (W/m2)  \\\n",
       "0                    277.14670                       107.931854   \n",
       "1                    278.07336                        80.705290   \n",
       "2                    276.90192                       161.631520   \n",
       "3                    276.34897                        98.807290   \n",
       "4                    279.09723                        95.183590   \n",
       "...                        ...                              ...   \n",
       "16466                272.95660                       544.651060   \n",
       "16467                276.44965                       464.074650   \n",
       "16468                274.28647                       357.055540   \n",
       "16469                275.42535                       335.862850   \n",
       "16470                277.31076                       349.470500   \n",
       "\n",
       "       short_wave_radiation_mean (W/m2)  specific_humidity_max (1)  \\\n",
       "0                             15.872722                   0.006246   \n",
       "1                             13.096335                   0.007256   \n",
       "2                             28.314524                   0.007141   \n",
       "3                             16.487267                   0.005690   \n",
       "4                             14.714047                   0.005961   \n",
       "...                                 ...                        ...   \n",
       "16466                        169.295930                   0.004395   \n",
       "16467                        108.072990                   0.004883   \n",
       "16468                         89.059105                   0.003418   \n",
       "16469                         78.952770                   0.005046   \n",
       "16470                        116.147180                   0.005127   \n",
       "\n",
       "       specific_humidity_mean (1)  specific_humidity_min (1)  \\\n",
       "0                        0.005460                   0.004842   \n",
       "1                        0.006177                   0.005154   \n",
       "2                        0.005413                   0.004333   \n",
       "3                        0.005051                   0.004306   \n",
       "4                        0.005630                   0.005310   \n",
       "...                           ...                        ...   \n",
       "16466                    0.003835                   0.003282   \n",
       "16467                    0.004111                   0.003092   \n",
       "16468                    0.003034                   0.002713   \n",
       "16469                    0.004357                   0.003201   \n",
       "16470                    0.004703                   0.004367   \n",
       "\n",
       "       precipitation_flux_max (kg m-2 s-1)  \\\n",
       "0                                 0.000045   \n",
       "1                                 0.000182   \n",
       "2                                 0.000333   \n",
       "3                                 0.000040   \n",
       "4                                 0.000054   \n",
       "...                                    ...   \n",
       "16466                             0.000000   \n",
       "16467                             0.000003   \n",
       "16468                             0.000002   \n",
       "16469                             0.000011   \n",
       "16470                             0.000004   \n",
       "\n",
       "       precipitation_flux_mean (kg m-2 s-1)  \n",
       "0                              1.013279e-05  \n",
       "1                              3.007606e-05  \n",
       "2                              4.182922e-05  \n",
       "3                              6.777269e-06  \n",
       "4                              1.660541e-05  \n",
       "...                                     ...  \n",
       "16466                          0.000000e+00  \n",
       "16467                          1.942670e-07  \n",
       "16468                          8.830318e-08  \n",
       "16469                          1.236244e-06  \n",
       "16470                          4.768372e-07  \n",
       "\n",
       "[16471 rows x 13 columns]"
      ]
     },
     "execution_count": 75,
     "metadata": {},
     "output_type": "execute_result"
    }
   ],
   "source": [
    "%%time\n",
    "mergedf = fulldf.merge(Mdf, how='left', on=col0)\n",
    "mergedf"
   ]
  },
  {
   "cell_type": "code",
   "execution_count": 77,
   "metadata": {},
   "outputs": [
    {
     "data": {
      "image/png": "[encoded data removed]",
      "text/plain": [
       "<Figure size 432x288 with 1 Axes>"
      ]
     },
     "metadata": {
      "needs_background": "light"
     },
     "output_type": "display_data"
    },
    {
     "data": {
      "image/png": "[encoded data removed]",
      "text/plain": [
       "<Figure size 432x288 with 1 Axes>"
      ]
     },
     "metadata": {
      "needs_background": "light"
     },
     "output_type": "display_data"
    },
    {
     "data": {
      "image/png": "[encoded data removed]",
      "text/plain": [
       "<Figure size 432x288 with 1 Axes>"
      ]
     },
     "metadata": {
      "needs_background": "light"
     },
     "output_type": "display_data"
    },
    {
     "data": {
      "image/png": "[encoded data removed]",
      "text/plain": [
       "<Figure size 432x288 with 1 Axes>"
      ]
     },
     "metadata": {
      "needs_background": "light"
     },
     "output_type": "display_data"
    },
    {
     "data": {
      "image/png": "[encoded data removed]",
      "text/plain": [
       "<Figure size 432x288 with 1 Axes>"
      ]
     },
     "metadata": {
      "needs_background": "light"
     },
     "output_type": "display_data"
    },
    {
     "data": {
      "image/png": "[encoded data removed]",
      "text/plain": [
       "<Figure size 432x288 with 1 Axes>"
      ]
     },
     "metadata": {
      "needs_background": "light"
     },
     "output_type": "display_data"
    },
    {
     "data": {
      "image/png": "[encoded data removed]",
      "text/plain": [
       "<Figure size 432x288 with 1 Axes>"
      ]
     },
     "metadata": {
      "needs_background": "light"
     },
     "output_type": "display_data"
    },
    {
     "data": {
      "image/png": "[encoded data removed]",
      "text/plain": [
       "<Figure size 432x288 with 1 Axes>"
      ]
     },
     "metadata": {
      "needs_background": "light"
     },
     "output_type": "display_data"
    },
    {
     "data": {
      "image/png": "[encoded data removed]",
      "text/plain": [
       "<Figure size 432x288 with 1 Axes>"
      ]
     },
     "metadata": {
      "needs_background": "light"
     },
     "output_type": "display_data"
    },
    {
     "data": {
      "image/png": "[encoded data removed]",
      "text/plain": [
       "<Figure size 432x288 with 1 Axes>"
      ]
     },
     "metadata": {
      "needs_background": "light"
     },
     "output_type": "display_data"
    },
    {
     "name": "stdout",
     "output_type": "stream",
     "text": [
      "CPU times: user 19.4 s, sys: 0 ns, total: 19.4 s\n",
      "Wall time: 1.42 s\n"
     ]
    }
   ],
   "source": [
    "%%time\n",
    "df_hists(mergedf[mergedf.columns[3:]])"
   ]
  },
  {
   "cell_type": "markdown",
   "metadata": {},
   "source": [
    "**Success! The data looks good**\n",
    "\n",
    "### Now let's check that all the values in `Mdf` and `mergedf` are the same for the columns we added\n",
    "\n",
    "First we need to get `Mdf` on the same indices as `mergdf`"
   ]
  },
  {
   "cell_type": "code",
   "execution_count": 79,
   "metadata": {},
   "outputs": [],
   "source": [
    "mdfsort = Mdf.sort_values(by=col0).reset_index(drop=True)\n",
    "fulldfsort = fulldf.sort_values(by=col0).reset_index(drop=True)\n",
    "mergedfsort = mergedf.sort_values(by=col0).reset_index(drop=True)"
   ]
  },
  {
   "cell_type": "code",
   "execution_count": 80,
   "metadata": {},
   "outputs": [
    {
     "name": "stdout",
     "output_type": "stream",
     "text": [
      "True\n",
      "True\n",
      "True\n",
      "True\n",
      "True\n"
     ]
    }
   ],
   "source": [
    "for col in mdfsort:\n",
    "    print(mergedfsort[col].all() == mdfsort[col].all())"
   ]
  },
  {
   "cell_type": "markdown",
   "metadata": {},
   "source": [
    "#### And for good measure let's check it with `fulldf`"
   ]
  },
  {
   "cell_type": "code",
   "execution_count": 81,
   "metadata": {},
   "outputs": [
    {
     "name": "stdout",
     "output_type": "stream",
     "text": [
      "True\n",
      "True\n",
      "True\n",
      "True\n",
      "True\n",
      "True\n",
      "True\n",
      "True\n",
      "True\n",
      "True\n",
      "True\n"
     ]
    }
   ],
   "source": [
    "for col in fulldf:\n",
    "    print(mergedfsort[col].all() == fulldfsort[col].all())"
   ]
  },
  {
   "cell_type": "code",
   "execution_count": 82,
   "metadata": {},
   "outputs": [
    {
     "data": {
      "text/html": [
       "<div>\n",
       "<style scoped>\n",
       "    .dataframe tbody tr th:only-of-type {\n",
       "        vertical-align: middle;\n",
       "    }\n",
       "\n",
       "    .dataframe tbody tr th {\n",
       "        vertical-align: top;\n",
       "    }\n",
       "\n",
       "    .dataframe thead th {\n",
       "        text-align: right;\n",
       "    }\n",
       "</style>\n",
       "<table border=\"1\" class=\"dataframe\">\n",
       "  <thead>\n",
       "    <tr style=\"text-align: right;\">\n",
       "      <th></th>\n",
       "      <th>region_code</th>\n",
       "      <th>region_name</th>\n",
       "      <th>date</th>\n",
       "      <th>air_temperature_max (K)</th>\n",
       "      <th>air_temperature_mean (K)</th>\n",
       "      <th>air_temperature_min (K)</th>\n",
       "      <th>short_wave_radiation_max (W/m2)</th>\n",
       "      <th>short_wave_radiation_mean (W/m2)</th>\n",
       "      <th>specific_humidity_max (1)</th>\n",
       "      <th>specific_humidity_mean (1)</th>\n",
       "      <th>specific_humidity_min (1)</th>\n",
       "      <th>precipitation_flux_max (kg m-2 s-1)</th>\n",
       "      <th>precipitation_flux_mean (kg m-2 s-1)</th>\n",
       "    </tr>\n",
       "  </thead>\n",
       "  <tbody>\n",
       "    <tr>\n",
       "      <th>0</th>\n",
       "      <td>E06000001</td>\n",
       "      <td>Hartlepool</td>\n",
       "      <td>2020-01-01</td>\n",
       "      <td>279.23438</td>\n",
       "      <td>277.24237</td>\n",
       "      <td>275.92578</td>\n",
       "      <td>147.90234</td>\n",
       "      <td>19.283041</td>\n",
       "      <td>0.004944</td>\n",
       "      <td>0.004707</td>\n",
       "      <td>0.004456</td>\n",
       "      <td>0.000010</td>\n",
       "      <td>1.351039e-06</td>\n",
       "    </tr>\n",
       "    <tr>\n",
       "      <th>1</th>\n",
       "      <td>E06000001</td>\n",
       "      <td>Hartlepool</td>\n",
       "      <td>2020-01-02</td>\n",
       "      <td>283.07812</td>\n",
       "      <td>280.12906</td>\n",
       "      <td>277.55078</td>\n",
       "      <td>117.69141</td>\n",
       "      <td>18.449871</td>\n",
       "      <td>0.006592</td>\n",
       "      <td>0.005501</td>\n",
       "      <td>0.004761</td>\n",
       "      <td>0.000000</td>\n",
       "      <td>0.000000e+00</td>\n",
       "    </tr>\n",
       "    <tr>\n",
       "      <th>2</th>\n",
       "      <td>E06000001</td>\n",
       "      <td>Hartlepool</td>\n",
       "      <td>2020-01-03</td>\n",
       "      <td>282.79688</td>\n",
       "      <td>279.74660</td>\n",
       "      <td>277.96875</td>\n",
       "      <td>154.80078</td>\n",
       "      <td>22.860188</td>\n",
       "      <td>0.006592</td>\n",
       "      <td>0.004878</td>\n",
       "      <td>0.004150</td>\n",
       "      <td>0.000041</td>\n",
       "      <td>2.861023e-06</td>\n",
       "    </tr>\n",
       "    <tr>\n",
       "      <th>3</th>\n",
       "      <td>E06000001</td>\n",
       "      <td>Hartlepool</td>\n",
       "      <td>2020-01-04</td>\n",
       "      <td>282.01562</td>\n",
       "      <td>280.29282</td>\n",
       "      <td>279.26953</td>\n",
       "      <td>153.47656</td>\n",
       "      <td>23.798340</td>\n",
       "      <td>0.005432</td>\n",
       "      <td>0.005099</td>\n",
       "      <td>0.004700</td>\n",
       "      <td>0.000002</td>\n",
       "      <td>7.947286e-08</td>\n",
       "    </tr>\n",
       "    <tr>\n",
       "      <th>4</th>\n",
       "      <td>E06000001</td>\n",
       "      <td>Hartlepool</td>\n",
       "      <td>2020-01-05</td>\n",
       "      <td>282.67578</td>\n",
       "      <td>281.60907</td>\n",
       "      <td>280.41406</td>\n",
       "      <td>122.05469</td>\n",
       "      <td>18.692709</td>\n",
       "      <td>0.006348</td>\n",
       "      <td>0.005755</td>\n",
       "      <td>0.005432</td>\n",
       "      <td>0.000006</td>\n",
       "      <td>3.973643e-07</td>\n",
       "    </tr>\n",
       "    <tr>\n",
       "      <th>...</th>\n",
       "      <td>...</td>\n",
       "      <td>...</td>\n",
       "      <td>...</td>\n",
       "      <td>...</td>\n",
       "      <td>...</td>\n",
       "      <td>...</td>\n",
       "      <td>...</td>\n",
       "      <td>...</td>\n",
       "      <td>...</td>\n",
       "      <td>...</td>\n",
       "      <td>...</td>\n",
       "      <td>...</td>\n",
       "      <td>...</td>\n",
       "    </tr>\n",
       "    <tr>\n",
       "      <th>16466</th>\n",
       "      <td>W11000031</td>\n",
       "      <td>Swansea Bay University Health Board</td>\n",
       "      <td>2020-03-27</td>\n",
       "      <td>284.41016</td>\n",
       "      <td>279.68423</td>\n",
       "      <td>274.68164</td>\n",
       "      <td>608.30730</td>\n",
       "      <td>189.089130</td>\n",
       "      <td>0.004496</td>\n",
       "      <td>0.003690</td>\n",
       "      <td>0.002869</td>\n",
       "      <td>0.000000</td>\n",
       "      <td>0.000000e+00</td>\n",
       "    </tr>\n",
       "    <tr>\n",
       "      <th>16467</th>\n",
       "      <td>W11000031</td>\n",
       "      <td>Swansea Bay University Health Board</td>\n",
       "      <td>2020-03-28</td>\n",
       "      <td>284.02084</td>\n",
       "      <td>280.05783</td>\n",
       "      <td>276.41602</td>\n",
       "      <td>568.18945</td>\n",
       "      <td>166.634960</td>\n",
       "      <td>0.004517</td>\n",
       "      <td>0.003757</td>\n",
       "      <td>0.003052</td>\n",
       "      <td>0.000001</td>\n",
       "      <td>7.947286e-08</td>\n",
       "    </tr>\n",
       "    <tr>\n",
       "      <th>16468</th>\n",
       "      <td>W11000031</td>\n",
       "      <td>Swansea Bay University Health Board</td>\n",
       "      <td>2020-03-29</td>\n",
       "      <td>280.81186</td>\n",
       "      <td>277.91107</td>\n",
       "      <td>275.54947</td>\n",
       "      <td>554.54690</td>\n",
       "      <td>136.794430</td>\n",
       "      <td>0.003326</td>\n",
       "      <td>0.002971</td>\n",
       "      <td>0.002736</td>\n",
       "      <td>0.000002</td>\n",
       "      <td>1.788139e-07</td>\n",
       "    </tr>\n",
       "    <tr>\n",
       "      <th>16469</th>\n",
       "      <td>W11000031</td>\n",
       "      <td>Swansea Bay University Health Board</td>\n",
       "      <td>2020-03-30</td>\n",
       "      <td>282.18686</td>\n",
       "      <td>278.47250</td>\n",
       "      <td>273.73697</td>\n",
       "      <td>458.61133</td>\n",
       "      <td>115.668330</td>\n",
       "      <td>0.004496</td>\n",
       "      <td>0.003804</td>\n",
       "      <td>0.002930</td>\n",
       "      <td>0.000002</td>\n",
       "      <td>1.986821e-07</td>\n",
       "    </tr>\n",
       "    <tr>\n",
       "      <th>16470</th>\n",
       "      <td>W11000031</td>\n",
       "      <td>Swansea Bay University Health Board</td>\n",
       "      <td>2020-03-31</td>\n",
       "      <td>282.97720</td>\n",
       "      <td>280.51160</td>\n",
       "      <td>277.36978</td>\n",
       "      <td>552.33790</td>\n",
       "      <td>186.581710</td>\n",
       "      <td>0.004690</td>\n",
       "      <td>0.004137</td>\n",
       "      <td>0.003794</td>\n",
       "      <td>0.000013</td>\n",
       "      <td>1.192093e-06</td>\n",
       "    </tr>\n",
       "  </tbody>\n",
       "</table>\n",
       "<p>16471 rows × 13 columns</p>\n",
       "</div>"
      ],
      "text/plain": [
       "      region_code                          region_name        date  \\\n",
       "0       E06000001                           Hartlepool  2020-01-01   \n",
       "1       E06000001                           Hartlepool  2020-01-02   \n",
       "2       E06000001                           Hartlepool  2020-01-03   \n",
       "3       E06000001                           Hartlepool  2020-01-04   \n",
       "4       E06000001                           Hartlepool  2020-01-05   \n",
       "...           ...                                  ...         ...   \n",
       "16466   W11000031  Swansea Bay University Health Board  2020-03-27   \n",
       "16467   W11000031  Swansea Bay University Health Board  2020-03-28   \n",
       "16468   W11000031  Swansea Bay University Health Board  2020-03-29   \n",
       "16469   W11000031  Swansea Bay University Health Board  2020-03-30   \n",
       "16470   W11000031  Swansea Bay University Health Board  2020-03-31   \n",
       "\n",
       "       air_temperature_max (K)  air_temperature_mean (K)  \\\n",
       "0                    279.23438                 277.24237   \n",
       "1                    283.07812                 280.12906   \n",
       "2                    282.79688                 279.74660   \n",
       "3                    282.01562                 280.29282   \n",
       "4                    282.67578                 281.60907   \n",
       "...                        ...                       ...   \n",
       "16466                284.41016                 279.68423   \n",
       "16467                284.02084                 280.05783   \n",
       "16468                280.81186                 277.91107   \n",
       "16469                282.18686                 278.47250   \n",
       "16470                282.97720                 280.51160   \n",
       "\n",
       "       air_temperature_min (K)  short_wave_radiation_max (W/m2)  \\\n",
       "0                    275.92578                        147.90234   \n",
       "1                    277.55078                        117.69141   \n",
       "2                    277.96875                        154.80078   \n",
       "3                    279.26953                        153.47656   \n",
       "4                    280.41406                        122.05469   \n",
       "...                        ...                              ...   \n",
       "16466                274.68164                        608.30730   \n",
       "16467                276.41602                        568.18945   \n",
       "16468                275.54947                        554.54690   \n",
       "16469                273.73697                        458.61133   \n",
       "16470                277.36978                        552.33790   \n",
       "\n",
       "       short_wave_radiation_mean (W/m2)  specific_humidity_max (1)  \\\n",
       "0                             19.283041                   0.004944   \n",
       "1                             18.449871                   0.006592   \n",
       "2                             22.860188                   0.006592   \n",
       "3                             23.798340                   0.005432   \n",
       "4                             18.692709                   0.006348   \n",
       "...                                 ...                        ...   \n",
       "16466                        189.089130                   0.004496   \n",
       "16467                        166.634960                   0.004517   \n",
       "16468                        136.794430                   0.003326   \n",
       "16469                        115.668330                   0.004496   \n",
       "16470                        186.581710                   0.004690   \n",
       "\n",
       "       specific_humidity_mean (1)  specific_humidity_min (1)  \\\n",
       "0                        0.004707                   0.004456   \n",
       "1                        0.005501                   0.004761   \n",
       "2                        0.004878                   0.004150   \n",
       "3                        0.005099                   0.004700   \n",
       "4                        0.005755                   0.005432   \n",
       "...                           ...                        ...   \n",
       "16466                    0.003690                   0.002869   \n",
       "16467                    0.003757                   0.003052   \n",
       "16468                    0.002971                   0.002736   \n",
       "16469                    0.003804                   0.002930   \n",
       "16470                    0.004137                   0.003794   \n",
       "\n",
       "       precipitation_flux_max (kg m-2 s-1)  \\\n",
       "0                                 0.000010   \n",
       "1                                 0.000000   \n",
       "2                                 0.000041   \n",
       "3                                 0.000002   \n",
       "4                                 0.000006   \n",
       "...                                    ...   \n",
       "16466                             0.000000   \n",
       "16467                             0.000001   \n",
       "16468                             0.000002   \n",
       "16469                             0.000002   \n",
       "16470                             0.000013   \n",
       "\n",
       "       precipitation_flux_mean (kg m-2 s-1)  \n",
       "0                              1.351039e-06  \n",
       "1                              0.000000e+00  \n",
       "2                              2.861023e-06  \n",
       "3                              7.947286e-08  \n",
       "4                              3.973643e-07  \n",
       "...                                     ...  \n",
       "16466                          0.000000e+00  \n",
       "16467                          7.947286e-08  \n",
       "16468                          1.788139e-07  \n",
       "16469                          1.986821e-07  \n",
       "16470                          1.192093e-06  \n",
       "\n",
       "[16471 rows x 13 columns]"
      ]
     },
     "execution_count": 82,
     "metadata": {},
     "output_type": "execute_result"
    }
   ],
   "source": [
    "mergedfsort"
   ]
  },
  {
   "cell_type": "markdown",
   "metadata": {},
   "source": [
    "## The data has lined up well, so let's save out the merged dataframe"
   ]
  },
  {
   "cell_type": "code",
   "execution_count": 86,
   "metadata": {},
   "outputs": [
    {
     "data": {
      "text/html": [
       "<div>\n",
       "<style scoped>\n",
       "    .dataframe tbody tr th:only-of-type {\n",
       "        vertical-align: middle;\n",
       "    }\n",
       "\n",
       "    .dataframe tbody tr th {\n",
       "        vertical-align: top;\n",
       "    }\n",
       "\n",
       "    .dataframe thead th {\n",
       "        text-align: right;\n",
       "    }\n",
       "</style>\n",
       "<table border=\"1\" class=\"dataframe\">\n",
       "  <thead>\n",
       "    <tr style=\"text-align: right;\">\n",
       "      <th></th>\n",
       "      <th>output_code</th>\n",
       "      <th>region_name</th>\n",
       "      <th>date</th>\n",
       "      <th>air_temperature_max (K)</th>\n",
       "      <th>air_temperature_mean (K)</th>\n",
       "      <th>air_temperature_min (K)</th>\n",
       "      <th>short_wave_radiation_max (W/m2)</th>\n",
       "      <th>short_wave_radiation_mean (W/m2)</th>\n",
       "      <th>specific_humidity_max (1)</th>\n",
       "      <th>specific_humidity_mean (1)</th>\n",
       "      <th>specific_humidity_min (1)</th>\n",
       "      <th>precipitation_flux_max (kg m-2 s-1)</th>\n",
       "      <th>precipitation_flux_mean (kg m-2 s-1)</th>\n",
       "    </tr>\n",
       "  </thead>\n",
       "  <tbody>\n",
       "    <tr>\n",
       "      <th>0</th>\n",
       "      <td>E06000001</td>\n",
       "      <td>Hartlepool</td>\n",
       "      <td>2020-01-01</td>\n",
       "      <td>279.23438</td>\n",
       "      <td>277.24237</td>\n",
       "      <td>275.92578</td>\n",
       "      <td>147.90234</td>\n",
       "      <td>19.283041</td>\n",
       "      <td>0.004944</td>\n",
       "      <td>0.004707</td>\n",
       "      <td>0.004456</td>\n",
       "      <td>0.000010</td>\n",
       "      <td>1.351039e-06</td>\n",
       "    </tr>\n",
       "    <tr>\n",
       "      <th>1</th>\n",
       "      <td>E06000001</td>\n",
       "      <td>Hartlepool</td>\n",
       "      <td>2020-01-02</td>\n",
       "      <td>283.07812</td>\n",
       "      <td>280.12906</td>\n",
       "      <td>277.55078</td>\n",
       "      <td>117.69141</td>\n",
       "      <td>18.449871</td>\n",
       "      <td>0.006592</td>\n",
       "      <td>0.005501</td>\n",
       "      <td>0.004761</td>\n",
       "      <td>0.000000</td>\n",
       "      <td>0.000000e+00</td>\n",
       "    </tr>\n",
       "    <tr>\n",
       "      <th>2</th>\n",
       "      <td>E06000001</td>\n",
       "      <td>Hartlepool</td>\n",
       "      <td>2020-01-03</td>\n",
       "      <td>282.79688</td>\n",
       "      <td>279.74660</td>\n",
       "      <td>277.96875</td>\n",
       "      <td>154.80078</td>\n",
       "      <td>22.860188</td>\n",
       "      <td>0.006592</td>\n",
       "      <td>0.004878</td>\n",
       "      <td>0.004150</td>\n",
       "      <td>0.000041</td>\n",
       "      <td>2.861023e-06</td>\n",
       "    </tr>\n",
       "    <tr>\n",
       "      <th>3</th>\n",
       "      <td>E06000001</td>\n",
       "      <td>Hartlepool</td>\n",
       "      <td>2020-01-04</td>\n",
       "      <td>282.01562</td>\n",
       "      <td>280.29282</td>\n",
       "      <td>279.26953</td>\n",
       "      <td>153.47656</td>\n",
       "      <td>23.798340</td>\n",
       "      <td>0.005432</td>\n",
       "      <td>0.005099</td>\n",
       "      <td>0.004700</td>\n",
       "      <td>0.000002</td>\n",
       "      <td>7.947286e-08</td>\n",
       "    </tr>\n",
       "    <tr>\n",
       "      <th>4</th>\n",
       "      <td>E06000001</td>\n",
       "      <td>Hartlepool</td>\n",
       "      <td>2020-01-05</td>\n",
       "      <td>282.67578</td>\n",
       "      <td>281.60907</td>\n",
       "      <td>280.41406</td>\n",
       "      <td>122.05469</td>\n",
       "      <td>18.692709</td>\n",
       "      <td>0.006348</td>\n",
       "      <td>0.005755</td>\n",
       "      <td>0.005432</td>\n",
       "      <td>0.000006</td>\n",
       "      <td>3.973643e-07</td>\n",
       "    </tr>\n",
       "    <tr>\n",
       "      <th>...</th>\n",
       "      <td>...</td>\n",
       "      <td>...</td>\n",
       "      <td>...</td>\n",
       "      <td>...</td>\n",
       "      <td>...</td>\n",
       "      <td>...</td>\n",
       "      <td>...</td>\n",
       "      <td>...</td>\n",
       "      <td>...</td>\n",
       "      <td>...</td>\n",
       "      <td>...</td>\n",
       "      <td>...</td>\n",
       "      <td>...</td>\n",
       "    </tr>\n",
       "    <tr>\n",
       "      <th>16466</th>\n",
       "      <td>W11000031</td>\n",
       "      <td>Swansea Bay University Health Board</td>\n",
       "      <td>2020-03-27</td>\n",
       "      <td>284.41016</td>\n",
       "      <td>279.68423</td>\n",
       "      <td>274.68164</td>\n",
       "      <td>608.30730</td>\n",
       "      <td>189.089130</td>\n",
       "      <td>0.004496</td>\n",
       "      <td>0.003690</td>\n",
       "      <td>0.002869</td>\n",
       "      <td>0.000000</td>\n",
       "      <td>0.000000e+00</td>\n",
       "    </tr>\n",
       "    <tr>\n",
       "      <th>16467</th>\n",
       "      <td>W11000031</td>\n",
       "      <td>Swansea Bay University Health Board</td>\n",
       "      <td>2020-03-28</td>\n",
       "      <td>284.02084</td>\n",
       "      <td>280.05783</td>\n",
       "      <td>276.41602</td>\n",
       "      <td>568.18945</td>\n",
       "      <td>166.634960</td>\n",
       "      <td>0.004517</td>\n",
       "      <td>0.003757</td>\n",
       "      <td>0.003052</td>\n",
       "      <td>0.000001</td>\n",
       "      <td>7.947286e-08</td>\n",
       "    </tr>\n",
       "    <tr>\n",
       "      <th>16468</th>\n",
       "      <td>W11000031</td>\n",
       "      <td>Swansea Bay University Health Board</td>\n",
       "      <td>2020-03-29</td>\n",
       "      <td>280.81186</td>\n",
       "      <td>277.91107</td>\n",
       "      <td>275.54947</td>\n",
       "      <td>554.54690</td>\n",
       "      <td>136.794430</td>\n",
       "      <td>0.003326</td>\n",
       "      <td>0.002971</td>\n",
       "      <td>0.002736</td>\n",
       "      <td>0.000002</td>\n",
       "      <td>1.788139e-07</td>\n",
       "    </tr>\n",
       "    <tr>\n",
       "      <th>16469</th>\n",
       "      <td>W11000031</td>\n",
       "      <td>Swansea Bay University Health Board</td>\n",
       "      <td>2020-03-30</td>\n",
       "      <td>282.18686</td>\n",
       "      <td>278.47250</td>\n",
       "      <td>273.73697</td>\n",
       "      <td>458.61133</td>\n",
       "      <td>115.668330</td>\n",
       "      <td>0.004496</td>\n",
       "      <td>0.003804</td>\n",
       "      <td>0.002930</td>\n",
       "      <td>0.000002</td>\n",
       "      <td>1.986821e-07</td>\n",
       "    </tr>\n",
       "    <tr>\n",
       "      <th>16470</th>\n",
       "      <td>W11000031</td>\n",
       "      <td>Swansea Bay University Health Board</td>\n",
       "      <td>2020-03-31</td>\n",
       "      <td>282.97720</td>\n",
       "      <td>280.51160</td>\n",
       "      <td>277.36978</td>\n",
       "      <td>552.33790</td>\n",
       "      <td>186.581710</td>\n",
       "      <td>0.004690</td>\n",
       "      <td>0.004137</td>\n",
       "      <td>0.003794</td>\n",
       "      <td>0.000013</td>\n",
       "      <td>1.192093e-06</td>\n",
       "    </tr>\n",
       "  </tbody>\n",
       "</table>\n",
       "<p>16471 rows × 13 columns</p>\n",
       "</div>"
      ],
      "text/plain": [
       "      output_code                          region_name        date  \\\n",
       "0       E06000001                           Hartlepool  2020-01-01   \n",
       "1       E06000001                           Hartlepool  2020-01-02   \n",
       "2       E06000001                           Hartlepool  2020-01-03   \n",
       "3       E06000001                           Hartlepool  2020-01-04   \n",
       "4       E06000001                           Hartlepool  2020-01-05   \n",
       "...           ...                                  ...         ...   \n",
       "16466   W11000031  Swansea Bay University Health Board  2020-03-27   \n",
       "16467   W11000031  Swansea Bay University Health Board  2020-03-28   \n",
       "16468   W11000031  Swansea Bay University Health Board  2020-03-29   \n",
       "16469   W11000031  Swansea Bay University Health Board  2020-03-30   \n",
       "16470   W11000031  Swansea Bay University Health Board  2020-03-31   \n",
       "\n",
       "       air_temperature_max (K)  air_temperature_mean (K)  \\\n",
       "0                    279.23438                 277.24237   \n",
       "1                    283.07812                 280.12906   \n",
       "2                    282.79688                 279.74660   \n",
       "3                    282.01562                 280.29282   \n",
       "4                    282.67578                 281.60907   \n",
       "...                        ...                       ...   \n",
       "16466                284.41016                 279.68423   \n",
       "16467                284.02084                 280.05783   \n",
       "16468                280.81186                 277.91107   \n",
       "16469                282.18686                 278.47250   \n",
       "16470                282.97720                 280.51160   \n",
       "\n",
       "       air_temperature_min (K)  short_wave_radiation_max (W/m2)  \\\n",
       "0                    275.92578                        147.90234   \n",
       "1                    277.55078                        117.69141   \n",
       "2                    277.96875                        154.80078   \n",
       "3                    279.26953                        153.47656   \n",
       "4                    280.41406                        122.05469   \n",
       "...                        ...                              ...   \n",
       "16466                274.68164                        608.30730   \n",
       "16467                276.41602                        568.18945   \n",
       "16468                275.54947                        554.54690   \n",
       "16469                273.73697                        458.61133   \n",
       "16470                277.36978                        552.33790   \n",
       "\n",
       "       short_wave_radiation_mean (W/m2)  specific_humidity_max (1)  \\\n",
       "0                             19.283041                   0.004944   \n",
       "1                             18.449871                   0.006592   \n",
       "2                             22.860188                   0.006592   \n",
       "3                             23.798340                   0.005432   \n",
       "4                             18.692709                   0.006348   \n",
       "...                                 ...                        ...   \n",
       "16466                        189.089130                   0.004496   \n",
       "16467                        166.634960                   0.004517   \n",
       "16468                        136.794430                   0.003326   \n",
       "16469                        115.668330                   0.004496   \n",
       "16470                        186.581710                   0.004690   \n",
       "\n",
       "       specific_humidity_mean (1)  specific_humidity_min (1)  \\\n",
       "0                        0.004707                   0.004456   \n",
       "1                        0.005501                   0.004761   \n",
       "2                        0.004878                   0.004150   \n",
       "3                        0.005099                   0.004700   \n",
       "4                        0.005755                   0.005432   \n",
       "...                           ...                        ...   \n",
       "16466                    0.003690                   0.002869   \n",
       "16467                    0.003757                   0.003052   \n",
       "16468                    0.002971                   0.002736   \n",
       "16469                    0.003804                   0.002930   \n",
       "16470                    0.004137                   0.003794   \n",
       "\n",
       "       precipitation_flux_max (kg m-2 s-1)  \\\n",
       "0                                 0.000010   \n",
       "1                                 0.000000   \n",
       "2                                 0.000041   \n",
       "3                                 0.000002   \n",
       "4                                 0.000006   \n",
       "...                                    ...   \n",
       "16466                             0.000000   \n",
       "16467                             0.000001   \n",
       "16468                             0.000002   \n",
       "16469                             0.000002   \n",
       "16470                             0.000013   \n",
       "\n",
       "       precipitation_flux_mean (kg m-2 s-1)  \n",
       "0                              1.351039e-06  \n",
       "1                              0.000000e+00  \n",
       "2                              2.861023e-06  \n",
       "3                              7.947286e-08  \n",
       "4                              3.973643e-07  \n",
       "...                                     ...  \n",
       "16466                          0.000000e+00  \n",
       "16467                          7.947286e-08  \n",
       "16468                          1.788139e-07  \n",
       "16469                          1.986821e-07  \n",
       "16470                          1.192093e-06  \n",
       "\n",
       "[16471 rows x 13 columns]"
      ]
     },
     "execution_count": 86,
     "metadata": {},
     "output_type": "execute_result"
    }
   ],
   "source": [
    "# rename the region code to output code\n",
    "mergedfsort.rename(columns={'region_code': 'output_code'}, inplace=True)\n",
    "mergedfsort"
   ]
  },
  {
   "cell_type": "code",
   "execution_count": 87,
   "metadata": {},
   "outputs": [
    {
     "name": "stdout",
     "output_type": "stream",
     "text": [
      "CPU times: user 278 ms, sys: 0 ns, total: 278 ms\n",
      "Wall time: 449 ms\n"
     ]
    }
   ],
   "source": [
    "%%time\n",
    "mergedfsort.to_csv('/data/misc/covid-19/uk_daily_meteodata_2020jan-mar_v03.csv', index=False)"
   ]
  },
  {
   "cell_type": "code",
   "execution_count": 84,
   "metadata": {},
   "outputs": [
    {
     "data": {
      "image/png": "[encoded data removed]",
      "text/plain": [
       "<Figure size 432x288 with 1 Axes>"
      ]
     },
     "metadata": {
      "needs_background": "light"
     },
     "output_type": "display_data"
    },
    {
     "data": {
      "image/png": "[encoded data removed]",
      "text/plain": [
       "<Figure size 432x288 with 1 Axes>"
      ]
     },
     "metadata": {
      "needs_background": "light"
     },
     "output_type": "display_data"
    },
    {
     "data": {
      "image/png": "[encoded data removed]",
      "text/plain": [
       "<Figure size 432x288 with 1 Axes>"
      ]
     },
     "metadata": {
      "needs_background": "light"
     },
     "output_type": "display_data"
    },
    {
     "data": {
      "image/png": "[encoded data removed]",
      "text/plain": [
       "<Figure size 432x288 with 1 Axes>"
      ]
     },
     "metadata": {
      "needs_background": "light"
     },
     "output_type": "display_data"
    },
    {
     "data": {
      "image/png": "[encoded data removed]",
      "text/plain": [
       "<Figure size 432x288 with 1 Axes>"
      ]
     },
     "metadata": {
      "needs_background": "light"
     },
     "output_type": "display_data"
    },
    {
     "data": {
      "image/png": "[encoded data removed]",
      "text/plain": [
       "<Figure size 432x288 with 1 Axes>"
      ]
     },
     "metadata": {
      "needs_background": "light"
     },
     "output_type": "display_data"
    },
    {
     "data": {
      "image/png": "[encoded data removed]",
      "text/plain": [
       "<Figure size 432x288 with 1 Axes>"
      ]
     },
     "metadata": {
      "needs_background": "light"
     },
     "output_type": "display_data"
    },
    {
     "data": {
      "image/png": "[encoded data removed]",
      "text/plain": [
       "<Figure size 432x288 with 1 Axes>"
      ]
     },
     "metadata": {
      "needs_background": "light"
     },
     "output_type": "display_data"
    },
    {
     "data": {
      "image/png": "[encoded data removed]",
      "text/plain": [
       "<Figure size 432x288 with 1 Axes>"
      ]
     },
     "metadata": {
      "needs_background": "light"
     },
     "output_type": "display_data"
    },
    {
     "data": {
      "image/png": "[encoded data removed]",
      "text/plain": [
       "<Figure size 432x288 with 1 Axes>"
      ]
     },
     "metadata": {
      "needs_background": "light"
     },
     "output_type": "display_data"
    },
    {
     "name": "stdout",
     "output_type": "stream",
     "text": [
      "CPU times: user 17.1 s, sys: 0 ns, total: 17.1 s\n",
      "Wall time: 1.3 s\n"
     ]
    }
   ],
   "source": [
    "%%time\n",
    "mdf = pd.read_csv('/data/misc/covid-19/uk_daily_meteodata_2020jan-mar_v03.csv')\n",
    "df_hists(mdf[mdf.columns[3:]])"
   ]
  },
  {
   "cell_type": "code",
   "execution_count": null,
   "metadata": {},
   "outputs": [],
   "source": []
  }
 ],
 "metadata": {
  "kernelspec": {
   "display_name": "Python (cloudreadydata)",
   "language": "python",
   "name": "cloudreadydata"
  },
  "language_info": {
   "codemirror_mode": {
    "name": "ipython",
    "version": 3
   },
   "file_extension": ".py",
   "mimetype": "text/x-python",
   "name": "python",
   "nbconvert_exporter": "python",
   "pygments_lexer": "ipython3",
   "version": "3.6.10"
  }
 },
 "nbformat": 4,
 "nbformat_minor": 4
}
