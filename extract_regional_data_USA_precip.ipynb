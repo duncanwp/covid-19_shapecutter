{
 "cells": [
  {
   "cell_type": "markdown",
   "metadata": {},
   "source": [
    "# Extracting meteorological data for counties in USA - Precipitation data\n",
    "\n",
    "## Setup"
   ]
  },
  {
   "cell_type": "code",
   "execution_count": 2,
   "metadata": {},
   "outputs": [],
   "source": [
    "import cartopy.crs as ccrs\n",
    "import cartopy.io.shapereader as shpreader\n",
    "import iris\n",
    "import iris.plot as iplt\n",
    "import iris.quickplot as qplt\n",
    "import matplotlib.pyplot as plt\n",
    "import numpy as np\n",
    "import pandas as pd\n",
    "import dask.dataframe as dd\n",
    "\n",
    "import os\n",
    "import sys\n",
    "import glob\n",
    "\n",
    "import shape_utils as shape\n",
    "\n",
    "import warnings\n",
    "warnings.filterwarnings('ignore')\n",
    "\n",
    "%matplotlib inline"
   ]
  },
  {
   "cell_type": "markdown",
   "metadata": {},
   "source": [
    "### Load Data"
   ]
  },
  {
   "cell_type": "code",
   "execution_count": 3,
   "metadata": {},
   "outputs": [
    {
     "name": "stdout",
     "output_type": "stream",
     "text": [
      "182\n"
     ]
    }
   ],
   "source": [
    "folders = glob.glob('/data/misc/covid-19/data_nc_daily/precip*')\n",
    "filepaths = []\n",
    "for folder in folders:\n",
    "    filepaths.extend(glob.glob(os.path.join(folder, '*.nc')))\n",
    "print(len(filepaths))"
   ]
  },
  {
   "cell_type": "code",
   "execution_count": 4,
   "metadata": {},
   "outputs": [
    {
     "name": "stdout",
     "output_type": "stream",
     "text": [
      "0: precipitation_flux / (kg m-2 s-1)   (time: 91; latitude: 1920; longitude: 2560)\n",
      "1: precipitation_flux / (kg m-2 s-1)   (time: 91; latitude: 1920; longitude: 2560)\n",
      "CPU times: user 12.2 s, sys: 636 ms, total: 12.8 s\n",
      "Wall time: 1min 48s\n"
     ]
    }
   ],
   "source": [
    "%%time\n",
    "cubes = iris.load(filepaths)\n",
    "    \n",
    "print(cubes)"
   ]
  },
  {
   "cell_type": "code",
   "execution_count": 5,
   "metadata": {},
   "outputs": [
    {
     "name": "stdout",
     "output_type": "stream",
     "text": [
      "0: precipitation_flux / (kg m-2 s-1)   (time: 91; latitude: 608; longitude: 811)\n",
      "1: precipitation_flux / (kg m-2 s-1)   (time: 91; latitude: 608; longitude: 811)\n"
     ]
    }
   ],
   "source": [
    "us_latlon = ((18, 75), (-179, -65))\n",
    "us_cubes = iris.cube.CubeList([cube.intersection(latitude=us_latlon[0], longitude=us_latlon[1]) for cube in cubes])\n",
    "print(us_cubes)"
   ]
  },
  {
   "cell_type": "code",
   "execution_count": 6,
   "metadata": {},
   "outputs": [
    {
     "data": {
      "text/plain": [
       "<cartopy.mpl.feature_artist.FeatureArtist at 0x7f33ae7abd68>"
      ]
     },
     "execution_count": 6,
     "metadata": {},
     "output_type": "execute_result"
    },
    {
     "data": {
      "image/png": "[encoded data removed]",
      "text/plain": [
       "<Figure size 432x288 with 2 Axes>"
      ]
     },
     "metadata": {
      "needs_background": "light"
     },
     "output_type": "display_data"
    }
   ],
   "source": [
    "qplt.contourf(us_cubes[0][0])\n",
    "plt.gca().coastlines()"
   ]
  },
  {
   "cell_type": "code",
   "execution_count": 7,
   "metadata": {},
   "outputs": [
    {
     "data": {
      "text/plain": [
       "GeogCS(6371229.0)"
      ]
     },
     "execution_count": 7,
     "metadata": {},
     "output_type": "execute_result"
    }
   ],
   "source": [
    "CRS = us_cubes[0].coord_system()\n",
    "CRS"
   ]
  },
  {
   "cell_type": "markdown",
   "metadata": {},
   "source": [
    "### Load shapefile"
   ]
  },
  {
   "cell_type": "code",
   "execution_count": 8,
   "metadata": {},
   "outputs": [],
   "source": [
    "regions_shp = '/data/misc/covid-19/shapefiles/USA/US_COUNTY_POP.shx'\n",
    "regions_reader = shpreader.Reader(regions_shp)"
   ]
  },
  {
   "cell_type": "code",
   "execution_count": 9,
   "metadata": {},
   "outputs": [
    {
     "data": {
      "text/plain": [
       "3142"
      ]
     },
     "execution_count": 9,
     "metadata": {},
     "output_type": "execute_result"
    }
   ],
   "source": [
    "len([record for record in regions_reader.records()])"
   ]
  },
  {
   "cell_type": "code",
   "execution_count": 10,
   "metadata": {},
   "outputs": [
    {
     "data": {
      "text/plain": [
       "<Record: <shapely.geometry.multipolygon.MultiPolygon object at 0x7f33ae92e198>, {'OBJECTID': 1, 'NAME': 'Autauga', 'STATE_NAME': 'Alabama', 'STATE_FIPS': '01', 'CNTY_FIPS': '001', 'FIPS': '01001', 'POPULATION': 56903, 'POP_SQMI': 94.2, 'POP2010': 54571, 'POP10_SQMI': 90.3, 'WHITE': 42855, 'BLACK': 9643, 'AMERI_ES': 232, 'ASIAN': 474, 'HAWN_PI': 32, 'HISPANIC': 1310, 'OTHER': 466, 'MULT_RACE': 869, 'MALES': 26569, 'FEMALES': 28002, 'AGE_UNDER5': 3579, 'AGE_5_9': 3991, 'AGE_10_14': 4290, 'AGE_15_19': 4290, 'AGE_20_24': 3080, 'AGE_25_34': 6487, 'AGE_35_44': 8243, 'AGE_45_54': 8205, 'AGE_55_64': 5860, 'AGE_65_74': 4013, 'AGE_75_84': 1982, 'AGE_85_UP': 551, 'MED_AGE': 36.9, 'MED_AGE_M': 35.9, 'MED_AGE_F': 37.8, 'HOUSEHOLDS': 20221, 'AVE_HH_SZ': 2.68, 'HSEHLD_1_M': 2012, 'HSEHLD_1_F': 2429, 'MARHH_CHD': 5522, 'MARHH_NO_C': 5845, 'MHH_CHILD': 558, 'FHH_CHILD': 1821, 'FAMILIES': 15064, 'AVE_FAM_SZ': 3.13, 'HSE_UNITS': 22135, 'VACANT': 1914, 'OWNER_OCC': 15248, 'RENTER_OCC': 4973, 'NO_FARMS17': 371.0, 'AVE_SIZE17': 305.0, 'CROP_ACR17': 36890.0, 'AVE_SALE17': 57844.0, 'SQMI': 604.13, 'Shape_Leng': 1.88413711397, 'Shape_Area': 0.148903424615, 'X': -86.6413, 'Y': 32.5394259133}, <fields>>"
      ]
     },
     "execution_count": 10,
     "metadata": {},
     "output_type": "execute_result"
    }
   ],
   "source": [
    "next(regions_reader.records())"
   ]
  },
  {
   "cell_type": "code",
   "execution_count": 11,
   "metadata": {},
   "outputs": [
    {
     "data": {
      "image/svg+xml": [
       "<svg xmlns=\"http://www.w3.org/2000/svg\" xmlns:xlink=\"http://www.w3.org/1999/xlink\" width=\"100.0\" height=\"100.0\" viewBox=\"-86.93263434401608 32.30279853092249 0.5468565843507633 0.42761824242919033\" preserveAspectRatio=\"xMinYMin meet\"><g transform=\"matrix(1,0,0,-1,0,65.03321530427417)\"><g><path fill-rule=\"evenodd\" fill=\"#66cc99\" stroke=\"#555555\" stroke-width=\"0.010937131687015267\" opacity=\"0.6\" d=\"M -86.82066989223495,32.3473096163641 L -86.81445962398351,32.37041090250841 L -86.8457108770292,32.41034611849443 L -86.8314208881539,32.43143709708312 L -86.86392320875291,32.45088018917659 L -86.86461759009796,32.462747406734024 L -86.88191418181589,32.48229348525774 L -86.88183808168185,32.50097371106591 L -86.90671080695591,32.53891379807965 L -86.90197312033041,32.58391850556393 L -86.91238039644753,32.66571511533118 L -86.7113401089427,32.66460112126657 L -86.71137098415022,32.71016282578313 L -86.41370948031545,32.708854100334065 L -86.40603170723386,32.416053421326524 L -86.4259829969543,32.4056547964841 L -86.45401431812297,32.41143001441213 L -86.46377228240937,32.38342697824919 L -86.48581412414262,32.37489749495478 L -86.49813571493019,32.35060989630642 L -86.53577259290108,32.34567369660164 L -86.53770301862784,32.36669598303416 L -86.56974759873395,32.38120287542267 L -86.5854720932661,32.367023902604046 L -86.61225970305514,32.37682740264103 L -86.61709721606479,32.40840471031123 L -86.6473714967301,32.412360311352984 L -86.65808322518723,32.38619212246397 L -86.69205771297982,32.36196927886493 L -86.72226340509695,32.367729318209456 L -86.72522410956066,32.40745840592223 L -86.75066108443264,32.39440482405706 L -86.78135508142577,32.40198437667976 L -86.79096809800978,32.37486247542404 L -86.77421332474063,32.35668588848762 L -86.77867639815287,32.337189386429486 L -86.79923047967668,32.32309438795892 L -86.81659540092272,32.323052478491036 L -86.82066989223495,32.3473096163641 z\" /></g></g></svg>"
      ],
      "text/plain": [
       "<shapely.geometry.multipolygon.MultiPolygon at 0x7f33ae92ea20>"
      ]
     },
     "execution_count": 11,
     "metadata": {},
     "output_type": "execute_result"
    }
   ],
   "source": [
    "next(regions_reader.geometries())"
   ]
  },
  {
   "cell_type": "code",
   "execution_count": 12,
   "metadata": {},
   "outputs": [],
   "source": [
    "# region_names = [record.attributes['NAME'] for record in regions_reader.records()]\n",
    "# region_state = [record.attributes['STATE_NAME'] for record in regions_reader.records()]\n",
    "# region_id = [record.attributes['OBJECTID'] for record in regions_reader.records()]\n",
    "# region_fips = [record.attributes['FIPS'] for record in reguins_reader.records()]\n",
    "# county_fips = [record.attributes['CNTY_FIPS'] for record in regions_reader.records()]\n",
    "# state_fips = [record.attributes['STATE_FIPS'] for record in regions_reader.records()]"
   ]
  },
  {
   "cell_type": "code",
   "execution_count": 13,
   "metadata": {},
   "outputs": [],
   "source": [
    "region_ids = [record.attributes['OBJECTID'] for record in regions_reader.records()]"
   ]
  },
  {
   "cell_type": "code",
   "execution_count": 14,
   "metadata": {},
   "outputs": [
    {
     "name": "stdout",
     "output_type": "stream",
     "text": [
      "1 3142\n"
     ]
    }
   ],
   "source": [
    "print(region_ids[0], region_ids[-1])"
   ]
  },
  {
   "cell_type": "code",
   "execution_count": 15,
   "metadata": {},
   "outputs": [],
   "source": [
    "def get_region_record(target, shapefile=regions_reader, attribute='OBJECTID'):\n",
    "    '''\n",
    "    Get the geometries for the specified location.\n",
    "    \n",
    "    '''\n",
    "    result = None\n",
    "    for record in shapefile.records():\n",
    "        location = record.attributes[attribute]\n",
    "        if location == target:\n",
    "            result = record\n",
    "            break\n",
    "    if result is None:\n",
    "        emsg = 'Could not find region with name \"{}\".'\n",
    "        raise ValueError(emsg.format(target))\n",
    "    return result"
   ]
  },
  {
   "cell_type": "code",
   "execution_count": 16,
   "metadata": {},
   "outputs": [],
   "source": [
    "from random import randint\n",
    "def rand_id(ids=region_ids): \n",
    "    return randint(ids[0], ids[-1])"
   ]
  },
  {
   "cell_type": "code",
   "execution_count": 17,
   "metadata": {},
   "outputs": [
    {
     "data": {
      "image/svg+xml": [
       "<svg xmlns=\"http://www.w3.org/2000/svg\" xmlns:xlink=\"http://www.w3.org/1999/xlink\" width=\"100.0\" height=\"100.0\" viewBox=\"-93.78960762621469 43.83247248837572 0.3937309511960052 0.3822994574144758\" preserveAspectRatio=\"xMinYMin meet\"><g transform=\"matrix(1,0,0,-1,0,88.04724443416592)\"><g><path fill-rule=\"evenodd\" fill=\"#66cc99\" stroke=\"#555555\" stroke-width=\"0.007874619023920105\" opacity=\"0.6\" d=\"M -93.77273329129446,43.84956932164533 L -93.77502499839261,44.200189317968125 L -93.52932921443357,44.200105291816215 L -93.41045930284076,44.196816719586764 L -93.41198762561311,43.847055116197794 L -93.65139900974026,43.84841699259147 L -93.77273329129446,43.84956932164533 z\" /></g></g></svg>"
      ],
      "text/plain": [
       "<shapely.geometry.multipolygon.MultiPolygon at 0x7f33ae751160>"
      ]
     },
     "execution_count": 17,
     "metadata": {},
     "output_type": "execute_result"
    }
   ],
   "source": [
    "get_region_record(rand_id()).geometry"
   ]
  },
  {
   "cell_type": "markdown",
   "metadata": {},
   "source": [
    "## Work out which files have been written, and which still have to be"
   ]
  },
  {
   "cell_type": "code",
   "execution_count": 18,
   "metadata": {},
   "outputs": [
    {
     "data": {
      "text/plain": [
       "3"
      ]
     },
     "execution_count": 18,
     "metadata": {},
     "output_type": "execute_result"
    }
   ],
   "source": [
    "csvs = glob.glob('/data/misc/covid-19/us_data_precip/*.csv')\n",
    "len(csvs)"
   ]
  },
  {
   "cell_type": "code",
   "execution_count": null,
   "metadata": {},
   "outputs": [],
   "source": [
    "df = pd.concat([pd.read_csv(csv) for csv in csvs], ignore_index=True)\n",
    "df"
   ]
  },
  {
   "cell_type": "code",
   "execution_count": null,
   "metadata": {},
   "outputs": [],
   "source": [
    "written = list(df['region'].unique().compute())\n",
    "written"
   ]
  },
  {
   "cell_type": "code",
   "execution_count": null,
   "metadata": {},
   "outputs": [],
   "source": [
    "len(written)"
   ]
  },
  {
   "cell_type": "code",
   "execution_count": null,
   "metadata": {},
   "outputs": [],
   "source": [
    "unwritten = list(set(region_names).difference(set(written)))\n",
    "len(unwritten)"
   ]
  },
  {
   "cell_type": "code",
   "execution_count": null,
   "metadata": {},
   "outputs": [],
   "source": [
    "unwritten"
   ]
  },
  {
   "cell_type": "code",
   "execution_count": null,
   "metadata": {},
   "outputs": [],
   "source": [
    "len(unwritten)+len(written)"
   ]
  },
  {
   "cell_type": "markdown",
   "metadata": {},
   "source": [
    "## Create a pipeline"
   ]
  },
  {
   "cell_type": "code",
   "execution_count": 19,
   "metadata": {},
   "outputs": [],
   "source": [
    "def parse_data_name(cube):\n",
    "    name = cube.name()\n",
    "    method = cube.cell_methods[1].method.replace('imum', '')\n",
    "    units = cube.units\n",
    "    \n",
    "    if name == 'm01s01i202':\n",
    "        name = 'short_wave_radiation'\n",
    "        units = 'W/m2'\n",
    "    \n",
    "    return f'{name}_{method} ({units})'"
   ]
  },
  {
   "cell_type": "code",
   "execution_count": 20,
   "metadata": {},
   "outputs": [],
   "source": [
    "col0 = ['objectid', 'fips', 'county_name', 'state_name', 'date']\n",
    "col1 = [parse_data_name(cube) for cube in us_cubes]"
   ]
  },
  {
   "cell_type": "code",
   "execution_count": 21,
   "metadata": {},
   "outputs": [
    {
     "data": {
      "text/plain": [
       "('objectid',\n",
       " 'fips',\n",
       " 'county_name',\n",
       " 'state_name',\n",
       " 'date',\n",
       " 'precipitation_flux_max (kg m-2 s-1)',\n",
       " 'precipitation_flux_mean (kg m-2 s-1)')"
      ]
     },
     "execution_count": 21,
     "metadata": {},
     "output_type": "execute_result"
    }
   ],
   "source": [
    "COL_ORDER = tuple(col0 + sorted([c for c in col1 if c not in col0]))\n",
    "COL_ORDER"
   ]
  },
  {
   "cell_type": "code",
   "execution_count": 22,
   "metadata": {},
   "outputs": [],
   "source": [
    "def extract(location, cubes=us_cubes, **kwargs):\n",
    "    region = get_region_record(location, **kwargs)\n",
    "    cutter = shape.Shape(region.geometry, region.attributes, coord_system=CRS)\n",
    "    cut_cubes = cutter.extract_subcubes(cubes)\n",
    "#     cubes_col = [cube.collapsed(['latitude','longitude'], iris.analysis.MEAN) for cube in cut_cubes]\n",
    "    return cut_cubes"
   ]
  },
  {
   "cell_type": "code",
   "execution_count": 23,
   "metadata": {},
   "outputs": [],
   "source": [
    "def extract_collapse_df(location, cubes=us_cubes, **kwargs):\n",
    "    region = get_region_record(location, **kwargs)\n",
    "    cutter = shape.Shape(region.geometry, region.attributes, coord_system=CRS)\n",
    "    cut_cubes = cutter.extract_subcubes(cubes)\n",
    "    cubes_col = [cube.collapsed(['latitude','longitude'], iris.analysis.MEAN) for cube in cut_cubes]\n",
    "    time = cubes_col[0].coord('time')\n",
    "    length = len(time.points)\n",
    "    data = {'objectid': [location]*length,\n",
    "            'fips': [region.attributes['FIPS']]*length,\n",
    "            'county_name': [region.attributes['NAME']]*length,\n",
    "            'state_name': [region.attributes['STATE_NAME']]*length,\n",
    "            'date': [cell.point.date() for cell in time.cells()]}\n",
    "    data.update({parse_data_name(cube): cube.data for cube in cubes_col})\n",
    "    \n",
    "    df = pd.DataFrame(data, columns=COL_ORDER)\n",
    "\n",
    "    return df"
   ]
  },
  {
   "cell_type": "code",
   "execution_count": 24,
   "metadata": {},
   "outputs": [
    {
     "name": "stdout",
     "output_type": "stream",
     "text": [
      "899\n",
      "0: precipitation_flux / (kg m-2 s-1)   (time: 91; latitude: 5; longitude: 5)\n",
      "1: precipitation_flux / (kg m-2 s-1)   (time: 91; latitude: 5; longitude: 5)\n"
     ]
    },
    {
     "data": {
      "image/svg+xml": [
       "<svg xmlns=\"http://www.w3.org/2000/svg\" xmlns:xlink=\"http://www.w3.org/1999/xlink\" width=\"100.0\" height=\"100.0\" viewBox=\"-95.09004924055232 36.97892867088901 0.4891898796633143 0.374807648401557\" preserveAspectRatio=\"xMinYMin meet\"><g transform=\"matrix(1,0,0,-1,0,74.33266499017958)\"><g><path fill-rule=\"evenodd\" fill=\"#66cc99\" stroke=\"#555555\" stroke-width=\"0.009783797593266285\" opacity=\"0.6\" d=\"M -95.07193109686108,37.001478080312154 L -95.07175568838358,37.335618175599336 L -94.61897750458024,37.32773230569131 L -94.62066377786891,37.060147501915424 L -94.62037968451659,36.997046814580244 L -95.03274512269815,37.000779399231874 L -95.07193109686108,37.001478080312154 z\" /></g></g></svg>"
      ],
      "text/plain": [
       "<shapely.geometry.multipolygon.MultiPolygon at 0x7f33ae62a940>"
      ]
     },
     "metadata": {},
     "output_type": "display_data"
    }
   ],
   "source": [
    "id_ = rand_id()\n",
    "print(id_)\n",
    "print(extract(id_, us_cubes, attribute='OBJECTID'))\n",
    "display(get_region_record(id_, attribute='OBJECTID').geometry)"
   ]
  },
  {
   "cell_type": "code",
   "execution_count": 25,
   "metadata": {},
   "outputs": [
    {
     "name": "stdout",
     "output_type": "stream",
     "text": [
      "CPU times: user 3.18 s, sys: 2.89 s, total: 6.08 s\n",
      "Wall time: 4.13 s\n"
     ]
    },
    {
     "data": {
      "text/html": [
       "<div>\n",
       "<style scoped>\n",
       "    .dataframe tbody tr th:only-of-type {\n",
       "        vertical-align: middle;\n",
       "    }\n",
       "\n",
       "    .dataframe tbody tr th {\n",
       "        vertical-align: top;\n",
       "    }\n",
       "\n",
       "    .dataframe thead th {\n",
       "        text-align: right;\n",
       "    }\n",
       "</style>\n",
       "<table border=\"1\" class=\"dataframe\">\n",
       "  <thead>\n",
       "    <tr style=\"text-align: right;\">\n",
       "      <th></th>\n",
       "      <th>objectid</th>\n",
       "      <th>fips</th>\n",
       "      <th>county_name</th>\n",
       "      <th>state_name</th>\n",
       "      <th>date</th>\n",
       "      <th>precipitation_flux_max (kg m-2 s-1)</th>\n",
       "      <th>precipitation_flux_mean (kg m-2 s-1)</th>\n",
       "    </tr>\n",
       "  </thead>\n",
       "  <tbody>\n",
       "    <tr>\n",
       "      <th>0</th>\n",
       "      <td>899</td>\n",
       "      <td>20021</td>\n",
       "      <td>Cherokee</td>\n",
       "      <td>Kansas</td>\n",
       "      <td>2020-01-01</td>\n",
       "      <td>0.000000</td>\n",
       "      <td>0.000000e+00</td>\n",
       "    </tr>\n",
       "    <tr>\n",
       "      <th>1</th>\n",
       "      <td>899</td>\n",
       "      <td>20021</td>\n",
       "      <td>Cherokee</td>\n",
       "      <td>Kansas</td>\n",
       "      <td>2020-01-02</td>\n",
       "      <td>0.000000</td>\n",
       "      <td>0.000000e+00</td>\n",
       "    </tr>\n",
       "    <tr>\n",
       "      <th>2</th>\n",
       "      <td>899</td>\n",
       "      <td>20021</td>\n",
       "      <td>Cherokee</td>\n",
       "      <td>Kansas</td>\n",
       "      <td>2020-01-03</td>\n",
       "      <td>0.000002</td>\n",
       "      <td>7.629394e-08</td>\n",
       "    </tr>\n",
       "    <tr>\n",
       "      <th>3</th>\n",
       "      <td>899</td>\n",
       "      <td>20021</td>\n",
       "      <td>Cherokee</td>\n",
       "      <td>Kansas</td>\n",
       "      <td>2020-01-04</td>\n",
       "      <td>0.000000</td>\n",
       "      <td>0.000000e+00</td>\n",
       "    </tr>\n",
       "    <tr>\n",
       "      <th>4</th>\n",
       "      <td>899</td>\n",
       "      <td>20021</td>\n",
       "      <td>Cherokee</td>\n",
       "      <td>Kansas</td>\n",
       "      <td>2020-01-05</td>\n",
       "      <td>0.000000</td>\n",
       "      <td>0.000000e+00</td>\n",
       "    </tr>\n",
       "    <tr>\n",
       "      <th>...</th>\n",
       "      <td>...</td>\n",
       "      <td>...</td>\n",
       "      <td>...</td>\n",
       "      <td>...</td>\n",
       "      <td>...</td>\n",
       "      <td>...</td>\n",
       "      <td>...</td>\n",
       "    </tr>\n",
       "    <tr>\n",
       "      <th>86</th>\n",
       "      <td>899</td>\n",
       "      <td>20021</td>\n",
       "      <td>Cherokee</td>\n",
       "      <td>Kansas</td>\n",
       "      <td>2020-03-27</td>\n",
       "      <td>0.000033</td>\n",
       "      <td>1.977285e-06</td>\n",
       "    </tr>\n",
       "    <tr>\n",
       "      <th>87</th>\n",
       "      <td>899</td>\n",
       "      <td>20021</td>\n",
       "      <td>Cherokee</td>\n",
       "      <td>Kansas</td>\n",
       "      <td>2020-03-28</td>\n",
       "      <td>0.001091</td>\n",
       "      <td>7.574081e-05</td>\n",
       "    </tr>\n",
       "    <tr>\n",
       "      <th>88</th>\n",
       "      <td>899</td>\n",
       "      <td>20021</td>\n",
       "      <td>Cherokee</td>\n",
       "      <td>Kansas</td>\n",
       "      <td>2020-03-29</td>\n",
       "      <td>0.000000</td>\n",
       "      <td>0.000000e+00</td>\n",
       "    </tr>\n",
       "    <tr>\n",
       "      <th>89</th>\n",
       "      <td>899</td>\n",
       "      <td>20021</td>\n",
       "      <td>Cherokee</td>\n",
       "      <td>Kansas</td>\n",
       "      <td>2020-03-30</td>\n",
       "      <td>0.000133</td>\n",
       "      <td>6.167094e-06</td>\n",
       "    </tr>\n",
       "    <tr>\n",
       "      <th>90</th>\n",
       "      <td>899</td>\n",
       "      <td>20021</td>\n",
       "      <td>Cherokee</td>\n",
       "      <td>Kansas</td>\n",
       "      <td>2020-03-31</td>\n",
       "      <td>0.000493</td>\n",
       "      <td>1.368014e-04</td>\n",
       "    </tr>\n",
       "  </tbody>\n",
       "</table>\n",
       "<p>91 rows × 7 columns</p>\n",
       "</div>"
      ],
      "text/plain": [
       "    objectid   fips county_name state_name        date  \\\n",
       "0        899  20021    Cherokee     Kansas  2020-01-01   \n",
       "1        899  20021    Cherokee     Kansas  2020-01-02   \n",
       "2        899  20021    Cherokee     Kansas  2020-01-03   \n",
       "3        899  20021    Cherokee     Kansas  2020-01-04   \n",
       "4        899  20021    Cherokee     Kansas  2020-01-05   \n",
       "..       ...    ...         ...        ...         ...   \n",
       "86       899  20021    Cherokee     Kansas  2020-03-27   \n",
       "87       899  20021    Cherokee     Kansas  2020-03-28   \n",
       "88       899  20021    Cherokee     Kansas  2020-03-29   \n",
       "89       899  20021    Cherokee     Kansas  2020-03-30   \n",
       "90       899  20021    Cherokee     Kansas  2020-03-31   \n",
       "\n",
       "    precipitation_flux_max (kg m-2 s-1)  precipitation_flux_mean (kg m-2 s-1)  \n",
       "0                              0.000000                          0.000000e+00  \n",
       "1                              0.000000                          0.000000e+00  \n",
       "2                              0.000002                          7.629394e-08  \n",
       "3                              0.000000                          0.000000e+00  \n",
       "4                              0.000000                          0.000000e+00  \n",
       "..                                  ...                                   ...  \n",
       "86                             0.000033                          1.977285e-06  \n",
       "87                             0.001091                          7.574081e-05  \n",
       "88                             0.000000                          0.000000e+00  \n",
       "89                             0.000133                          6.167094e-06  \n",
       "90                             0.000493                          1.368014e-04  \n",
       "\n",
       "[91 rows x 7 columns]"
      ]
     },
     "execution_count": 25,
     "metadata": {},
     "output_type": "execute_result"
    }
   ],
   "source": [
    "%%time\n",
    "df_ex = extract_collapse_df(id_)\n",
    "df_ex"
   ]
  },
  {
   "cell_type": "markdown",
   "metadata": {},
   "source": [
    "## Save dataframe to csv for each location"
   ]
  },
  {
   "cell_type": "code",
   "execution_count": 89,
   "metadata": {},
   "outputs": [
    {
     "name": "stdout",
     "output_type": "stream",
     "text": [
      "0: precipitation_flux / (kg m-2 s-1)   (time: 91; latitude: 608; longitude: 811)\n",
      "1: precipitation_flux / (kg m-2 s-1)   (time: 91; latitude: 608; longitude: 811)\n"
     ]
    }
   ],
   "source": [
    "print(us_cubes)"
   ]
  },
  {
   "cell_type": "code",
   "execution_count": 26,
   "metadata": {},
   "outputs": [
    {
     "data": {
      "text/plain": [
       "3"
      ]
     },
     "execution_count": 26,
     "metadata": {},
     "output_type": "execute_result"
    }
   ],
   "source": [
    "unwritten = region_ids\n",
    "len(csvs)"
   ]
  },
  {
   "cell_type": "code",
   "execution_count": null,
   "metadata": {},
   "outputs": [
    {
     "name": "stdout",
     "output_type": "stream",
     "text": [
      "  [4] 01007, Bibb, Alabama: Success\n",
      "  [5] 01009, Blount, Alabama: Success\n",
      "  [6] 01011, Bullock, Alabama: Success\n",
      "  [7] 01013, Butler, Alabama: Success\n",
      "  [8] 01015, Calhoun, Alabama: Success\n",
      "  [9] 01017, Chambers, Alabama: Success\n",
      "  [10] 01019, Cherokee, Alabama: Success\n",
      "  [11] 01021, Chilton, Alabama: Success\n",
      "  [12] 01023, Choctaw, Alabama: Success\n",
      "  [13] 01025, Clarke, Alabama: Success\n",
      "  [14] 01027, Clay, Alabama: Success\n",
      "  [15] 01029, Cleburne, Alabama: Success\n",
      "  [16] 01031, Coffee, Alabama: Success\n",
      "  [17] 01033, Colbert, Alabama: Success\n",
      "  [18] 01035, Conecuh, Alabama: Success\n",
      "  [19] 01037, Coosa, Alabama: Success\n",
      "  [20] 01039, Covington, Alabama: Success\n",
      "  [21] 01041, Crenshaw, Alabama: Success\n",
      "  [22] 01043, Cullman, Alabama: Success\n",
      "  [23] 01045, Dale, Alabama: Success\n",
      "  [24] 01047, Dallas, Alabama: Success\n",
      "  [25] 01049, DeKalb, Alabama: Success\n",
      "  [26] 01051, Elmore, Alabama: Success\n",
      "  [27] 01053, Escambia, Alabama: Success\n",
      "  [28] 01055, Etowah, Alabama: Success\n",
      "  [29] 01057, Fayette, Alabama: Success\n",
      "  [30] 01059, Franklin, Alabama: Success\n",
      "  [31] 01061, Geneva, Alabama: Success\n",
      "  [32] 01063, Greene, Alabama: Success\n",
      "  [33] 01065, Hale, Alabama: Success\n",
      "  [34] 01067, Henry, Alabama: Success\n",
      "  [35] 01069, Houston, Alabama: Success\n",
      "  [36] 01071, Jackson, Alabama: Success\n",
      "  [37] 01073, Jefferson, Alabama: Success\n",
      "  [38] 01075, Lamar, Alabama: Success\n",
      "  [39] 01077, Lauderdale, Alabama: Success\n",
      "  [40] 01079, Lawrence, Alabama: Success\n",
      "  [41] 01081, Lee, Alabama: Success\n",
      "  [42] 01083, Limestone, Alabama: Success\n",
      "  [43] 01085, Lowndes, Alabama: Success\n",
      "  [44] 01087, Macon, Alabama: Success\n",
      "  [45] 01089, Madison, Alabama: Success\n",
      "  [46] 01091, Marengo, Alabama: Success\n",
      "  [47] 01093, Marion, Alabama: Success\n",
      "  [48] 01095, Marshall, Alabama: Success\n",
      "  [49] 01097, Mobile, Alabama: Success\n",
      "  [50] 01099, Monroe, Alabama: Success\n",
      "  [51] 01101, Montgomery, Alabama: Success\n",
      "  [52] 01103, Morgan, Alabama: Success\n",
      "  [53] 01105, Perry, Alabama: Success\n",
      "  [54] 01107, Pickens, Alabama: Success\n",
      "  [55] 01109, Pike, Alabama: Success\n",
      "  [56] 01111, Randolph, Alabama: Success\n",
      "  [57] 01113, Russell, Alabama: Success\n",
      "  [58] 01115, St. Clair, Alabama: Success\n",
      "  [59] 01117, Shelby, Alabama: Success\n",
      "  [60] 01119, Sumter, Alabama: Success\n",
      "  [61] 01121, Talladega, Alabama: Success\n",
      "  [62] 01123, Tallapoosa, Alabama: Success\n",
      "  [63] 01125, Tuscaloosa, Alabama: Success\n",
      "  [64] 01127, Walker, Alabama: Success\n",
      "  [65] 01129, Washington, Alabama: Success\n",
      "  [66] 01131, Wilcox, Alabama: Success\n",
      "  [67] 01133, Winston, Alabama: Success\n",
      "  [68] 02013, Aleutians East, Alaska: Success\n",
      "  [69] 02016, Aleutians West, Alaska: Success\n",
      "  [70] 02020, Anchorage, Alaska: Success\n",
      "  [71] 02050, Bethel, Alaska: Success\n",
      "  [72] 02060, Bristol Bay, Alaska: Success\n",
      "  [73] 02068, Denali, Alaska: Success\n",
      "  [74] 02070, Dillingham, Alaska: Success\n",
      "  [75] 02090, Fairbanks North Star, Alaska: Success\n",
      "  [76] 02100, Haines, Alaska: Success\n",
      "  [77] 02105, Hoonah-Angoon, Alaska: Success\n",
      "  [78] 02110, Juneau, Alaska: Success\n",
      "  [79] 02122, Kenai Peninsula, Alaska: Success\n",
      "  [80] 02130, Ketchikan Gateway, Alaska: Success\n",
      "  [81] 02150, Kodiak Island, Alaska: Success\n",
      "  [82] 02158, Kusilvak, Alaska: Success\n",
      "  [83] 02164, Lake and Peninsula, Alaska: Success\n",
      "  [84] 02170, Matanuska-Susitna, Alaska: Success\n",
      "  [85] 02180, Nome, Alaska: Success\n",
      "  [86] 02185, North Slope, Alaska: Success\n",
      "  [87] 02188, Northwest Arctic, Alaska: Success\n",
      "  [88] 02195, Petersburg, Alaska: Success\n",
      "  [89] 02198, Prince of Wales-Hyder, Alaska: Success\n",
      "  [90] 02220, Sitka, Alaska: Success\n",
      "  [91] 02230, Skagway, Alaska: Success\n",
      "  [92] 02240, Southeast Fairbanks, Alaska: Success\n",
      "  [93] 02261, Valdez-Cordova, Alaska: Success\n",
      "  [94] 02275, Wrangell, Alaska: Success\n",
      "  [95] 02282, Yakutat, Alaska: Success\n",
      "  [96] 02290, Yukon-Koyukuk, Alaska: Success\n",
      "  [97] 04001, Apache, Arizona: Success\n",
      "  [98] 04003, Cochise, Arizona: Success\n",
      "  [99] 04005, Coconino, Arizona: Success\n",
      "  [100] 04007, Gila, Arizona: Success\n",
      "  [101] 04009, Graham, Arizona: Success\n",
      "  [102] 04011, Greenlee, Arizona: Success\n",
      "  [103] 04012, La Paz, Arizona: Success\n",
      "  [104] 04013, Maricopa, Arizona: Success\n",
      "  [105] 04015, Mohave, Arizona: Success\n",
      "  [106] 04017, Navajo, Arizona: Success\n",
      "  [107] 04019, Pima, Arizona: Success\n",
      "  [108] 04021, Pinal, Arizona: Success\n",
      "  [109] 04023, Santa Cruz, Arizona: Success\n",
      "  [110] 04025, Yavapai, Arizona: Success\n",
      "  [111] 04027, Yuma, Arizona: Success\n",
      "  [112] 05001, Arkansas, Arkansas: Success\n",
      "  [113] 05003, Ashley, Arkansas: Success\n",
      "  [114] 05005, Baxter, Arkansas: Success\n",
      "  [115] 05007, Benton, Arkansas: Success\n",
      "  [116] 05009, Boone, Arkansas: Success\n",
      "  [117] 05011, Bradley, Arkansas: Success\n",
      "  [118] 05013, Calhoun, Arkansas: Success\n",
      "  [119] 05015, Carroll, Arkansas: Success\n",
      "  [120] 05017, Chicot, Arkansas: Success\n",
      "  [121] 05019, Clark, Arkansas: Success\n",
      "  [122] 05021, Clay, Arkansas: Success\n",
      "  [123] 05023, Cleburne, Arkansas: Success\n",
      "  [124] 05025, Cleveland, Arkansas: Success\n",
      "  [125] 05027, Columbia, Arkansas: Success\n",
      "  [126] 05029, Conway, Arkansas: Success\n",
      "  [127] 05031, Craighead, Arkansas: Success\n",
      "  [128] 05033, Crawford, Arkansas: Success\n",
      "  [129] 05035, Crittenden, Arkansas: Success\n",
      "  [130] 05037, Cross, Arkansas: Success\n",
      "  [131] 05039, Dallas, Arkansas: Success\n",
      "  [132] 05041, Desha, Arkansas: Success\n",
      "  [133] 05043, Drew, Arkansas: Success\n",
      "  [134] 05045, Faulkner, Arkansas: Success\n",
      "  [135] 05047, Franklin, Arkansas: Success\n",
      "  [136] 05049, Fulton, Arkansas: Success\n",
      "  [137] 05051, Garland, Arkansas: Success\n",
      "  [138] 05053, Grant, Arkansas: Success\n",
      "  [139] 05055, Greene, Arkansas: Success\n",
      "  [140] 05057, Hempstead, Arkansas: Success\n",
      "  [141] 05059, Hot Spring, Arkansas: Success\n",
      "  [142] 05061, Howard, Arkansas: Success\n",
      "  [143] 05063, Independence, Arkansas: Success\n",
      "  [144] 05065, Izard, Arkansas: Success\n",
      "  [145] 05067, Jackson, Arkansas: Success\n",
      "  [146] 05069, Jefferson, Arkansas: Success\n",
      "  [147] 05071, Johnson, Arkansas: Success\n",
      "  [148] 05073, Lafayette, Arkansas: Success\n",
      "  [149] 05075, Lawrence, Arkansas: Success\n",
      "  [150] 05077, Lee, Arkansas: Success\n",
      "  [151] 05079, Lincoln, Arkansas: Success\n",
      "  [152] 05081, Little River, Arkansas: Success\n",
      "  [153] 05083, Logan, Arkansas: Success\n",
      "  [154] 05085, Lonoke, Arkansas: Success\n",
      "  [155] 05087, Madison, Arkansas: Success\n",
      "  [156] 05089, Marion, Arkansas: Success\n",
      "  [157] 05091, Miller, Arkansas: Success\n",
      "  [158] 05093, Mississippi, Arkansas: Success\n",
      "  [159] 05095, Monroe, Arkansas: Success\n",
      "  [160] 05097, Montgomery, Arkansas: Success\n",
      "  [161] 05099, Nevada, Arkansas: Success\n",
      "  [162] 05101, Newton, Arkansas: Success\n",
      "  [163] 05103, Ouachita, Arkansas: Success\n",
      "  [164] 05105, Perry, Arkansas: Success\n",
      "  [165] 05107, Phillips, Arkansas: Success\n",
      "  [166] 05109, Pike, Arkansas: Success\n",
      "  [167] 05111, Poinsett, Arkansas: Success\n",
      "  [168] 05113, Polk, Arkansas: Success\n",
      "  [169] 05115, Pope, Arkansas: Success\n",
      "  [170] 05117, Prairie, Arkansas: Success\n",
      "  [171] 05119, Pulaski, Arkansas: Success\n",
      "  [172] 05121, Randolph, Arkansas: Success\n",
      "  [173] 05123, St. Francis, Arkansas: Success\n",
      "  [174] 05125, Saline, Arkansas: Success\n",
      "  [175] 05127, Scott, Arkansas: Success\n",
      "  [176] 05129, Searcy, Arkansas: Success\n",
      "  [177] 05131, Sebastian, Arkansas: Success\n",
      "  [178] 05133, Sevier, Arkansas: Success\n",
      "  [179] 05135, Sharp, Arkansas: Success\n",
      "  [180] 05137, Stone, Arkansas: Success\n",
      "  [181] 05139, Union, Arkansas: Success\n",
      "  [182] 05141, Van Buren, Arkansas: Success\n",
      "  [183] 05143, Washington, Arkansas: Success\n",
      "  [184] 05145, White, Arkansas: Success\n",
      "  [185] 05147, Woodruff, Arkansas: Success\n",
      "  [186] 05149, Yell, Arkansas: Success\n",
      "  [187] 06001, Alameda, California: Success\n",
      "  [188] 06003, Alpine, California: Success\n",
      "  [189] 06005, Amador, California: Success\n",
      "  [190] 06007, Butte, California: Success\n",
      "  [191] 06009, Calaveras, California: Success\n",
      "  [192] 06011, Colusa, California: Success\n",
      "  [193] 06013, Contra Costa, California: Success\n",
      "  [194] 06015, Del Norte, California: Success\n",
      "  [195] 06017, El Dorado, California: Success\n",
      "  [196] 06019, Fresno, California: Success\n",
      "  [197] 06021, Glenn, California: Success\n",
      "  [198] 06023, Humboldt, California: Success\n",
      "  [199] 06025, Imperial, California: Success\n",
      "  [200] 06027, Inyo, California: Success\n",
      "  [201] 06029, Kern, California: Success\n",
      "  [202] 06031, Kings, California: Success\n",
      "  [203] 06033, Lake, California: Success\n",
      "  [204] 06035, Lassen, California: Success\n",
      "  [205] 06037, Los Angeles, California: Success\n",
      "  [206] 06039, Madera, California: Success\n",
      "  [207] 06041, Marin, California: Success\n",
      "  [208] 06043, Mariposa, California: Success\n",
      "  [209] 06045, Mendocino, California: Success\n",
      "  [210] 06047, Merced, California: Success\n",
      "  [211] 06049, Modoc, California: Success\n",
      "  [212] 06051, Mono, California: Success\n",
      "  [213] 06053, Monterey, California: Success\n",
      "  [214] 06055, Napa, California: Success\n",
      "  [215] 06057, Nevada, California: Success\n",
      "  [216] 06059, Orange, California: Success\n",
      "  [217] 06061, Placer, California: Success\n",
      "  [218] 06063, Plumas, California: Success\n",
      "  [219] 06065, Riverside, California: Success\n",
      "  [220] 06067, Sacramento, California: Success\n",
      "  [221] 06069, San Benito, California: Success\n",
      "  [222] 06071, San Bernardino, California: Success\n",
      "  [223] 06073, San Diego, California: Success\n",
      "  [224] 06075, San Francisco, California: Success\n",
      "  [225] 06077, San Joaquin, California: Success\n",
      "  [226] 06079, San Luis Obispo, California: Success\n",
      "  [227] 06081, San Mateo, California: Success\n",
      "  [228] 06083, Santa Barbara, California: Success\n",
      "  [229] 06085, Santa Clara, California: Success\n",
      "  [230] 06087, Santa Cruz, California: Success\n",
      "  [231] 06089, Shasta, California: Success\n",
      "  [232] 06091, Sierra, California: Success\n",
      "  [233] 06093, Siskiyou, California: Success\n",
      "  [234] 06095, Solano, California: Success\n",
      "  [235] 06097, Sonoma, California: Success\n",
      "  [236] 06099, Stanislaus, California: Success\n",
      "  [237] 06101, Sutter, California: Success\n",
      "  [238] 06103, Tehama, California: Success\n",
      "  [239] 06105, Trinity, California: Success\n",
      "  [240] 06107, Tulare, California: Success\n",
      "  [241] 06109, Tuolumne, California: Success\n",
      "  [242] 06111, Ventura, California: Success\n",
      "  [243] 06113, Yolo, California: Success\n",
      "  [244] 06115, Yuba, California: Success\n",
      "  [245] 08001, Adams, Colorado: Success\n",
      "  [246] 08003, Alamosa, Colorado: Success\n",
      "  [247] 08005, Arapahoe, Colorado: Success\n",
      "  [248] 08007, Archuleta, Colorado: Success\n",
      "  [249] 08009, Baca, Colorado: Success\n",
      "  [250] 08011, Bent, Colorado: Success\n",
      "  [251] 08013, Boulder, Colorado: Success\n",
      "  [252] 08014, Broomfield, Colorado: Success\n",
      "  [253] 08015, Chaffee, Colorado: Success\n",
      "  [254] 08017, Cheyenne, Colorado: Success\n",
      "  [255] 08019, Clear Creek, Colorado: Success\n",
      "  [256] 08021, Conejos, Colorado: Success\n",
      "  [257] 08023, Costilla, Colorado: Success\n",
      "  [258] 08025, Crowley, Colorado: Success\n",
      "  [259] 08027, Custer, Colorado: Success\n",
      "  [260] 08029, Delta, Colorado: Success\n",
      "  [261] 08031, Denver, Colorado: Success\n",
      "  [262] 08033, Dolores, Colorado: Success\n",
      "  [263] 08035, Douglas, Colorado: Success\n",
      "  [264] 08037, Eagle, Colorado: Success\n",
      "  [265] 08039, Elbert, Colorado: Success\n",
      "  [266] 08041, El Paso, Colorado: Success\n",
      "  [267] 08043, Fremont, Colorado: Success\n",
      "  [268] 08045, Garfield, Colorado: Success\n",
      "  [269] 08047, Gilpin, Colorado: Success\n",
      "  [270] 08049, Grand, Colorado: Success\n"
     ]
    }
   ],
   "source": [
    "%%time\n",
    "dfs = []\n",
    "start = len(csvs)\n",
    "stop = len(region_ids)\n",
    "for location in unwritten[start:]:\n",
    "    try:\n",
    "        df = extract_collapse_df(location)\n",
    "#         dfs.append(df)\n",
    "        fname = df['fips'][0]\n",
    "        county = df['county_name'][0]\n",
    "        state = df['state_name'][0]\n",
    "        df.to_csv(f'/data/misc/covid-19/us_data_precip/us_{fname}_daily_precipdata_2020jan-mar.csv', index=False)\n",
    "        print(f'  [{location}] {fname}, {county}, {state}: Success')\n",
    "#         display(df.iloc[[0]])\n",
    "    except Exception as e:\n",
    "        print(f'x [{location}] {fname}, {county}, {state}: Error \\n  x  {e}')"
   ]
  },
  {
   "cell_type": "markdown",
   "metadata": {},
   "source": [
    "## Open all the written CSVs and concatinate into one big DataFrame"
   ]
  },
  {
   "cell_type": "code",
   "execution_count": null,
   "metadata": {},
   "outputs": [],
   "source": [
    "%%time\n",
    "Mdf = pd.concat([pd.read_csv(csv) for csv in csvs], ignore_index=True)\n",
    "Mdf"
   ]
  },
  {
   "cell_type": "code",
   "execution_count": null,
   "metadata": {},
   "outputs": [],
   "source": [
    "def df_hists(df):\n",
    "    for col in df:\n",
    "        plt.hist(df[col])\n",
    "        plt.title(f'{col}')\n",
    "        plt.show()"
   ]
  },
  {
   "cell_type": "code",
   "execution_count": null,
   "metadata": {},
   "outputs": [],
   "source": [
    "Mdf[Mdf.columns[5:]]"
   ]
  },
  {
   "cell_type": "code",
   "execution_count": null,
   "metadata": {},
   "outputs": [],
   "source": [
    "%%time\n",
    "df_hists(Mdf[Mdf.columns[5:]])"
   ]
  },
  {
   "cell_type": "code",
   "execution_count": null,
   "metadata": {},
   "outputs": [],
   "source": [
    "%%time\n",
    "Mdf.to_csv(f'/data/misc/covid-19/us_data/us_daily_meteodata_2020jan-mar_v01.csv', index=False)"
   ]
  },
  {
   "cell_type": "code",
   "execution_count": null,
   "metadata": {},
   "outputs": [],
   "source": [
    "%%time\n",
    "mdf = pd.read_csv('/data/misc/covid-19/us_data/us_daily_meteodata_2020jan-mar_v01.csv')\n",
    "df_hists(mdf[mdf.columns[5:]])"
   ]
  },
  {
   "cell_type": "code",
   "execution_count": null,
   "metadata": {},
   "outputs": [],
   "source": [
    "[[Alexandria, Virginia],\n",
    "[Chesapeake, Virginia],\n",
    "[Danville, Virginia],\n",
    "[Fairfax City, Virginia],\n",
    "[Manassas, Virginia],\n",
    "[Waynesboro, Virginia]]"
   ]
  },
  {
   "cell_type": "code",
   "execution_count": null,
   "metadata": {},
   "outputs": [],
   "source": [
    "get_region_record('Waynesboro', attribute='NAME')"
   ]
  },
  {
   "cell_type": "code",
   "execution_count": null,
   "metadata": {},
   "outputs": [],
   "source": []
  }
 ],
 "metadata": {
  "kernelspec": {
   "display_name": "Python (cloudreadydata)",
   "language": "python",
   "name": "cloudreadydata"
  },
  "language_info": {
   "codemirror_mode": {
    "name": "ipython",
    "version": 3
   },
   "file_extension": ".py",
   "mimetype": "text/x-python",
   "name": "python",
   "nbconvert_exporter": "python",
   "pygments_lexer": "ipython3",
   "version": "3.6.10"
  }
 },
 "nbformat": 4,
 "nbformat_minor": 4
}
